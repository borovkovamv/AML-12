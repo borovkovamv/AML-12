{
 "cells": [
  {
   "cell_type": "markdown",
   "metadata": {
    "colab_type": "text",
    "id": "fi3KwQ3vvEoh"
   },
   "source": [
    "### Домашнее задание \"Случайные марковские процессы\""
   ]
  },
  {
   "cell_type": "code",
   "execution_count": 93,
   "metadata": {
    "ExecuteTime": {
     "end_time": "2019-12-04T16:21:22.082489Z",
     "start_time": "2019-12-04T16:21:20.490581Z"
    },
    "colab": {},
    "colab_type": "code",
    "id": "GLqasDU9vEok"
   },
   "outputs": [],
   "source": [
    "import numpy as np\n",
    "import re\n",
    "import matplotlib.pyplot as plt\n",
    "import seaborn as sns\n",
    "import pandas as pd\n",
    "from hmmlearn.hmm import GaussianHMM\n",
    "%matplotlib inline"
   ]
  },
  {
   "cell_type": "code",
   "execution_count": 94,
   "metadata": {
    "ExecuteTime": {
     "end_time": "2019-12-04T16:21:22.105164Z",
     "start_time": "2019-12-04T16:21:22.085894Z"
    },
    "colab": {},
    "colab_type": "code",
    "id": "E3m5VxYlvEoq"
   },
   "outputs": [],
   "source": [
    "text = \" \"\n",
    "for i in range(1, 5):\n",
    "    with open(f'tom_{i}.txt', 'r',  encoding='utf-8') as f:\n",
    "        tom = f.read().lower()\n",
    "    text = text + re.sub('[^а-я ]','', tom)"
   ]
  },
  {
   "cell_type": "code",
   "execution_count": 95,
   "metadata": {},
   "outputs": [
    {
     "data": {
      "text/plain": [
       "' лев толстойвойна и миртом   том часть перваячасть ораячасть третья  том лев николаевич толстойвойна и миртом часть первая е              поместья                                                       мой верный раб    ну что князь генуа и лукка стали не больше как поместьями фамилии бонапарте нет я вас предупреждаю если вы мне не скажете что у нас война если вы еще позволите себе защищать все гадости все ужасы этого антихриста право я верю что он антихрист  я вас больше не знаю вы уж не друг мо'"
      ]
     },
     "execution_count": 95,
     "metadata": {},
     "output_type": "execute_result"
    }
   ],
   "source": [
    "text[:500]"
   ]
  },
  {
   "cell_type": "code",
   "execution_count": 99,
   "metadata": {
    "ExecuteTime": {
     "end_time": "2019-12-04T16:21:22.110466Z",
     "start_time": "2019-12-04T16:21:22.107189Z"
    },
    "colab": {},
    "colab_type": "code",
    "id": "tz_a_yxZvEou"
   },
   "outputs": [],
   "source": [
    "RUSSIAN = 'абвгдеёжзийклмнопрстуфхцчшщъыьэюя '\n",
    "POS = {l: i for i, l in enumerate(RUSSIAN)}"
   ]
  },
  {
   "cell_type": "code",
   "execution_count": 100,
   "metadata": {
    "ExecuteTime": {
     "end_time": "2019-12-04T16:21:22.118330Z",
     "start_time": "2019-12-04T16:21:22.114822Z"
    },
    "colab": {},
    "colab_type": "code",
    "id": "6nKIuSirvEo0"
   },
   "outputs": [],
   "source": [
    "probabilities = np.zeros((len(RUSSIAN), len(RUSSIAN)))"
   ]
  },
  {
   "cell_type": "code",
   "execution_count": 101,
   "metadata": {
    "ExecuteTime": {
     "end_time": "2019-12-04T16:21:22.209934Z",
     "start_time": "2019-12-04T16:21:22.123092Z"
    },
    "colab": {},
    "colab_type": "code",
    "id": "X0nBSDXovEo3"
   },
   "outputs": [],
   "source": [
    "for cp, cn in zip(text[:-1], text[1:]):\n",
    "    probabilities[POS[cp], POS[cn]] += 1"
   ]
  },
  {
   "cell_type": "code",
   "execution_count": 102,
   "metadata": {
    "ExecuteTime": {
     "end_time": "2019-12-04T16:21:22.216332Z",
     "start_time": "2019-12-04T16:21:22.212227Z"
    },
    "colab": {
     "base_uri": "https://localhost:8080/",
     "height": 51
    },
    "colab_type": "code",
    "id": "K8C331muvEo7",
    "outputId": "f76529c0-33b2-4b94-fef4-99fdc6cfc662"
   },
   "outputs": [
    {
     "name": "stderr",
     "output_type": "stream",
     "text": [
      "C:\\ProgramData\\Anaconda3\\lib\\site-packages\\ipykernel_launcher.py:1: RuntimeWarning: invalid value encountered in true_divide\n",
      "  \"\"\"Entry point for launching an IPython kernel.\n"
     ]
    }
   ],
   "source": [
    "probabilities = (probabilities / probabilities.sum(axis=1)[:, None])"
   ]
  },
  {
   "cell_type": "code",
   "execution_count": 103,
   "metadata": {
    "ExecuteTime": {
     "end_time": "2019-12-04T16:21:22.224530Z",
     "start_time": "2019-12-04T16:21:22.220450Z"
    },
    "colab": {},
    "colab_type": "code",
    "id": "mALyKhOavEo_"
   },
   "outputs": [],
   "source": [
    "df = pd.DataFrame(probabilities, index=(c for c in RUSSIAN), columns=(c for c in RUSSIAN))"
   ]
  },
  {
   "cell_type": "markdown",
   "metadata": {
    "colab_type": "text",
    "id": "-kQDE4trvEpE"
   },
   "source": [
    "Матрица переходных вероятностей"
   ]
  },
  {
   "cell_type": "code",
   "execution_count": 104,
   "metadata": {
    "ExecuteTime": {
     "end_time": "2019-12-04T16:21:25.999947Z",
     "start_time": "2019-12-04T16:21:22.374584Z"
    },
    "colab": {
     "base_uri": "https://localhost:8080/",
     "height": 866
    },
    "colab_type": "code",
    "id": "qkkZL9qGvEpE",
    "outputId": "f28de539-62e1-4b32-bdba-e42a72d728cd"
   },
   "outputs": [
    {
     "data": {
      "image/png": "[encoded data removed]",
      "text/plain": [
       "<Figure size 1080x1080 with 2 Axes>"
      ]
     },
     "metadata": {
      "needs_background": "light"
     },
     "output_type": "display_data"
    }
   ],
   "source": [
    "plt.figure(figsize=(15,15))\n",
    "sns.heatmap(df)\n",
    "plt.show()"
   ]
  },
  {
   "cell_type": "markdown",
   "metadata": {
    "colab_type": "text",
    "id": "gOjb_jAOvEpI"
   },
   "source": [
    "Вероятность встретить строку из 4-х символов, которая начинается п, а кончается на р"
   ]
  },
  {
   "cell_type": "code",
   "execution_count": 105,
   "metadata": {
    "ExecuteTime": {
     "end_time": "2019-12-04T16:21:27.553977Z",
     "start_time": "2019-12-04T16:21:27.546102Z"
    },
    "colab": {
     "base_uri": "https://localhost:8080/",
     "height": 1000
    },
    "colab_type": "code",
    "id": "72c6pGlovEpI",
    "outputId": "0c387533-3569-4678-d528-d794dac10d76"
   },
   "outputs": [
    {
     "name": "stdout",
     "output_type": "stream",
     "text": [
      "паар 1.2483021244621608e-08\n",
      "пабр 1.0155553856672825e-06\n",
      "павр 1.15917977686471e-06\n",
      "пагр 1.2848114697473956e-06\n",
      "падр 2.942105165838902e-06\n",
      "паер 1.9503146628298786e-06\n",
      "пажр 7.311949848239609e-09\n",
      "пазр 1.2095790878783555e-06\n",
      "паир 2.547790864803073e-08\n",
      "пайр 2.7599678947720997e-08\n",
      "пакр 4.840852058790128e-06\n",
      "палр 3.3611556905914123e-09\n",
      "памр 1.0930948458598652e-07\n",
      "панр 1.161326477180596e-07\n",
      "паор 4.339681014540716e-08\n",
      "папр 5.626388035700382e-06\n",
      "парр 2.870279020272537e-08\n",
      "паср 5.043304580053417e-07\n",
      "патр 5.531903526415092e-06\n",
      "паур 6.923602698965342e-08\n",
      "пафр 3.17685218286211e-06\n",
      "пахр 2.440818119506081e-07\n",
      "пачр 2.6506060145138035e-08\n",
      "пашр 5.266004634220631e-09\n",
      "пащр 4.5451641687422465e-09\n",
      "паэр 3.402682747656317e-10\n",
      "паюр 1.6147067665876867e-07\n",
      "паяр 1.4938299828069804e-07\n",
      "па р 8.697579884154568e-06\n",
      "пвар 2.806393138584855e-09\n",
      "пвбр 1.5943951085774744e-11\n",
      "пввр 8.160012706997085e-12\n",
      "пвгр 3.321084346893555e-11\n",
      "пвдр 2.685575343020761e-10\n",
      "пвер 5.0598785244545456e-09\n",
      "пвжр 3.909391636356634e-15\n",
      "пвзр 8.485947199242463e-11\n",
      "пвир 3.4417302804595177e-10\n",
      "пвкр 9.058952969541634e-11\n",
      "пвлр 2.22134437135777e-13\n",
      "пвмр 2.9708315496577252e-12\n",
      "пвнр 1.5920527252601768e-11\n",
      "пвор 5.876751056290759e-09\n",
      "пвпр 8.469412347334035e-10\n",
      "пврр 3.5333408060460425e-12\n",
      "пвср 2.4696267644013056e-10\n",
      "пвтр 1.301550851898549e-10\n",
      "пвур 2.4959638883297853e-10\n",
      "пвхр 6.1180208840771015e-12\n",
      "пвчр 7.994681815784267e-13\n",
      "пвшр 2.7342751503680497e-12\n",
      "пвщр 4.421573606688116e-14\n",
      "пвыр 5.540219767981853e-10\n",
      "пвьр 2.686495774232915e-13\n",
      "пвэр 2.3923415740680712e-14\n",
      "пвюр 8.856246906540025e-14\n",
      "пвяр 7.2119624271096035e-12\n",
      "пв р 1.896664652575938e-09\n",
      "пгар 2.7249774596201765e-08\n",
      "пгвр 4.436560905678489e-10\n",
      "пггр 5.4033442194934336e-11\n",
      "пгдр 5.12897753230881e-08\n",
      "пгер 3.340969312304979e-08\n",
      "пгжр 2.2049766435064348e-13\n",
      "пгзр 1.4362332642932873e-11\n",
      "пгир 4.498536138182419e-09\n",
      "пгкр 2.90402163873748e-09\n",
      "пглр 1.7619790324504248e-11\n",
      "пгмр 5.569893426544877e-12\n",
      "пгнр 2.0614536940227441e-10\n",
      "пгор 3.970350403816112e-07\n",
      "пгпр 3.57553993969456e-10\n",
      "пгрр 3.6836255861321427e-10\n",
      "пгср 3.1501957346780687e-10\n",
      "пгтр 3.386075807695984e-10\n",
      "пгур 1.1226231408067468e-08\n",
      "пгчр 3.089612133324165e-11\n",
      "пгшр 9.171064925242578e-13\n",
      "пгыр 1.3812274859568236e-11\n",
      "пгьр 1.7218618492887004e-13\n",
      "пгюр 2.2477967744133814e-11\n",
      "пгяр 2.210703233450169e-12\n",
      "пг р 1.3030361077864024e-08\n",
      "пеар 6.454453560778109e-08\n",
      "пебр 3.933220337114444e-06\n",
      "певр 1.1180569698618016e-06\n",
      "пегр 1.1112317321777153e-05\n",
      "педр 8.479313157162546e-06\n",
      "пеер 6.995484669126445e-06\n",
      "пежр 1.3808591282302921e-08\n",
      "пезр 7.764180742105648e-07\n",
      "пеир 7.881394443052994e-08\n",
      "пейр 2.2473996773668356e-07\n",
      "пекр 2.532688413887791e-06\n",
      "пелр 4.8533499205862395e-09\n",
      "пемр 3.284498963840077e-07\n",
      "пенр 3.957598784413334e-07\n",
      "пеор 1.5140541167471288e-06\n",
      "пепр 1.2112841989055931e-05\n",
      "перр 1.3617134865478236e-07\n",
      "песр 1.1175937985141603e-06\n",
      "петр 8.928168115790403e-06\n",
      "пеур 8.512088507606121e-08\n",
      "пефр 1.3943172391504244e-07\n",
      "пехр 5.030857582432942e-07\n",
      "печр 7.052703900795342e-08\n",
      "пешр 5.818518765076392e-09\n",
      "пещр 2.4594683640113348e-08\n",
      "пеэр 3.576774544257027e-10\n",
      "пеюр 1.2032684187958288e-07\n",
      "пеяр 4.697835841483147e-08\n",
      "пе р 1.8546203332655284e-05\n",
      "пиар 5.967411826270543e-08\n",
      "пибр 5.459409715410456e-07\n",
      "пивр 6.842020843696847e-07\n",
      "пигр 5.90631774160947e-07\n",
      "пидр 1.8546981678746803e-06\n",
      "пиер 4.289367984406504e-06\n",
      "пижр 1.8979873157255343e-09\n",
      "пизр 4.6351447426756884e-07\n",
      "пиир 1.265525109137505e-07\n",
      "пийр 4.178881947577766e-08\n",
      "пикр 1.7287989693259586e-06\n",
      "пилр 1.3637523722204828e-09\n",
      "пимр 8.971379325348403e-08\n",
      "пинр 6.072493232656283e-08\n",
      "пиор 2.1241616794765812e-07\n",
      "пипр 9.950170998288835e-07\n",
      "пирр 3.981080896728387e-09\n",
      "писр 3.185307513650526e-07\n",
      "питр 2.8851694880261676e-06\n",
      "пиур 3.7692110208456785e-09\n",
      "пифр 1.3205782585103923e-07\n",
      "пихр 3.4516809478058113e-07\n",
      "пичр 3.427442930613982e-08\n",
      "пишр 1.1083537831930436e-09\n",
      "пищр 2.117819777299131e-09\n",
      "пиьр 8.421218735432169e-13\n",
      "пиэр 2.6397003937884215e-10\n",
      "пиюр 5.7471271600545965e-08\n",
      "пияр 8.963169749034543e-08\n",
      "пи р 7.781067481658979e-06\n",
      "пкар 9.608073062510021e-07\n",
      "пкбр 2.7195876011408136e-10\n",
      "пквр 1.8073380254246373e-08\n",
      "пкгр 5.846396727165107e-10\n",
      "пкдр 1.6001790026423905e-09\n",
      "пкер 1.2451911411526207e-07\n",
      "пкжр 1.5337130564184546e-11\n",
      "пкзр 2.1644980766538813e-10\n",
      "пкир 7.078358956912856e-08\n",
      "пккр 2.540813806433029e-09\n",
      "пклр 2.0814234594919834e-11\n",
      "пкмр 3.443772742721732e-11\n",
      "пкнр 5.4462759276670225e-09\n",
      "пкор 1.68476924651056e-06\n",
      "пкпр 5.305672927736972e-09\n",
      "пкрр 2.2178922680908147e-09\n",
      "пкср 2.2723327486346923e-09\n",
      "пктр 7.67497087839693e-08\n",
      "пкур 1.1531260217277169e-07\n",
      "пкфр 3.252187911558752e-10\n",
      "пкхр 2.758840785073701e-11\n",
      "пкчр 9.680351090149354e-11\n",
      "пкшр 4.92422297386199e-12\n",
      "пкьр 3.1937958857811645e-13\n",
      "пкюр 1.8530339619572643e-10\n",
      "пк р 3.533785449031611e-07\n",
      "плар 6.099503271984703e-06\n",
      "плбр 4.0950449395162867e-08\n",
      "плвр 4.277869618161566e-09\n",
      "плгр 1.9483564471877995e-07\n",
      "плдр 3.8555541968301293e-07\n",
      "плер 8.32399839462058e-06\n",
      "плжр 2.242763555269671e-09\n",
      "плзр 1.6838646611881503e-09\n",
      "плир 1.2325148404619941e-06\n",
      "плкр 6.274116024237179e-07\n",
      "пллр 3.6408689183827934e-11\n",
      "плмр 2.7572120904129014e-10\n",
      "плнр 7.271546893140373e-09\n",
      "плор 8.436286936991522e-06\n",
      "плпр 1.1089302728763238e-06\n",
      "плрр 7.266029355121452e-12\n",
      "плср 1.6857802199388243e-07\n",
      "плтр 5.081463940487325e-08\n",
      "плур 6.3570321255202e-07\n",
      "плфр 3.289038535699562e-08\n",
      "плхр 1.2090438881500901e-09\n",
      "плчр 7.04882836451059e-09\n",
      "плшр 3.1691032990415915e-11\n",
      "плщр 4.961670980085382e-11\n",
      "плыр 3.9483959588310154e-07\n",
      "пльр 1.0601886999676073e-08\n",
      "плэр 4.218605701504001e-11\n",
      "плюр 2.2761664993431685e-07\n",
      "пляр 1.1378870416649101e-07\n",
      "пл р 3.8083102388039487e-06\n",
      "пмар 2.1900353719737574e-09\n",
      "пмбр 3.732924399636885e-11\n",
      "пмвр 5.278222213645427e-12\n",
      "пмгр 7.277151297632962e-11\n",
      "пмдр 9.549637216166755e-12\n",
      "пмер 5.055555073340947e-09\n",
      "пмзр 8.942823664728552e-13\n",
      "пмир 5.565034353825903e-10\n",
      "пмйр 1.4087349222258249e-14\n",
      "пмкр 7.998593219159176e-11\n",
      "пмлр 3.766002550268887e-14\n",
      "пммр 8.991473065484743e-13\n",
      "пмнр 2.4693418102315065e-11\n",
      "пмор 4.2738710117629725e-09\n",
      "пмпр 1.0805165919666848e-09\n",
      "пмрр 3.955382595905089e-13\n",
      "пмср 1.526760434790779e-11\n",
      "пмтр 4.797707931535185e-11\n",
      "пмур 1.1445785358701723e-09\n",
      "пмфр 3.8817175657103386e-11\n",
      "пмхр 3.29287268375766e-13\n",
      "пмчр 8.550098739417775e-13\n",
      "пмшр 2.537972640988718e-14\n",
      "пмщр 7.528828462292151e-14\n",
      "пмыр 2.7992467486296755e-10\n",
      "пмьр 9.148854072350197e-14\n",
      "пмэр 2.9872746719005943e-13\n",
      "пмюр 5.460203055719998e-12\n",
      "пмяр 2.408386906889815e-11\n",
      "пм р 3.381822257205805e-09\n",
      "пнар 7.40450825857272e-07\n",
      "пнбр 1.4186650320230226e-09\n",
      "пнвр 7.923470317688059e-10\n",
      "пнгр 1.2373295765548069e-08\n",
      "пндр 9.722393442258604e-08\n",
      "пнер 1.3993220608163166e-06\n",
      "пнжр 6.933827285188113e-12\n",
      "пнзр 3.6478750489046933e-10\n",
      "пнир 1.1791677553957431e-07\n",
      "пнкр 1.8820796402915082e-08\n",
      "пнлр 1.0792927905083806e-13\n",
      "пнмр 1.0104941944266539e-11\n",
      "пннр 5.2401775318525876e-09\n",
      "пнор 9.257156590371205e-07\n",
      "пнпр 6.746241906773734e-09\n",
      "пнрр 4.8347090026375203e-11\n",
      "пнср 5.58407422173213e-09\n",
      "пнтр 3.718589199291678e-08\n",
      "пнур 9.359987891072997e-08\n",
      "пнфр 4.410885566244896e-09\n",
      "пнхр 1.2232701409221123e-10\n",
      "пнчр 4.78714142291131e-10\n",
      "пншр 6.538526192828789e-12\n",
      "пнщр 1.66716369929625e-10\n",
      "пныр 9.603466311864508e-08\n",
      "пньр 2.2558106001349013e-10\n",
      "пнэр 2.2847659367150302e-11\n",
      "пнюр 2.2715800870364314e-09\n",
      "пняр 1.2420612348820436e-08\n",
      "пн р 1.6895871321590903e-07\n",
      "поар 3.543232853024122e-08\n",
      "побр 2.9433951560885752e-05\n",
      "повр 1.4354422427861556e-05\n",
      "погр 3.84767361012238e-05\n",
      "подр 3.817691323612121e-05\n",
      "поер 2.580608653130366e-05\n",
      "пожр 5.651108433498959e-08\n",
      "позр 1.5161446294784434e-06\n",
      "поир 8.684719010786126e-07\n",
      "пойр 8.336796530829552e-07\n",
      "покр 9.854143733759376e-06\n",
      "полр 1.347481010200349e-08\n",
      "помр 1.0176901560971651e-06\n",
      "понр 8.83591523686163e-07\n",
      "поор 1.5951721584983336e-06\n",
      "попр 4.141720191311109e-05\n",
      "порр 3.251403629613592e-07\n",
      "поср 5.18237693814386e-06\n",
      "потр 4.234555465860182e-05\n",
      "поур 1.7859406692323597e-07\n",
      "пофр 9.670233347722085e-06\n",
      "похр 6.829508100443533e-07\n",
      "почр 2.4291971062341573e-07\n",
      "пошр 2.3529714066626633e-08\n",
      "пощр 1.4635540928410814e-08\n",
      "поэр 1.4294308768849633e-08\n",
      "поюр 5.465264345565823e-07\n",
      "пояр 2.094327861893779e-07\n",
      "по р 6.000997474952533e-05\n",
      "ппар 1.1647721622581755e-07\n",
      "ппвр 1.4338456232253399e-11\n",
      "ппгр 1.494831864290768e-09\n",
      "ппер 5.525894698390078e-07\n",
      "ппир 1.6155405699083378e-08\n",
      "ппкр 9.000306780330143e-09\n",
      "пплр 2.94858745899644e-11\n",
      "ппмр 1.6051120836166209e-12\n",
      "ппнр 1.9619467024346887e-10\n",
      "ппор 1.3194342463888785e-06\n",
      "пппр 2.744949334444256e-08\n",
      "ппрр 6.76421599147049e-09\n",
      "ппср 8.069441832312335e-11\n",
      "пптр 5.433183613423577e-09\n",
      "ппур 3.939906378512519e-08\n",
      "ппфр 1.1641467529527727e-08\n",
      "ппчр 3.219710545379011e-10\n",
      "ппшр 2.336866632469194e-12\n",
      "ппщр 3.920023919979004e-12\n",
      "ппыр 1.1224649769732633e-08\n",
      "ппьр 2.7116338996741165e-10\n",
      "ппэр 9.332279167773146e-12\n",
      "ппяр 2.2730750280427614e-09\n",
      "пп р 2.1710783114595094e-09\n",
      "прар 7.43645140131875e-05\n",
      "прбр 2.4080005500695403e-06\n",
      "првр 1.0304989228950847e-06\n",
      "пргр 4.4089745064057475e-06\n",
      "прдр 5.1312225650960956e-06\n",
      "прер 0.00011985973476310438\n",
      "пржр 1.9642199206258384e-08\n",
      "прзр 1.0636901695776507e-07\n",
      "прир 9.85205107249735e-06\n",
      "пркр 2.755181745304162e-06\n",
      "прлр 2.8244649561299754e-10\n",
      "прмр 1.1116124700416614e-07\n",
      "прнр 1.5589234136976077e-07\n",
      "прор 9.147367042682817e-05\n",
      "прпр 3.790941661447683e-06\n",
      "пррр 1.6668656650644015e-09\n",
      "прср 3.128951105797296e-07\n",
      "пртр 6.229816276358388e-06\n",
      "прур 1.5378847130707658e-05\n",
      "прфр 9.622900517929472e-07\n",
      "прхр 2.384006601993391e-07\n",
      "прчр 2.447691287701323e-08\n",
      "пршр 1.1304013162975997e-08\n",
      "прщр 8.837217655728493e-09\n",
      "прыр 6.1247922043714675e-06\n",
      "прьр 2.755570342137645e-08\n",
      "прэр 8.415395815245307e-10\n",
      "прюр 2.8972370119075066e-07\n",
      "пряр 6.2526523735534e-07\n",
      "пр р 6.610362646744207e-06\n",
      "псар 9.051559737515687e-09\n",
      "псбр 5.477295809587208e-10\n",
      "псвр 4.426990406542638e-09\n",
      "псгр 2.0961629888600917e-10\n",
      "псдр 3.2332259805017834e-09\n",
      "псер 4.404156531030582e-08\n",
      "псжр 9.34597594242447e-13\n",
      "псзр 6.268157738794752e-11\n",
      "псир 1.9738987831758333e-09\n",
      "пскр 3.747592744656689e-08\n",
      "пслр 6.428430044745e-12\n",
      "псмр 2.559916700947505e-10\n",
      "пснр 1.345664307675995e-10\n",
      "псор 2.742107937761365e-08\n",
      "пспр 7.141962524787198e-08\n",
      "псрр 1.9885047348394508e-11\n",
      "псср 8.251380957564047e-10\n",
      "пстр 8.890069995894513e-08\n",
      "псур 2.9343933590626967e-09\n",
      "псфр 5.13920088945969e-10\n",
      "псхр 2.968374412210581e-10\n",
      "псчр 8.197483053807433e-11\n",
      "псшр 2.3406614014117346e-12\n",
      "псщр 4.886173639129107e-14\n",
      "псыр 9.416729127807354e-10\n",
      "псьр 5.841819311210832e-11\n",
      "псэр 8.724271342484136e-13\n",
      "псюр 1.6794189007800973e-10\n",
      "псяр 1.3231108613160852e-09\n",
      "пс р 1.1616648550230099e-08\n",
      "птар 2.5850012236485696e-07\n",
      "птбр 2.506594880535521e-09\n",
      "птвр 4.718768798200364e-08\n",
      "птгр 1.0816013629201485e-09\n",
      "птдр 1.243949290129058e-08\n",
      "птер 4.5987633054079707e-07\n",
      "птжр 1.1929077502719185e-13\n",
      "птзр 9.906905778139225e-11\n",
      "птир 3.517927884183839e-08\n",
      "пткр 2.3610904538803985e-08\n",
      "птлр 4.90259922633579e-12\n",
      "птмр 4.746028155737244e-11\n",
      "птнр 1.2669620184789615e-09\n",
      "птор 1.055665918577813e-06\n",
      "птпр 2.0891434217554597e-08\n",
      "птрр 1.3388672432438848e-09\n",
      "птср 6.579053635208685e-09\n",
      "пттр 6.484892864557625e-09\n",
      "птур 4.001610328798825e-08\n",
      "птфр 2.3903978261248218e-09\n",
      "птхр 1.7380985692280873e-10\n",
      "птчр 3.252652001849569e-10\n",
      "птшр 4.700472744740559e-13\n",
      "птщр 1.3614598347750972e-11\n",
      "птыр 2.8350805681053954e-08\n",
      "птьр 8.319577269197343e-10\n",
      "птэр 1.532992968719975e-11\n",
      "птюр 5.350724455505968e-10\n",
      "птяр 1.7019163606815701e-09\n",
      "пт р 1.2036790955783432e-07\n",
      "пуар 2.8625053510085792e-08\n",
      "пубр 1.6176890182466439e-06\n",
      "пувр 5.302907287979677e-07\n",
      "пугр 3.244779960411973e-06\n",
      "пудр 4.554340480809168e-06\n",
      "пуер 7.220270363413985e-07\n",
      "пужр 1.3606803906102283e-08\n",
      "пузр 4.1696211904502865e-07\n",
      "пуир 5.558614587645787e-09\n",
      "пуйр 5.799806495281837e-09\n",
      "пукр 1.5841323566134181e-06\n",
      "пулр 7.799512134015534e-10\n",
      "пумр 6.544595860766123e-08\n",
      "пунр 1.2504335961610364e-08\n",
      "пуор 4.73402556826814e-08\n",
      "пупр 6.911965626973315e-06\n",
      "пурр 9.708877827366756e-09\n",
      "пуср 3.1400522485529817e-07\n",
      "путр 2.683486619701108e-06\n",
      "пуур 5.8400057023166135e-09\n",
      "пуфр 1.3505201171170127e-07\n",
      "пухр 1.3636420652440288e-07\n",
      "пучр 4.52240088794663e-08\n",
      "пушр 5.006287240421571e-09\n",
      "пущр 8.682879985614175e-09\n",
      "пуэр 3.7531258985943846e-09\n",
      "пуюр 3.456071756185006e-07\n",
      "пуяр 7.252684785707118e-09\n",
      "пу р 5.317820651414558e-06\n",
      "пфар 7.449424248521865e-08\n",
      "пфбр 3.7587423607924396e-10\n",
      "пфер 1.6163039106736918e-07\n",
      "пфир 6.642376332088488e-08\n",
      "пфкр 1.8436210154024742e-09\n",
      "пфлр 1.5527509368430895e-11\n",
      "пфмр 3.569729051083152e-11\n",
      "пфнр 1.1422304453749004e-11\n",
      "пфор 5.735166917870479e-08\n",
      "пфпр 2.7498642042679165e-09\n",
      "пфрр 2.8687378611801863e-09\n",
      "пфср 6.088901642848418e-10\n",
      "пфтр 9.635361542645736e-09\n",
      "пфур 2.63015769541545e-08\n",
      "пффр 1.4833002742366944e-08\n",
      "пфчр 1.6055057330585472e-11\n",
      "пфыр 2.3015845211900706e-09\n",
      "пфьр 6.621218534700569e-12\n",
      "пфэр 2.5943443761693434e-11\n",
      "пфюр 3.3614154900580363e-10\n",
      "пф р 6.082867186741155e-08\n",
      "пцар 1.2944492853161078e-07\n",
      "пцвр 1.7989882191764655e-09\n",
      "пцгр 2.651383830562403e-09\n",
      "пцдр 4.2214823812014733e-10\n",
      "пцер 4.4996556067704004e-07\n",
      "пцжр 1.1389124921386106e-12\n",
      "пцир 1.080679272643748e-08\n",
      "пцкр 2.897371983134576e-08\n",
      "пцлр 2.074161050940556e-13\n",
      "пцмр 1.0788585712553451e-11\n",
      "пцнр 4.142516438778816e-11\n",
      "пцор 1.1834736310811886e-07\n",
      "пцпр 1.1081007453166115e-09\n",
      "пцср 2.5827558428552432e-11\n",
      "пцтр 3.148150927823498e-10\n",
      "пцур 6.697538886195546e-08\n",
      "пцчр 3.2348180987466257e-12\n",
      "пцыр 1.437562136719857e-08\n",
      "пцяр 3.996546347739552e-11\n",
      "пц р 2.966221641237548e-08\n",
      "пчар 7.414737848405067e-07\n",
      "пчбр 2.471854601322564e-10\n",
      "пчвр 8.388274587208816e-10\n",
      "пчер 2.5862529253161643e-06\n",
      "пчир 1.1396481713458493e-07\n",
      "пчкр 1.0790511189121689e-07\n",
      "пчлр 4.908206660732858e-12\n",
      "пчмр 8.216439480802958e-11\n",
      "пчнр 5.006500320814795e-09\n",
      "пчор 3.585098894808249e-08\n",
      "пчпр 9.041939874935751e-10\n",
      "пчрр 7.934141911354524e-11\n",
      "пчтр 1.7370530387690894e-06\n",
      "пчур 1.3739878937122902e-07\n",
      "пччр 5.279128432832847e-12\n",
      "пчшр 1.5318980879360624e-10\n",
      "пчьр 2.0857093992203084e-10\n",
      "пчэр 1.70611376574837e-11\n",
      "пч р 4.000264397374178e-08\n",
      "пшар 5.258938309341391e-08\n",
      "пшвр 1.900663548773446e-10\n",
      "пшер 1.8413507077729756e-07\n",
      "пшир 1.4202175840193219e-08\n",
      "пшкр 1.809097791103156e-08\n",
      "пшлр 6.556002987377163e-12\n",
      "пшмр 2.0701842100022706e-11\n",
      "пшнр 3.7573418251801354e-10\n",
      "пшор 1.4741528745872413e-08\n",
      "пшпр 8.505184005265717e-09\n",
      "пшрр 5.758601970146099e-13\n",
      "пшср 2.0649835030232417e-12\n",
      "пштр 4.044031802956797e-09\n",
      "пшур 6.604067533564392e-09\n",
      "пшшр 4.1860562373024723e-13\n",
      "пшьр 3.020663921757273e-11\n",
      "пшэр 6.686807860699715e-12\n",
      "пшяр 9.129564121517658e-13\n",
      "пш р 1.8149029264963566e-09\n",
      "пщар 1.500684543637922e-08\n",
      "пщвр 5.744696011719786e-12\n",
      "пщер 1.1360913558033254e-07\n",
      "пщир 6.325477460025863e-09\n",
      "пщнр 3.374678058532297e-11\n",
      "пщор 4.5415011574782e-11\n",
      "пщрр 9.659882662948036e-13\n",
      "пщтр 1.8765539311642616e-11\n",
      "пщур 2.1355423367841736e-09\n",
      "пщьр 2.242490125271959e-12\n",
      "пщэр 1.8694867162466008e-12\n",
      "пщ р 2.302521735840646e-10\n",
      "пыар 1.278632971907662e-09\n",
      "пыбр 5.593450998542153e-07\n",
      "пывр 3.666759878884079e-07\n",
      "пыгр 1.3125401579982372e-07\n",
      "пыдр 1.5459390138533887e-07\n",
      "пыер 2.169244657130073e-06\n",
      "пыжр 1.2512352979151557e-10\n",
      "пызр 1.5656664257522866e-08\n",
      "пыир 3.6554388548662303e-09\n",
      "пыйр 5.734759239404956e-08\n",
      "пыкр 1.9637518971644557e-07\n",
      "пылр 8.716439988952638e-10\n",
      "пымр 5.552001221231451e-08\n",
      "пынр 6.210027829453113e-09\n",
      "пыор 1.1747830890145858e-08\n",
      "пыпр 6.62086474820124e-07\n",
      "пырр 2.766023930509196e-09\n",
      "пыср 1.0508612098579176e-07\n",
      "пытр 7.62516798605536e-07\n",
      "пыур 1.918111967196789e-09\n",
      "пыфр 4.18926812942701e-09\n",
      "пыхр 2.5098491809573276e-07\n",
      "пычр 5.923075178331277e-09\n",
      "пышр 1.917340301757439e-09\n",
      "пыщр 3.385558990649169e-11\n",
      "пыэр 1.2089842671114956e-10\n",
      "пыяр 4.4017014270225904e-11\n",
      "пы р 2.117356856707664e-06\n",
      "пьар 1.436082104157602e-08\n",
      "пьбр 4.927599514634042e-07\n",
      "пьвр 2.384298580828889e-08\n",
      "пьгр 1.4327360625635816e-07\n",
      "пьдр 2.384698019606539e-07\n",
      "пьер 7.810447829490532e-06\n",
      "пьжр 7.044163998495535e-12\n",
      "пьзр 1.2904553341888202e-07\n",
      "пьир 7.746348385199323e-08\n",
      "пькр 4.0094032633953626e-06\n",
      "пьлр 1.2828668315580246e-12\n",
      "пьмр 3.3541594557438934e-08\n",
      "пьнр 8.307036534919492e-08\n",
      "пьор 1.7592590497999124e-07\n",
      "пьпр 3.084117123865838e-07\n",
      "пьрр 6.68211873968985e-11\n",
      "пьср 3.6405481530673237e-07\n",
      "пьтр 2.725980109353998e-07\n",
      "пьур 1.231031815286359e-09\n",
      "пьфр 6.04945148465967e-08\n",
      "пьхр 8.552946476374114e-10\n",
      "пьчр 6.522387038645676e-09\n",
      "пьшр 5.861239956314864e-09\n",
      "пьщр 4.997508525558202e-10\n",
      "пьэр 6.465985486629224e-10\n",
      "пьюр 2.642593286058823e-07\n",
      "пьяр 9.470756903353175e-08\n",
      "пь р 1.5704459399737463e-05\n",
      "пэвр 2.2177652970414818e-12\n",
      "пэгр 1.1560471294247835e-10\n",
      "пэдр 7.771574318333867e-11\n",
      "пэзр 1.5364127056542587e-11\n",
      "пэйр 7.35154787844312e-12\n",
      "пэкр 9.52489622529068e-10\n",
      "пэлр 5.226496095885139e-13\n",
      "пэмр 2.2344007174283496e-12\n",
      "пэнр 1.1121543543653184e-11\n",
      "пэпр 8.03237243694578e-10\n",
      "пэрр 2.299698256408746e-12\n",
      "пэср 9.00430136472552e-11\n",
      "пэтр 4.597372029093925e-08\n",
      "пэфр 1.1253845199329178e-10\n",
      "пэхр 3.182223574727198e-11\n",
      "пэшр 2.5817790967952568e-14\n",
      "пээр 7.217236132448611e-13\n",
      "пэ р 1.3498091329975364e-10\n",
      "пяар 1.7790461051661906e-09\n",
      "пябр 7.538824076351379e-08\n",
      "пявр 1.1647482408887365e-07\n",
      "пягр 2.1914680824885935e-07\n",
      "пядр 1.0246148137537803e-06\n",
      "пяер 2.2596671707723274e-07\n",
      "пяжр 3.347464576664281e-09\n",
      "пязр 3.114237664479821e-07\n",
      "пяир 4.836547914330239e-09\n",
      "пяйр 1.6922900330929994e-09\n",
      "пякр 1.8670696866329117e-07\n",
      "пялр 3.542098293457974e-10\n",
      "пямр 1.546130135373737e-08\n",
      "пянр 1.613536706005815e-08\n",
      "пяор 1.8524933280236844e-08\n",
      "пяпр 2.805216085586312e-07\n",
      "пярр 5.601404099362741e-10\n",
      "пяср 1.1159580907141084e-07\n",
      "пятр 1.7375772861701559e-06\n",
      "пяур 2.3485398355496764e-09\n",
      "пяфр 9.326086610182854e-09\n",
      "пяхр 5.261045965153132e-08\n",
      "пячр 5.21882544493033e-09\n",
      "пяшр 6.899971654087315e-11\n",
      "пящр 4.3261698313036086e-09\n",
      "пяэр 8.971409513617048e-11\n",
      "пяюр 2.6153979079801764e-08\n",
      "пяяр 1.0852395233629655e-08\n",
      "пя р 5.968358854200766e-06\n",
      "п ар 2.7394552638219067e-08\n",
      "п бр 1.5812488822342822e-07\n",
      "п вр 6.889330853117674e-08\n",
      "п гр 9.279096237442272e-08\n",
      "п др 1.5312675014344337e-07\n",
      "п ер 1.1389454533152566e-07\n",
      "п жр 1.643750797069062e-10\n",
      "п зр 1.5587392458345206e-08\n",
      "п ир 2.9349425321380315e-08\n",
      "п йр 6.553772119053097e-12\n",
      "п кр 1.4957366689032236e-07\n",
      "п лр 1.326024243144789e-11\n",
      "п мр 2.901532097034236e-09\n",
      "п нр 5.149009382350811e-09\n",
      "п ор 2.2164451618446918e-07\n",
      "п пр 1.240311719917119e-06\n",
      "п рр 5.350059634555122e-10\n",
      "п ср 2.980070296969198e-08\n",
      "п тр 1.113360534919008e-07\n",
      "п ур 2.669894921976701e-08\n",
      "п фр 5.93314999839429e-08\n",
      "п хр 3.6654968972426634e-09\n",
      "п чр 2.6054524807732727e-09\n",
      "п шр 4.1836577197177126e-11\n",
      "п щр 1.5064908584969764e-11\n",
      "п ыр 3.824207800551344e-12\n",
      "п ьр 4.290590669692697e-14\n",
      "п эр 3.8425513593297786e-09\n",
      "п юр 8.816596999454891e-11\n",
      "п яр 1.148564228231077e-09\n",
      "п  р 6.342820160658302e-08\n"
     ]
    }
   ],
   "source": [
    "start = POS['п']\n",
    "end = POS['р']\n",
    "prior = 1. / len(RUSSIAN)\n",
    "for c1 in RUSSIAN:\n",
    "    for c2 in RUSSIAN:\n",
    "        proba = prior * probabilities[start, POS[c1]] * probabilities[POS[c1], POS[c2]] * probabilities[POS[c2], end]\n",
    "        if proba > 0:\n",
    "            print(''.join(['п', c1, c2, 'р']), proba)"
   ]
  },
  {
   "cell_type": "markdown",
   "metadata": {
    "colab_type": "text",
    "id": "t_qNv9znvEpM"
   },
   "source": [
    "Сгенерируем слово, начинающееся с буквы \"Б\" и имеющее длину 8 символов"
   ]
  },
  {
   "cell_type": "code",
   "execution_count": 106,
   "metadata": {
    "ExecuteTime": {
     "end_time": "2019-12-04T16:23:10.012128Z",
     "start_time": "2019-12-04T16:23:10.005433Z"
    },
    "colab": {
     "base_uri": "https://localhost:8080/",
     "height": 34
    },
    "colab_type": "code",
    "id": "8mMInwNyvEpN",
    "outputId": "885a7e5e-2b65-4c97-b4c1-c7860bef1c38"
   },
   "outputs": [
    {
     "name": "stdout",
     "output_type": "stream",
     "text": [
      "бятоссдег\n"
     ]
    }
   ],
   "source": [
    "s = []\n",
    "start = 'б'\n",
    "s.append(start)\n",
    "length = 8\n",
    "for i in range(length):\n",
    "    index = POS[s[i]]\n",
    "    next_char = np.random.choice(list(RUSSIAN), p=probabilities[index])\n",
    "    s.append(next_char)\n",
    "\n",
    "print (''.join(s))"
   ]
  },
  {
   "cell_type": "markdown",
   "metadata": {
    "colab_type": "text",
    "id": "8BtwfXRFvEpQ"
   },
   "source": [
    "Возьмем ряд и оценим его через HMM"
   ]
  },
  {
   "cell_type": "code",
   "execution_count": 76,
   "metadata": {
    "ExecuteTime": {
     "end_time": "2019-12-04T16:44:04.894074Z",
     "start_time": "2019-12-04T16:44:04.870712Z"
    },
    "colab": {},
    "colab_type": "code",
    "id": "4-eZL9QmvEpR"
   },
   "outputs": [],
   "source": [
    "series = pd.read_csv(\"monthly-sales-of-company-x-jan-6.csv\")[\"Count\"]"
   ]
  },
  {
   "cell_type": "code",
   "execution_count": 77,
   "metadata": {
    "ExecuteTime": {
     "end_time": "2019-12-04T16:44:05.657294Z",
     "start_time": "2019-12-04T16:44:05.653848Z"
    },
    "colab": {},
    "colab_type": "code",
    "id": "0ZxkR22avEpW"
   },
   "outputs": [],
   "source": [
    "values = series.values.reshape(-1,1)"
   ]
  },
  {
   "cell_type": "code",
   "execution_count": 138,
   "metadata": {
    "ExecuteTime": {
     "end_time": "2019-12-04T16:44:34.400282Z",
     "start_time": "2019-12-04T16:44:33.313603Z"
    },
    "colab": {
     "base_uri": "https://localhost:8080/",
     "height": 34
    },
    "colab_type": "code",
    "id": "ecM1Z0CTvEpZ",
    "outputId": "7cb423b3-e507-4ddf-8c67-88b855fbfa64"
   },
   "outputs": [
    {
     "name": "stderr",
     "output_type": "stream",
     "text": [
      "Fitting a model with 119 free scalar parameters with only 77 data points will result in a degenerate solution.\n"
     ]
    }
   ],
   "source": [
    "# возьмем 10 компонент\n",
    "model = GaussianHMM(n_components=10,\n",
    "                        covariance_type=\"diag\",\n",
    "                        n_iter=1000)\n",
    "model.fit(values)\n",
    "labels = model.predict(values)\n",
    "means = np.zeros_like(values)\n",
    "for i in range(model.n_components):\n",
    "    means[labels == i] = model.means_[i]"
   ]
  },
  {
   "cell_type": "code",
   "execution_count": 139,
   "metadata": {
    "ExecuteTime": {
     "end_time": "2019-12-04T16:51:46.163886Z",
     "start_time": "2019-12-04T16:51:46.158545Z"
    },
    "colab": {},
    "colab_type": "code",
    "id": "XXvXA5DXvEpe"
   },
   "outputs": [],
   "source": [
    "cur_value = labels[-1]\n",
    "predictions = []\n",
    "for _ in range(10):\n",
    "    cur_value = np.random.choice(10, p=model.transmat_[cur_value])\n",
    "    predictions.append(model.means_[cur_value])"
   ]
  },
  {
   "cell_type": "code",
   "execution_count": 140,
   "metadata": {
    "ExecuteTime": {
     "end_time": "2019-12-04T16:51:50.446352Z",
     "start_time": "2019-12-04T16:51:50.443127Z"
    },
    "colab": {},
    "colab_type": "code",
    "id": "u-4-_E_9vEph"
   },
   "outputs": [],
   "source": [
    "new_series = np.concatenate((values, np.array(predictions)))"
   ]
  },
  {
   "cell_type": "code",
   "execution_count": 141,
   "metadata": {
    "ExecuteTime": {
     "end_time": "2019-12-04T16:51:51.102826Z",
     "start_time": "2019-12-04T16:51:50.857804Z"
    },
    "colab": {
     "base_uri": "https://localhost:8080/",
     "height": 703
    },
    "colab_type": "code",
    "id": "Cf-_Drx7vEpk",
    "outputId": "8a73036a-04fb-44a8-c911-7a3381f37818"
   },
   "outputs": [
    {
     "data": {
      "image/png": "[encoded data removed]",
      "text/plain": [
       "<Figure size 1152x864 with 1 Axes>"
      ]
     },
     "metadata": {
      "needs_background": "light"
     },
     "output_type": "display_data"
    }
   ],
   "source": [
    "plt.figure(figsize=(16,12))\n",
    "plt.plot(new_series[-100:])\n",
    "plt.plot(values[-90:])\n",
    "plt.show()"
   ]
  },
  {
   "cell_type": "markdown",
   "metadata": {},
   "source": []
  }
 ],
 "metadata": {
  "colab": {
   "include_colab_link": true,
   "name": "Марковские случайные процессы.ipynb",
   "provenance": [],
   "toc_visible": true
  },
  "kernelspec": {
   "display_name": "Python 3",
   "language": "python",
   "name": "python3"
  },
  "language_info": {
   "codemirror_mode": {
    "name": "ipython",
    "version": 3
   },
   "file_extension": ".py",
   "mimetype": "text/x-python",
   "name": "python",
   "nbconvert_exporter": "python",
   "pygments_lexer": "ipython3",
   "version": "3.7.6"
  }
 },
 "nbformat": 4,
 "nbformat_minor": 1
}
