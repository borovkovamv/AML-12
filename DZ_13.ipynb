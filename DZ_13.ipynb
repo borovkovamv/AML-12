{
 "cells": [
  {
   "cell_type": "markdown",
   "metadata": {
    "id": "PHcZy86438d2"
   },
   "source": [
    "## Домашнее задание №1 по блоку CV"
   ]
  },
  {
   "cell_type": "markdown",
   "metadata": {
    "id": "EjeekHiK9HVu"
   },
   "source": [
    "1. Возьмите https://www.kaggle.com/ajayrana/hymenoptera-data"
   ]
  },
  {
   "cell_type": "code",
   "execution_count": 1,
   "metadata": {
    "id": "4JU5nbvJqkxo"
   },
   "outputs": [],
   "source": [
    "import cv2\n",
    "import numpy as np\n",
    "import tensorflow as tf\n",
    "import tensorflow.keras as keras\n",
    "from random import shuffle\n",
    "from warnings import filterwarnings \n",
    "filterwarnings('ignore')"
   ]
  },
  {
   "cell_type": "code",
   "execution_count": null,
   "metadata": {},
   "outputs": [],
   "source": []
  },
  {
   "cell_type": "markdown",
   "metadata": {
    "id": "2rMBCoI79QXH"
   },
   "source": [
    "2. Реализуйте сверточную нейронную сеть с использованием tf.keras или keras. Используйте сверточные, пуллинговые и полносвязанные слои. Обучите на train выборке в течении 10 эпох, оцените качество на отложенной выборке"
   ]
  },
  {
   "cell_type": "code",
   "execution_count": 2,
   "metadata": {
    "id": "z9yRfjvyq0xr"
   },
   "outputs": [],
   "source": [
    "train_generator = keras.preprocessing.image.ImageDataGenerator()\n",
    "test_generator = keras.preprocessing.image.ImageDataGenerator()"
   ]
  },
  {
   "cell_type": "code",
   "execution_count": 3,
   "metadata": {
    "colab": {
     "base_uri": "https://localhost:8080/"
    },
    "id": "Y2SPdBFxuzWg",
    "outputId": "59019a33-4220-4c0d-d992-82564dfba4c7"
   },
   "outputs": [
    {
     "name": "stdout",
     "output_type": "stream",
     "text": [
      "Found 244 images belonging to 2 classes.\n",
      "Found 153 images belonging to 2 classes.\n"
     ]
    }
   ],
   "source": [
    "train = train_generator.flow_from_directory('hymenoptera_data/train', \n",
    "                                            target_size=(224, 224), \n",
    "                                            batch_size=32, \n",
    "                                            class_mode='binary')\n",
    "\n",
    "test = test_generator.flow_from_directory('hymenoptera_data/val', \n",
    "                                          target_size=(224, 224), \n",
    "                                          batch_size=32, \n",
    "                                          class_mode='binary')"
   ]
  },
  {
   "cell_type": "code",
   "execution_count": 4,
   "metadata": {
    "id": "DTbqhVB4vVhU"
   },
   "outputs": [],
   "source": [
    "i = keras.layers.Input(shape=(224,224,3))\n",
    "o = keras.layers.Conv2D(16, (5,5), strides=(3,3))(i) \n",
    "o = keras.layers.MaxPool2D((2,2))(o)\n",
    "o = keras.layers.ReLU()(o)\n",
    "o = keras.layers.Conv2D(32, (3,3))(o)\n",
    "o = keras.layers.MaxPool2D((2,2))(o)\n",
    "o = keras.layers.ReLU()(o)\n",
    "o = keras.layers.Conv2D(64, (3,3), strides=(1,1))(o)\n",
    "o = keras.layers.MaxPool2D((2,2))(o)\n",
    "o = keras.layers.ReLU()(o)\n",
    "o = keras.layers.Flatten()(o)\n",
    "o = keras.layers.Dense(1, activation='sigmoid')(o)"
   ]
  },
  {
   "cell_type": "code",
   "execution_count": 5,
   "metadata": {
    "colab": {
     "base_uri": "https://localhost:8080/"
    },
    "id": "t_nfsiqfwpjm",
    "outputId": "17c998ee-0c63-4fa0-a7a3-7aaeab50cb8c"
   },
   "outputs": [
    {
     "name": "stdout",
     "output_type": "stream",
     "text": [
      "Model: \"model\"\n",
      "_________________________________________________________________\n",
      "Layer (type)                 Output Shape              Param #   \n",
      "=================================================================\n",
      "input_1 (InputLayer)         [(None, 224, 224, 3)]     0         \n",
      "_________________________________________________________________\n",
      "conv2d (Conv2D)              (None, 74, 74, 16)        1216      \n",
      "_________________________________________________________________\n",
      "max_pooling2d (MaxPooling2D) (None, 37, 37, 16)        0         \n",
      "_________________________________________________________________\n",
      "re_lu (ReLU)                 (None, 37, 37, 16)        0         \n",
      "_________________________________________________________________\n",
      "conv2d_1 (Conv2D)            (None, 35, 35, 32)        4640      \n",
      "_________________________________________________________________\n",
      "max_pooling2d_1 (MaxPooling2 (None, 17, 17, 32)        0         \n",
      "_________________________________________________________________\n",
      "re_lu_1 (ReLU)               (None, 17, 17, 32)        0         \n",
      "_________________________________________________________________\n",
      "conv2d_2 (Conv2D)            (None, 15, 15, 64)        18496     \n",
      "_________________________________________________________________\n",
      "max_pooling2d_2 (MaxPooling2 (None, 7, 7, 64)          0         \n",
      "_________________________________________________________________\n",
      "re_lu_2 (ReLU)               (None, 7, 7, 64)          0         \n",
      "_________________________________________________________________\n",
      "flatten (Flatten)            (None, 3136)              0         \n",
      "_________________________________________________________________\n",
      "dense (Dense)                (None, 1)                 3137      \n",
      "=================================================================\n",
      "Total params: 27,489\n",
      "Trainable params: 27,489\n",
      "Non-trainable params: 0\n",
      "_________________________________________________________________\n"
     ]
    }
   ],
   "source": [
    "model = keras.Model(inputs=i, outputs=o)\n",
    "model.compile(optimizer='adam', loss='binary_crossentropy', metrics=['accuracy'])\n",
    "model.summary()"
   ]
  },
  {
   "cell_type": "code",
   "execution_count": 6,
   "metadata": {
    "colab": {
     "base_uri": "https://localhost:8080/"
    },
    "id": "cEU6Q7gswtss",
    "outputId": "93f946f9-288d-4e13-eba2-c628539ca7f7"
   },
   "outputs": [
    {
     "name": "stdout",
     "output_type": "stream",
     "text": [
      "Epoch 1/10\n",
      "8/8 [==============================] - 3s 308ms/step - loss: 15.6965 - accuracy: 0.5013 - val_loss: 2.4790 - val_accuracy: 0.5294\n",
      "Epoch 2/10\n",
      "8/8 [==============================] - 2s 259ms/step - loss: 1.4748 - accuracy: 0.5576 - val_loss: 1.3021 - val_accuracy: 0.5556\n",
      "Epoch 3/10\n",
      "8/8 [==============================] - 2s 254ms/step - loss: 0.9625 - accuracy: 0.6328 - val_loss: 0.9352 - val_accuracy: 0.5817\n",
      "Epoch 4/10\n",
      "8/8 [==============================] - 2s 255ms/step - loss: 0.7159 - accuracy: 0.6503 - val_loss: 0.8599 - val_accuracy: 0.5686\n",
      "Epoch 5/10\n",
      "8/8 [==============================] - 2s 252ms/step - loss: 0.5029 - accuracy: 0.7625 - val_loss: 0.7623 - val_accuracy: 0.6209\n",
      "Epoch 6/10\n",
      "8/8 [==============================] - 2s 254ms/step - loss: 0.3818 - accuracy: 0.8638 - val_loss: 0.7431 - val_accuracy: 0.6405\n",
      "Epoch 7/10\n",
      "8/8 [==============================] - 2s 247ms/step - loss: 0.3252 - accuracy: 0.8976 - val_loss: 0.7365 - val_accuracy: 0.6471\n",
      "Epoch 8/10\n",
      "8/8 [==============================] - 2s 250ms/step - loss: 0.2901 - accuracy: 0.9106 - val_loss: 0.7739 - val_accuracy: 0.5948\n",
      "Epoch 9/10\n",
      "8/8 [==============================] - 2s 252ms/step - loss: 0.2105 - accuracy: 0.9532 - val_loss: 0.7843 - val_accuracy: 0.6209\n",
      "Epoch 10/10\n",
      "8/8 [==============================] - 2s 252ms/step - loss: 0.1623 - accuracy: 0.9672 - val_loss: 0.7752 - val_accuracy: 0.6275\n"
     ]
    },
    {
     "data": {
      "text/plain": [
       "<tensorflow.python.keras.callbacks.History at 0x2bde61e2048>"
      ]
     },
     "execution_count": 6,
     "metadata": {},
     "output_type": "execute_result"
    }
   ],
   "source": [
    "model.fit(train, epochs=10, validation_data=test)"
   ]
  },
  {
   "cell_type": "markdown",
   "metadata": {},
   "source": [
    "Качество на валидационной выборке так себе val_loss: 0.7752 - val_accuracy: 0.627"
   ]
  },
  {
   "cell_type": "code",
   "execution_count": null,
   "metadata": {},
   "outputs": [],
   "source": []
  },
  {
   "cell_type": "markdown",
   "metadata": {
    "id": "pUfL6vKI9ZsG"
   },
   "source": [
    "3. Добавьте в предыдущую архитектуру слои BatchNorm. Обучите на train выборке в течении 10 эпох, оцените качество на отложенной выборке"
   ]
  },
  {
   "cell_type": "code",
   "execution_count": 7,
   "metadata": {
    "id": "iZD8WU5txEA5"
   },
   "outputs": [],
   "source": [
    "i = keras.layers.Input(shape=(224,224,3))\n",
    "o = keras.layers.BatchNormalization()(i)\n",
    "o = keras.layers.Conv2D(16, (5,5), strides=(3,3))(o)\n",
    "o = keras.layers.MaxPool2D((2,2))(o)\n",
    "o = keras.layers.ReLU()(o)\n",
    "o = keras.layers.BatchNormalization()(o)\n",
    "o = keras.layers.Conv2D(32, (3,3))(o)\n",
    "o = keras.layers.MaxPool2D((2,2))(o)\n",
    "o = keras.layers.ReLU()(o)\n",
    "o = keras.layers.BatchNormalization()(o)\n",
    "o = keras.layers.Flatten()(o)\n",
    "o = keras.layers.Dense(1, activation='sigmoid')(o)"
   ]
  },
  {
   "cell_type": "code",
   "execution_count": 8,
   "metadata": {
    "colab": {
     "base_uri": "https://localhost:8080/"
    },
    "id": "QMwADOuKxMtg",
    "outputId": "528d9f2f-f8c0-4b85-9383-d2b767ad1668"
   },
   "outputs": [
    {
     "name": "stdout",
     "output_type": "stream",
     "text": [
      "Model: \"model_1\"\n",
      "_________________________________________________________________\n",
      "Layer (type)                 Output Shape              Param #   \n",
      "=================================================================\n",
      "input_2 (InputLayer)         [(None, 224, 224, 3)]     0         \n",
      "_________________________________________________________________\n",
      "batch_normalization (BatchNo (None, 224, 224, 3)       12        \n",
      "_________________________________________________________________\n",
      "conv2d_3 (Conv2D)            (None, 74, 74, 16)        1216      \n",
      "_________________________________________________________________\n",
      "max_pooling2d_3 (MaxPooling2 (None, 37, 37, 16)        0         \n",
      "_________________________________________________________________\n",
      "re_lu_3 (ReLU)               (None, 37, 37, 16)        0         \n",
      "_________________________________________________________________\n",
      "batch_normalization_1 (Batch (None, 37, 37, 16)        64        \n",
      "_________________________________________________________________\n",
      "conv2d_4 (Conv2D)            (None, 35, 35, 32)        4640      \n",
      "_________________________________________________________________\n",
      "max_pooling2d_4 (MaxPooling2 (None, 17, 17, 32)        0         \n",
      "_________________________________________________________________\n",
      "re_lu_4 (ReLU)               (None, 17, 17, 32)        0         \n",
      "_________________________________________________________________\n",
      "batch_normalization_2 (Batch (None, 17, 17, 32)        128       \n",
      "_________________________________________________________________\n",
      "flatten_1 (Flatten)          (None, 9248)              0         \n",
      "_________________________________________________________________\n",
      "dense_1 (Dense)              (None, 1)                 9249      \n",
      "=================================================================\n",
      "Total params: 15,309\n",
      "Trainable params: 15,207\n",
      "Non-trainable params: 102\n",
      "_________________________________________________________________\n"
     ]
    }
   ],
   "source": [
    "model = keras.Model(inputs=i, outputs=o)\n",
    "model.compile(optimizer='adam', loss='binary_crossentropy', metrics=['accuracy'])\n",
    "model.summary()"
   ]
  },
  {
   "cell_type": "code",
   "execution_count": 9,
   "metadata": {
    "colab": {
     "base_uri": "https://localhost:8080/"
    },
    "id": "ofe-Ki_VxMxT",
    "outputId": "f860c19d-ff32-4ea2-d9ee-5d3b7b601779"
   },
   "outputs": [
    {
     "name": "stdout",
     "output_type": "stream",
     "text": [
      "Epoch 1/10\n",
      "8/8 [==============================] - 4s 475ms/step - loss: 1.0274 - accuracy: 0.4666 - val_loss: 0.9400 - val_accuracy: 0.5425\n",
      "Epoch 2/10\n",
      "8/8 [==============================] - 4s 439ms/step - loss: 0.5388 - accuracy: 0.7486 - val_loss: 1.0434 - val_accuracy: 0.5752\n",
      "Epoch 3/10\n",
      "8/8 [==============================] - 4s 440ms/step - loss: 0.2623 - accuracy: 0.9015 - val_loss: 1.9621 - val_accuracy: 0.5425\n",
      "Epoch 4/10\n",
      "8/8 [==============================] - 3s 431ms/step - loss: 0.1581 - accuracy: 0.9563 - val_loss: 0.9670 - val_accuracy: 0.5882\n",
      "Epoch 5/10\n",
      "8/8 [==============================] - 3s 428ms/step - loss: 0.1007 - accuracy: 0.9900 - val_loss: 0.9037 - val_accuracy: 0.5556\n",
      "Epoch 6/10\n",
      "8/8 [==============================] - 4s 438ms/step - loss: 0.0652 - accuracy: 0.9871 - val_loss: 0.7253 - val_accuracy: 0.6144\n",
      "Epoch 7/10\n",
      "8/8 [==============================] - 4s 436ms/step - loss: 0.0496 - accuracy: 1.0000 - val_loss: 0.7274 - val_accuracy: 0.6209\n",
      "Epoch 8/10\n",
      "8/8 [==============================] - 3s 431ms/step - loss: 0.0325 - accuracy: 1.0000 - val_loss: 0.6459 - val_accuracy: 0.6601\n",
      "Epoch 9/10\n",
      "8/8 [==============================] - 4s 436ms/step - loss: 0.0281 - accuracy: 1.0000 - val_loss: 0.6780 - val_accuracy: 0.6601\n",
      "Epoch 10/10\n",
      "8/8 [==============================] - 4s 438ms/step - loss: 0.0247 - accuracy: 1.0000 - val_loss: 0.6240 - val_accuracy: 0.6993\n"
     ]
    },
    {
     "data": {
      "text/plain": [
       "<tensorflow.python.keras.callbacks.History at 0x2bde64d0388>"
      ]
     },
     "execution_count": 9,
     "metadata": {},
     "output_type": "execute_result"
    }
   ],
   "source": [
    "model.fit(train, epochs=10, validation_data=test)"
   ]
  },
  {
   "cell_type": "markdown",
   "metadata": {},
   "source": [
    "После слоя нормализации стало совсем чуть-чуть получше val_loss: 0.6240 - val_accuracy: 0.699"
   ]
  },
  {
   "cell_type": "code",
   "execution_count": null,
   "metadata": {},
   "outputs": [],
   "source": []
  },
  {
   "cell_type": "markdown",
   "metadata": {
    "id": "22FGTfzE9i_K"
   },
   "source": [
    "4. Создайте модель ResNet 50, инициализированную случайными весами, и обучите ее на train выборке в течении 10 эпох, оцените качество на отложенной выборке"
   ]
  },
  {
   "cell_type": "code",
   "execution_count": 10,
   "metadata": {
    "colab": {
     "base_uri": "https://localhost:8080/"
    },
    "id": "WY-TLRp6xM06",
    "outputId": "0d2eaea6-d1f0-49ac-8bd6-98b0cec28db9"
   },
   "outputs": [
    {
     "name": "stdout",
     "output_type": "stream",
     "text": [
      "Found 244 images belonging to 2 classes.\n",
      "Found 153 images belonging to 2 classes.\n"
     ]
    }
   ],
   "source": [
    "train_generator = keras.preprocessing.image.ImageDataGenerator()\n",
    "test_generator  = keras.preprocessing.image.ImageDataGenerator()\n",
    "\n",
    "train = train_generator.flow_from_directory('hymenoptera_data/train', \n",
    "                                            target_size= (224, 224), \n",
    "                                            batch_size = 32, \n",
    "                                            class_mode ='binary')\n",
    "\n",
    "test  = test_generator.flow_from_directory('hymenoptera_data/val', \n",
    "                                           target_size = (224, 224), \n",
    "                                           batch_size  = 32, \n",
    "                                           class_mode  ='binary')"
   ]
  },
  {
   "cell_type": "code",
   "execution_count": 11,
   "metadata": {
    "id": "Qh_IoV7dxM4Z"
   },
   "outputs": [],
   "source": [
    "resnet50 = keras.applications.ResNet50(include_top=False, \n",
    "                                       weights=None, \n",
    "                                       input_tensor=None, \n",
    "                                       input_shape=None, \n",
    "                                       pooling=None, \n",
    "                                       classes=1000 \n",
    "                                       )"
   ]
  },
  {
   "cell_type": "code",
   "execution_count": 12,
   "metadata": {
    "id": "fPBv4-lPxM7p"
   },
   "outputs": [],
   "source": [
    "i = keras.layers.Input((224, 224, 3), dtype = tf.uint8)\n",
    "o = tf.cast(i, tf.float32)\n",
    "o = resnet50(o)\n",
    "o = keras.layers.Flatten()(o)\n",
    "o = keras.layers.Dense(1, activation='sigmoid')(o)"
   ]
  },
  {
   "cell_type": "code",
   "execution_count": 13,
   "metadata": {
    "colab": {
     "base_uri": "https://localhost:8080/"
    },
    "id": "WOsXqmiLxM_N",
    "outputId": "1f662d07-422c-4df8-d1d5-2b498f947036"
   },
   "outputs": [
    {
     "name": "stdout",
     "output_type": "stream",
     "text": [
      "Model: \"model_2\"\n",
      "_________________________________________________________________\n",
      "Layer (type)                 Output Shape              Param #   \n",
      "=================================================================\n",
      "input_4 (InputLayer)         [(None, 224, 224, 3)]     0         \n",
      "_________________________________________________________________\n",
      "tf.cast (TFOpLambda)         (None, 224, 224, 3)       0         \n",
      "_________________________________________________________________\n",
      "resnet50 (Functional)        (None, None, None, 2048)  23587712  \n",
      "_________________________________________________________________\n",
      "flatten_2 (Flatten)          (None, 100352)            0         \n",
      "_________________________________________________________________\n",
      "dense_2 (Dense)              (None, 1)                 100353    \n",
      "=================================================================\n",
      "Total params: 23,688,065\n",
      "Trainable params: 23,634,945\n",
      "Non-trainable params: 53,120\n",
      "_________________________________________________________________\n"
     ]
    }
   ],
   "source": [
    "model = keras.Model(inputs=i, outputs=o)\n",
    "model.compile(optimizer='Adagrad', loss='binary_crossentropy', metrics=['accuracy']) \n",
    "model.summary()"
   ]
  },
  {
   "cell_type": "code",
   "execution_count": 14,
   "metadata": {
    "colab": {
     "base_uri": "https://localhost:8080/"
    },
    "id": "9bBe4cRwyhsJ",
    "outputId": "d25d35b5-9305-473e-eb9e-55abf0b6bea6"
   },
   "outputs": [
    {
     "name": "stdout",
     "output_type": "stream",
     "text": [
      "Epoch 1/10\n",
      "8/8 [==============================] - 78s 9s/step - loss: 8.5511 - accuracy: 0.4857 - val_loss: 1.0090 - val_accuracy: 0.6275\n",
      "Epoch 2/10\n",
      "8/8 [==============================] - 75s 9s/step - loss: 3.5373 - accuracy: 0.5688 - val_loss: 1.1012 - val_accuracy: 0.4641\n",
      "Epoch 3/10\n",
      "8/8 [==============================] - 74s 9s/step - loss: 2.4835 - accuracy: 0.6062 - val_loss: 4.0387 - val_accuracy: 0.5425\n",
      "Epoch 4/10\n",
      "8/8 [==============================] - 75s 10s/step - loss: 1.8758 - accuracy: 0.5506 - val_loss: 1.5878 - val_accuracy: 0.5882\n",
      "Epoch 5/10\n",
      "8/8 [==============================] - 74s 9s/step - loss: 0.7407 - accuracy: 0.6804 - val_loss: 1.4132 - val_accuracy: 0.5817\n",
      "Epoch 6/10\n",
      "8/8 [==============================] - 76s 9s/step - loss: 0.6006 - accuracy: 0.7223 - val_loss: 0.7584 - val_accuracy: 0.6340\n",
      "Epoch 7/10\n",
      "8/8 [==============================] - 75s 9s/step - loss: 0.6259 - accuracy: 0.6761 - val_loss: 0.7126 - val_accuracy: 0.5229\n",
      "Epoch 8/10\n",
      "8/8 [==============================] - 76s 9s/step - loss: 0.3628 - accuracy: 0.8419 - val_loss: 0.9252 - val_accuracy: 0.4575\n",
      "Epoch 9/10\n",
      "8/8 [==============================] - 76s 10s/step - loss: 0.6529 - accuracy: 0.7119 - val_loss: 0.7409 - val_accuracy: 0.4641\n",
      "Epoch 10/10\n",
      "8/8 [==============================] - 77s 10s/step - loss: 0.4484 - accuracy: 0.7719 - val_loss: 0.7749 - val_accuracy: 0.4641\n"
     ]
    },
    {
     "data": {
      "text/plain": [
       "<tensorflow.python.keras.callbacks.History at 0x2bde743b588>"
      ]
     },
     "execution_count": 14,
     "metadata": {},
     "output_type": "execute_result"
    }
   ],
   "source": [
    "model.fit(train, epochs=10, validation_data=test)"
   ]
  },
  {
   "cell_type": "markdown",
   "metadata": {},
   "source": [
    "Очень низкое качество модели val_loss: 0.7749 - val_accuracy: 0.4641"
   ]
  },
  {
   "cell_type": "code",
   "execution_count": null,
   "metadata": {},
   "outputs": [],
   "source": []
  },
  {
   "cell_type": "markdown",
   "metadata": {
    "id": "pHKApRdh9v-v"
   },
   "source": [
    "5. Создайте модель ResNet 50, инициализированную весами ImageNet, и обучите ее на train выборке в течении 10 эпох, оцените качество на отложенной выборке"
   ]
  },
  {
   "cell_type": "code",
   "execution_count": 15,
   "metadata": {
    "id": "Xlciq9dWy6Bg"
   },
   "outputs": [],
   "source": [
    "resnet50 = keras.applications.ResNet50(include_top=False, \n",
    "                                       weights='imagenet', \n",
    "                                       input_tensor=None, \n",
    "                                       input_shape=None, \n",
    "                                       pooling=None, \n",
    "                                       classes=1000\n",
    "                                       )"
   ]
  },
  {
   "cell_type": "code",
   "execution_count": 16,
   "metadata": {
    "id": "VdNjvcaKzAaO"
   },
   "outputs": [],
   "source": [
    "i = keras.layers.Input((224, 224, 3), dtype = tf.uint8)\n",
    "o = tf.cast(i, tf.float32)\n",
    "o = resnet50(o)\n",
    "o = keras.layers.Flatten()(o)\n",
    "o = keras.layers.Dense(1, activation='sigmoid')(o)"
   ]
  },
  {
   "cell_type": "code",
   "execution_count": 17,
   "metadata": {
    "id": "CxHhSYNjzAeD"
   },
   "outputs": [],
   "source": [
    "resnet50.trainable = False"
   ]
  },
  {
   "cell_type": "code",
   "execution_count": 18,
   "metadata": {
    "colab": {
     "base_uri": "https://localhost:8080/"
    },
    "id": "CbvDlP5nzAiy",
    "outputId": "70e77a1b-0121-46e4-b0d7-bc6b01636b9c"
   },
   "outputs": [
    {
     "name": "stdout",
     "output_type": "stream",
     "text": [
      "Model: \"model_3\"\n",
      "_________________________________________________________________\n",
      "Layer (type)                 Output Shape              Param #   \n",
      "=================================================================\n",
      "input_6 (InputLayer)         [(None, 224, 224, 3)]     0         \n",
      "_________________________________________________________________\n",
      "tf.cast_1 (TFOpLambda)       (None, 224, 224, 3)       0         \n",
      "_________________________________________________________________\n",
      "resnet50 (Functional)        (None, None, None, 2048)  23587712  \n",
      "_________________________________________________________________\n",
      "flatten_3 (Flatten)          (None, 100352)            0         \n",
      "_________________________________________________________________\n",
      "dense_3 (Dense)              (None, 1)                 100353    \n",
      "=================================================================\n",
      "Total params: 23,688,065\n",
      "Trainable params: 100,353\n",
      "Non-trainable params: 23,587,712\n",
      "_________________________________________________________________\n"
     ]
    }
   ],
   "source": [
    "model = keras.Model(inputs=i, outputs=o)\n",
    "model.compile(optimizer='Adagrad', loss='binary_crossentropy', metrics=['accuracy'])\n",
    "model.summary()"
   ]
  },
  {
   "cell_type": "code",
   "execution_count": 19,
   "metadata": {
    "colab": {
     "base_uri": "https://localhost:8080/"
    },
    "id": "m8L-jTqzzAma",
    "outputId": "49341e92-f1b7-4281-bc62-736c088bfd8c"
   },
   "outputs": [
    {
     "name": "stdout",
     "output_type": "stream",
     "text": [
      "Epoch 1/10\n",
      "8/8 [==============================] - 15s 2s/step - loss: 3.2816 - accuracy: 0.5604 - val_loss: 0.5847 - val_accuracy: 0.8301\n",
      "Epoch 2/10\n",
      "8/8 [==============================] - 13s 2s/step - loss: 0.1345 - accuracy: 0.9514 - val_loss: 0.4881 - val_accuracy: 0.8562\n",
      "Epoch 3/10\n",
      "8/8 [==============================] - 13s 2s/step - loss: 0.0259 - accuracy: 0.9871 - val_loss: 0.5563 - val_accuracy: 0.8301\n",
      "Epoch 4/10\n",
      "8/8 [==============================] - 13s 2s/step - loss: 0.0091 - accuracy: 1.0000 - val_loss: 0.4956 - val_accuracy: 0.8562\n",
      "Epoch 5/10\n",
      "8/8 [==============================] - 13s 2s/step - loss: 0.0049 - accuracy: 1.0000 - val_loss: 0.5030 - val_accuracy: 0.8562\n",
      "Epoch 6/10\n",
      "8/8 [==============================] - 13s 2s/step - loss: 0.0046 - accuracy: 1.0000 - val_loss: 0.4962 - val_accuracy: 0.8562\n",
      "Epoch 7/10\n",
      "8/8 [==============================] - 13s 2s/step - loss: 0.0044 - accuracy: 1.0000 - val_loss: 0.4938 - val_accuracy: 0.8562\n",
      "Epoch 8/10\n",
      "8/8 [==============================] - 13s 2s/step - loss: 0.0032 - accuracy: 1.0000 - val_loss: 0.4963 - val_accuracy: 0.8562\n",
      "Epoch 9/10\n",
      "8/8 [==============================] - 13s 2s/step - loss: 0.0030 - accuracy: 1.0000 - val_loss: 0.5014 - val_accuracy: 0.8562\n",
      "Epoch 10/10\n",
      "8/8 [==============================] - 13s 2s/step - loss: 0.0027 - accuracy: 1.0000 - val_loss: 0.4971 - val_accuracy: 0.8562\n"
     ]
    },
    {
     "data": {
      "text/plain": [
       "<tensorflow.python.keras.callbacks.History at 0x2bd80f95788>"
      ]
     },
     "execution_count": 19,
     "metadata": {},
     "output_type": "execute_result"
    }
   ],
   "source": [
    "model.fit(train, epochs=10, validation_data=test)"
   ]
  },
  {
   "cell_type": "markdown",
   "metadata": {},
   "source": [
    "С весами ImageNet получалась самая удачная модель val_loss: 0.4971 - val_accuracy: 0.8562"
   ]
  },
  {
   "cell_type": "code",
   "execution_count": null,
   "metadata": {},
   "outputs": [],
   "source": []
  }
 ],
 "metadata": {
  "accelerator": "GPU",
  "colab": {
   "authorship_tag": "ABX9TyOtfN/pf7Q8N4EcQgJf3N8d",
   "collapsed_sections": [],
   "include_colab_link": true,
   "name": "CV_hv_1.ipynb",
   "provenance": []
  },
  "kernelspec": {
   "display_name": "Python 3",
   "language": "python",
   "name": "python3"
  },
  "language_info": {
   "codemirror_mode": {
    "name": "ipython",
    "version": 3
   },
   "file_extension": ".py",
   "mimetype": "text/x-python",
   "name": "python",
   "nbconvert_exporter": "python",
   "pygments_lexer": "ipython3",
   "version": "3.7.6"
  }
 },
 "nbformat": 4,
 "nbformat_minor": 1
}
