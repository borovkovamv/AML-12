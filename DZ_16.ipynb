{
 "cells": [
  {
   "cell_type": "code",
   "execution_count": 1,
   "metadata": {},
   "outputs": [],
   "source": [
    "import json\n",
    "import bz2\n",
    "import regex\n",
    "from tqdm import tqdm\n",
    "from scipy import sparse\n",
    "import pandas as pd\n",
    "import numpy as np\n",
    "import nltk\n",
    "\n",
    "import matplotlib.pyplot as plt\n",
    "%matplotlib inline"
   ]
  },
  {
   "cell_type": "code",
   "execution_count": 2,
   "metadata": {},
   "outputs": [
    {
     "name": "stderr",
     "output_type": "stream",
     "text": [
      "C:\\ProgramData\\Anaconda3\\lib\\site-packages\\gensim\\similarities\\__init__.py:15: UserWarning: The gensim.similarities.levenshtein submodule is disabled, because the optional Levenshtein package <https://pypi.org/project/python-Levenshtein/> is unavailable. Install Levenhstein (e.g. `pip install python-Levenshtein`) to suppress this warning.\n",
      "  warnings.warn(msg)\n"
     ]
    }
   ],
   "source": [
    "from gensim.corpora import Dictionary\n",
    "from gensim.models import  LsiModel, LdaModel, TfidfModel"
   ]
  },
  {
   "cell_type": "code",
   "execution_count": 3,
   "metadata": {
    "scrolled": true
   },
   "outputs": [
    {
     "name": "stderr",
     "output_type": "stream",
     "text": [
      "201030it [01:06, 3044.41it/s]\n"
     ]
    }
   ],
   "source": [
    "responses = []\n",
    "with bz2.BZ2File('banki_responses.json.bz2', 'r') as thefile:\n",
    "    for row in tqdm(thefile):\n",
    "        resp = json.loads(row)\n",
    "        if not resp['rating_not_checked'] and (len(resp['text'].split()) > 0):\n",
    "            responses.append(resp)"
   ]
  },
  {
   "cell_type": "code",
   "execution_count": 4,
   "metadata": {},
   "outputs": [],
   "source": [
    "from sklearn.pipeline import Pipeline\n",
    "from sklearn.decomposition import TruncatedSVD, LatentDirichletAllocation\n",
    "from sklearn.feature_extraction.text import TfidfVectorizer, CountVectorizer, TfidfTransformer\n",
    "from sklearn.model_selection import GridSearchCV\n",
    "from sklearn.linear_model import LogisticRegression\n",
    "from sklearn.metrics import accuracy_score, f1_score"
   ]
  },
  {
   "cell_type": "code",
   "execution_count": null,
   "metadata": {},
   "outputs": [],
   "source": []
  },
  {
   "cell_type": "markdown",
   "metadata": {},
   "source": [
    "\n",
    "#  Домашнее задание по NLP # 1 [100 баллов]\n",
    "## Классификация по тональности \n",
    "\n",
    "В этом домашнем задании вам предстоит классифицировать по тональности отзывы на банки с сайта banki.ru.\n",
    "\n",
    "Данные содержат непосредственно тексты отзывов, некоторую дополнительную информацию, а также оценку по шкале от 1 до 5. \n",
    "\n",
    "Тексты хранятся в json-ах в массиве responses.\n",
    "\n",
    "Посмотрим на пример отзыва:"
   ]
  },
  {
   "cell_type": "code",
   "execution_count": 5,
   "metadata": {},
   "outputs": [
    {
     "data": {
      "text/plain": [
       "{'city': 'г. Саратов',\n",
       " 'rating_not_checked': False,\n",
       " 'title': 'Карта ко вкладу',\n",
       " 'num_comments': 0,\n",
       " 'bank_license': 'лицензия № 880',\n",
       " 'author': 'ronnichka',\n",
       " 'bank_name': 'Югра',\n",
       " 'datetime': '2015-06-03 20:56:57',\n",
       " 'text': 'Здравствуйте! Хотела написать, что мне месяц не выдают карту ко вкладу, ссылаясь на \"нам же их из Самары везут\" (на секундочку 5 часов езды от нашего города). Но! Прочитала, что людям 3,5 месяцев не выдают карту, и поняла, что у меня все хорошо, пока что. И подарок мне дали, и кулер в отделении есть. Так что я, конечно, готова ждать. Правда хотелось бы не очень долго.',\n",
       " 'rating_grade': 3}"
      ]
     },
     "execution_count": 5,
     "metadata": {},
     "output_type": "execute_result"
    }
   ],
   "source": [
    "responses[99]"
   ]
  },
  {
   "cell_type": "markdown",
   "metadata": {},
   "source": [
    "## Часть 1. Анализ текстов [40/100]\n",
    "\n",
    "1. Посчитайте количество отзывов в разных городах и на разные банки\n",
    "2. Постройте гистограмы длин слов в символах и в словах\n",
    "3. Найдите 10 самых частых:\n",
    "    * слов\n",
    "    * слов без стоп-слов\n",
    "    * лемм \n",
    "* существительных\n",
    "4. Постройте кривые Ципфа и Хипса\n",
    "5. Ответьте на следующие вопросы:\n",
    "    * какое слово встречается чаще, \"сотрудник\" или \"клиент\"?\n",
    "    * сколько раз встречается слова \"мошенничество\" и \"доверие\"?\n",
    "6. В поле \"rating_grade\" записана оценка отзыва по шкале от 1 до 5. Используйте меру $tf-idf$, для того, чтобы найти ключевые слова и биграмы для положительных отзывов (с оценкой 5) и отрицательных отзывов (с оценкой 1)"
   ]
  },
  {
   "cell_type": "code",
   "execution_count": 6,
   "metadata": {},
   "outputs": [],
   "source": [
    "df=pd.DataFrame.from_dict(responses)"
   ]
  },
  {
   "cell_type": "code",
   "execution_count": 7,
   "metadata": {},
   "outputs": [
    {
     "data": {
      "text/html": [
       "<div>\n",
       "<style scoped>\n",
       "    .dataframe tbody tr th:only-of-type {\n",
       "        vertical-align: middle;\n",
       "    }\n",
       "\n",
       "    .dataframe tbody tr th {\n",
       "        vertical-align: top;\n",
       "    }\n",
       "\n",
       "    .dataframe thead th {\n",
       "        text-align: right;\n",
       "    }\n",
       "</style>\n",
       "<table border=\"1\" class=\"dataframe\">\n",
       "  <thead>\n",
       "    <tr style=\"text-align: right;\">\n",
       "      <th></th>\n",
       "      <th>city</th>\n",
       "      <th>rating_not_checked</th>\n",
       "      <th>title</th>\n",
       "      <th>num_comments</th>\n",
       "      <th>bank_license</th>\n",
       "      <th>author</th>\n",
       "      <th>bank_name</th>\n",
       "      <th>datetime</th>\n",
       "      <th>text</th>\n",
       "      <th>rating_grade</th>\n",
       "    </tr>\n",
       "  </thead>\n",
       "  <tbody>\n",
       "    <tr>\n",
       "      <th>0</th>\n",
       "      <td>г. Москва</td>\n",
       "      <td>False</td>\n",
       "      <td>Жалоба</td>\n",
       "      <td>0</td>\n",
       "      <td>лицензия № 2562</td>\n",
       "      <td>uhnov1</td>\n",
       "      <td>Бинбанк</td>\n",
       "      <td>2015-06-08 12:50:54</td>\n",
       "      <td>Добрый день! Я не являюсь клиентом банка и пор...</td>\n",
       "      <td>NaN</td>\n",
       "    </tr>\n",
       "    <tr>\n",
       "      <th>1</th>\n",
       "      <td>г. Новосибирск</td>\n",
       "      <td>False</td>\n",
       "      <td>Не могу пользоваться услугой Сбербанк он-лайн</td>\n",
       "      <td>0</td>\n",
       "      <td>лицензия № 1481</td>\n",
       "      <td>Foryou</td>\n",
       "      <td>Сбербанк России</td>\n",
       "      <td>2015-06-08 11:09:57</td>\n",
       "      <td>Доброго дня! Являюсь держателем зарплатной кар...</td>\n",
       "      <td>NaN</td>\n",
       "    </tr>\n",
       "    <tr>\n",
       "      <th>2</th>\n",
       "      <td>г. Москва</td>\n",
       "      <td>False</td>\n",
       "      <td>Двойное списание за один товар.</td>\n",
       "      <td>1</td>\n",
       "      <td>лицензия № 2562</td>\n",
       "      <td>Vladimir84</td>\n",
       "      <td>Бинбанк</td>\n",
       "      <td>2015-06-05 20:14:28</td>\n",
       "      <td>Здравствуйте!  Дублирую свое заявление от 03.0...</td>\n",
       "      <td>NaN</td>\n",
       "    </tr>\n",
       "    <tr>\n",
       "      <th>3</th>\n",
       "      <td>г. Ставрополь</td>\n",
       "      <td>False</td>\n",
       "      <td>Меняют проценты комиссии  не предупредив и не ...</td>\n",
       "      <td>2</td>\n",
       "      <td>лицензия № 1481</td>\n",
       "      <td>643609</td>\n",
       "      <td>Сбербанк России</td>\n",
       "      <td>2015-06-05 13:51:01</td>\n",
       "      <td>Добрый день!! Я открыл расчетный счет в СберБа...</td>\n",
       "      <td>NaN</td>\n",
       "    </tr>\n",
       "    <tr>\n",
       "      <th>4</th>\n",
       "      <td>г. Челябинск</td>\n",
       "      <td>False</td>\n",
       "      <td>Верните денежные средства за страховку</td>\n",
       "      <td>1</td>\n",
       "      <td>лицензия № 2766</td>\n",
       "      <td>anfisa-2003</td>\n",
       "      <td>ОТП Банк</td>\n",
       "      <td>2015-06-05 10:58:12</td>\n",
       "      <td>04.03.2015 г. взяла кредит в вашем банке, заяв...</td>\n",
       "      <td>NaN</td>\n",
       "    </tr>\n",
       "  </tbody>\n",
       "</table>\n",
       "</div>"
      ],
      "text/plain": [
       "             city  rating_not_checked  \\\n",
       "0       г. Москва               False   \n",
       "1  г. Новосибирск               False   \n",
       "2       г. Москва               False   \n",
       "3   г. Ставрополь               False   \n",
       "4    г. Челябинск               False   \n",
       "\n",
       "                                               title  num_comments  \\\n",
       "0                                             Жалоба             0   \n",
       "1      Не могу пользоваться услугой Сбербанк он-лайн             0   \n",
       "2                    Двойное списание за один товар.             1   \n",
       "3  Меняют проценты комиссии  не предупредив и не ...             2   \n",
       "4             Верните денежные средства за страховку             1   \n",
       "\n",
       "      bank_license       author        bank_name             datetime  \\\n",
       "0  лицензия № 2562       uhnov1          Бинбанк  2015-06-08 12:50:54   \n",
       "1  лицензия № 1481       Foryou  Сбербанк России  2015-06-08 11:09:57   \n",
       "2  лицензия № 2562   Vladimir84          Бинбанк  2015-06-05 20:14:28   \n",
       "3  лицензия № 1481       643609  Сбербанк России  2015-06-05 13:51:01   \n",
       "4  лицензия № 2766  anfisa-2003         ОТП Банк  2015-06-05 10:58:12   \n",
       "\n",
       "                                                text  rating_grade  \n",
       "0  Добрый день! Я не являюсь клиентом банка и пор...           NaN  \n",
       "1  Доброго дня! Являюсь держателем зарплатной кар...           NaN  \n",
       "2  Здравствуйте!  Дублирую свое заявление от 03.0...           NaN  \n",
       "3  Добрый день!! Я открыл расчетный счет в СберБа...           NaN  \n",
       "4  04.03.2015 г. взяла кредит в вашем банке, заяв...           NaN  "
      ]
     },
     "execution_count": 7,
     "metadata": {},
     "output_type": "execute_result"
    }
   ],
   "source": [
    "df.head()"
   ]
  },
  {
   "cell_type": "code",
   "execution_count": 8,
   "metadata": {},
   "outputs": [
    {
     "name": "stdout",
     "output_type": "stream",
     "text": [
      "<class 'pandas.core.frame.DataFrame'>\n",
      "RangeIndex: 153499 entries, 0 to 153498\n",
      "Data columns (total 10 columns):\n",
      " #   Column              Non-Null Count   Dtype  \n",
      "---  ------              --------------   -----  \n",
      " 0   city                138325 non-null  object \n",
      " 1   rating_not_checked  153499 non-null  bool   \n",
      " 2   title               153499 non-null  object \n",
      " 3   num_comments        153499 non-null  int64  \n",
      " 4   bank_license        153498 non-null  object \n",
      " 5   author              153479 non-null  object \n",
      " 6   bank_name           153499 non-null  object \n",
      " 7   datetime            153499 non-null  object \n",
      " 8   text                153499 non-null  object \n",
      " 9   rating_grade        88658 non-null   float64\n",
      "dtypes: bool(1), float64(1), int64(1), object(7)\n",
      "memory usage: 10.7+ MB\n"
     ]
    }
   ],
   "source": [
    "df.info()"
   ]
  },
  {
   "cell_type": "code",
   "execution_count": 9,
   "metadata": {},
   "outputs": [],
   "source": [
    "# Удалим,где рейтинг не известен\n",
    "df.dropna(subset=['rating_grade'], inplace = True)"
   ]
  },
  {
   "cell_type": "code",
   "execution_count": 10,
   "metadata": {},
   "outputs": [
    {
     "data": {
      "text/plain": [
       "(88658, 10)"
      ]
     },
     "execution_count": 10,
     "metadata": {},
     "output_type": "execute_result"
    }
   ],
   "source": [
    "df.shape"
   ]
  },
  {
   "cell_type": "markdown",
   "metadata": {},
   "source": [
    "### 1. Посчитайте количество отзывов в разных городах и на разные банки"
   ]
  },
  {
   "cell_type": "code",
   "execution_count": 11,
   "metadata": {},
   "outputs": [],
   "source": [
    "cities=df.groupby(['city']).count()['text'].sort_values( ascending=False).head(29)\n",
    "banks=df.groupby(['bank_name']).count()['text'].sort_values( ascending=False).head(29)"
   ]
  },
  {
   "cell_type": "code",
   "execution_count": 12,
   "metadata": {
    "scrolled": true
   },
   "outputs": [
    {
     "data": {
      "text/plain": [
       "Text(0.5, 0, 'Количество отзывов')"
      ]
     },
     "execution_count": 12,
     "metadata": {},
     "output_type": "execute_result"
    },
    {
     "data": {
      "image/png": "[encoded data removed]",
      "text/plain": [
       "<Figure size 432x288 with 1 Axes>"
      ]
     },
     "metadata": {
      "needs_background": "light"
     },
     "output_type": "display_data"
    }
   ],
   "source": [
    "plt.barh(banks.index[::-1],banks.values[::-1])\n",
    "plt.grid( linestyle='-.', linewidth=0.2)\n",
    "plt.xlabel('Количество отзывов')"
   ]
  },
  {
   "cell_type": "code",
   "execution_count": 13,
   "metadata": {},
   "outputs": [
    {
     "data": {
      "text/plain": [
       "Text(0.5, 0, 'Количество отзывов')"
      ]
     },
     "execution_count": 13,
     "metadata": {},
     "output_type": "execute_result"
    },
    {
     "data": {
      "image/png": "[encoded data removed]",
      "text/plain": [
       "<Figure size 432x288 with 1 Axes>"
      ]
     },
     "metadata": {
      "needs_background": "light"
     },
     "output_type": "display_data"
    }
   ],
   "source": [
    "plt.barh(cities.index[::-1],cities.values[::-1])\n",
    "plt.grid( linestyle='-.', linewidth=0.2)\n",
    "plt.xlabel('Количество отзывов')"
   ]
  },
  {
   "cell_type": "markdown",
   "metadata": {},
   "source": [
    "### 2. Постройте гистограмы длин слов в символах и в словах"
   ]
  },
  {
   "cell_type": "code",
   "execution_count": 14,
   "metadata": {},
   "outputs": [
    {
     "data": {
      "text/plain": [
       "count    88658.000000\n",
       "mean      1718.655711\n",
       "std       1387.903005\n",
       "min         31.000000\n",
       "25%        852.000000\n",
       "50%       1345.000000\n",
       "75%       2131.000000\n",
       "max      32082.000000\n",
       "Name: text, dtype: float64"
      ]
     },
     "execution_count": 14,
     "metadata": {},
     "output_type": "execute_result"
    }
   ],
   "source": [
    "#длина\n",
    "len_chars = df.text.apply(len)\n",
    "len_chars.describe()"
   ]
  },
  {
   "cell_type": "code",
   "execution_count": 15,
   "metadata": {},
   "outputs": [
    {
     "data": {
      "image/png": "[encoded data removed]",
      "text/plain": [
       "<Figure size 432x288 with 1 Axes>"
      ]
     },
     "metadata": {
      "needs_background": "light"
     },
     "output_type": "display_data"
    }
   ],
   "source": [
    "len_chars[len_chars<10000].plot(kind='hist',bins=100, title='Гистограмма длины отзыва в символах')\n",
    "\n",
    "plt.grid(True)\n"
   ]
  },
  {
   "cell_type": "code",
   "execution_count": 16,
   "metadata": {},
   "outputs": [
    {
     "data": {
      "text/plain": [
       "count    88658.00000\n",
       "mean       262.54814\n",
       "std        213.16522\n",
       "min          5.00000\n",
       "25%        129.00000\n",
       "50%        205.00000\n",
       "75%        326.00000\n",
       "max       5000.00000\n",
       "Name: text, dtype: float64"
      ]
     },
     "execution_count": 16,
     "metadata": {},
     "output_type": "execute_result"
    }
   ],
   "source": [
    "len_tokens = df.text.str.split().apply(len)\n",
    "len_tokens.describe()"
   ]
  },
  {
   "cell_type": "code",
   "execution_count": 17,
   "metadata": {},
   "outputs": [
    {
     "data": {
      "image/png": "[encoded data removed]",
      "text/plain": [
       "<Figure size 432x288 with 1 Axes>"
      ]
     },
     "metadata": {
      "needs_background": "light"
     },
     "output_type": "display_data"
    }
   ],
   "source": [
    "len_tokens[len_tokens<2000].plot(kind='hist',bins=100, title='Гистограмма длины отзыва в словах')\n",
    "plt.grid(True)"
   ]
  },
  {
   "cell_type": "markdown",
   "metadata": {},
   "source": [
    "### Найдите 10 самых частых:\n",
    "    * слов\n",
    "    * слов без стоп-слов\n",
    "    * лемм"
   ]
  },
  {
   "cell_type": "code",
   "execution_count": null,
   "metadata": {},
   "outputs": [],
   "source": []
  },
  {
   "cell_type": "markdown",
   "metadata": {},
   "source": [
    "#### Cлова"
   ]
  },
  {
   "cell_type": "code",
   "execution_count": 18,
   "metadata": {},
   "outputs": [],
   "source": [
    "import re\n",
    "regex = re.compile(\"[А-Яа-я]+\")\n",
    "\n",
    "def words_only(text, regex=regex):\n",
    "    try:\n",
    "        return \" \".join(regex.findall(text))\n",
    "    except:\n",
    "        return \"\""
   ]
  },
  {
   "cell_type": "code",
   "execution_count": 19,
   "metadata": {},
   "outputs": [],
   "source": [
    "df['text_tokinized'] =  df.text.str.lower().apply(words_only)"
   ]
  },
  {
   "cell_type": "code",
   "execution_count": 20,
   "metadata": {
    "scrolled": false
   },
   "outputs": [
    {
     "name": "stderr",
     "output_type": "stream",
     "text": [
      "C:\\ProgramData\\Anaconda3\\lib\\site-packages\\ipykernel_launcher.py:7: TqdmDeprecationWarning: This function will be removed in tqdm==5.0.0\n",
      "Please use `tqdm.notebook.tqdm` instead of `tqdm.tqdm_notebook`\n",
      "  import sys\n"
     ]
    },
    {
     "data": {
      "application/vnd.jupyter.widget-view+json": {
       "model_id": "7432dc599dc346e5b0f7d374dbb67c89",
       "version_major": 2,
       "version_minor": 0
      },
      "text/plain": [
       "  0%|          | 0/88658 [00:00<?, ?it/s]"
      ]
     },
     "metadata": {},
     "output_type": "display_data"
    },
    {
     "name": "stdout",
     "output_type": "stream",
     "text": [
      "('в', 859205)\n",
      "('и', 683760)\n",
      "('не', 541870)\n",
      "('на', 453390)\n",
      "('что', 417356)\n",
      "('я', 368386)\n",
      "('с', 288214)\n",
      "('по', 232882)\n",
      "('мне', 209093)\n",
      "('банка', 171118)\n"
     ]
    }
   ],
   "source": [
    "from collections import Counter\n",
    "from tqdm import tqdm_notebook as tqdm\n",
    "cnt = Counter()\n",
    "n_types = []\n",
    "n_tokens = []\n",
    "tokens = []\n",
    "for index, row in tqdm(df.iterrows(), total = len(df)):\n",
    "    tokens = row['text_tokinized'].split()\n",
    "    #print(tokens)\n",
    "    cnt.update(tokens)\n",
    "    n_types.append(len(cnt))\n",
    "    n_tokens.append(sum(cnt.values()))\n",
    "for i in cnt.most_common(10):\n",
    "    print(i)"
   ]
  },
  {
   "cell_type": "markdown",
   "metadata": {},
   "source": [
    "#### Cлова без стоп-слов"
   ]
  },
  {
   "cell_type": "code",
   "execution_count": null,
   "metadata": {},
   "outputs": [],
   "source": []
  },
  {
   "cell_type": "code",
   "execution_count": 21,
   "metadata": {},
   "outputs": [],
   "source": [
    "from nltk.corpus import stopwords\n",
    " #print(stopwords.words('russian'))\n",
    "mystopwords = stopwords.words('russian') + ['это', 'наш' , 'тыс', 'млн', 'млрд', 'также',  'т', 'д']\n",
    "def  remove_stopwords(text, mystopwords = mystopwords):\n",
    "    try:\n",
    "        return \" \".join([token for token in text.split() if not token in mystopwords])\n",
    "    except:\n",
    "        return "
   ]
  },
  {
   "cell_type": "code",
   "execution_count": 22,
   "metadata": {},
   "outputs": [
    {
     "data": {
      "text/html": [
       "<div>\n",
       "<style scoped>\n",
       "    .dataframe tbody tr th:only-of-type {\n",
       "        vertical-align: middle;\n",
       "    }\n",
       "\n",
       "    .dataframe tbody tr th {\n",
       "        vertical-align: top;\n",
       "    }\n",
       "\n",
       "    .dataframe thead th {\n",
       "        text-align: right;\n",
       "    }\n",
       "</style>\n",
       "<table border=\"1\" class=\"dataframe\">\n",
       "  <thead>\n",
       "    <tr style=\"text-align: right;\">\n",
       "      <th></th>\n",
       "      <th>city</th>\n",
       "      <th>rating_not_checked</th>\n",
       "      <th>title</th>\n",
       "      <th>num_comments</th>\n",
       "      <th>bank_license</th>\n",
       "      <th>author</th>\n",
       "      <th>bank_name</th>\n",
       "      <th>datetime</th>\n",
       "      <th>text</th>\n",
       "      <th>rating_grade</th>\n",
       "      <th>text_tokinized</th>\n",
       "      <th>text_tokinized_without_stop_worlds</th>\n",
       "    </tr>\n",
       "  </thead>\n",
       "  <tbody>\n",
       "    <tr>\n",
       "      <th>14</th>\n",
       "      <td>г. Москва</td>\n",
       "      <td>False</td>\n",
       "      <td>В Шоке</td>\n",
       "      <td>0</td>\n",
       "      <td>лицензия № 2673</td>\n",
       "      <td>yura1189</td>\n",
       "      <td>Тинькофф Банк</td>\n",
       "      <td>2015-06-05 13:52:40</td>\n",
       "      <td>Также как и многие давний клиент банка, был до...</td>\n",
       "      <td>2.0</td>\n",
       "      <td>также как и многие давний клиент банка был дов...</td>\n",
       "      <td>многие давний клиент банка доволен высшей степ...</td>\n",
       "    </tr>\n",
       "    <tr>\n",
       "      <th>19</th>\n",
       "      <td>г. Москва</td>\n",
       "      <td>False</td>\n",
       "      <td>Некомпетентность сотрудников банка</td>\n",
       "      <td>2</td>\n",
       "      <td>лицензия № 1481</td>\n",
       "      <td>agelun</td>\n",
       "      <td>Сбербанк России</td>\n",
       "      <td>2015-06-05 15:00:54</td>\n",
       "      <td>Открыт вклад и счет в USD. Плюс к этому есть з...</td>\n",
       "      <td>1.0</td>\n",
       "      <td>открыт вклад и счет в плюс к этому есть зарпла...</td>\n",
       "      <td>открыт вклад счет плюс этому зарплатная карта ...</td>\n",
       "    </tr>\n",
       "    <tr>\n",
       "      <th>33</th>\n",
       "      <td>г. Ростов-на-Дону</td>\n",
       "      <td>False</td>\n",
       "      <td>Навязывание страховки</td>\n",
       "      <td>1</td>\n",
       "      <td>лицензия № 1481</td>\n",
       "      <td>Joker888</td>\n",
       "      <td>Сбербанк России</td>\n",
       "      <td>2015-06-05 21:35:40</td>\n",
       "      <td>Доброго времени! Вчера мне поступило смс-уведо...</td>\n",
       "      <td>1.0</td>\n",
       "      <td>доброго времени вчера мне поступило смс уведом...</td>\n",
       "      <td>доброго времени вчера поступило смс уведомлени...</td>\n",
       "    </tr>\n",
       "    <tr>\n",
       "      <th>76</th>\n",
       "      <td>г. Санкт-Петербург</td>\n",
       "      <td>False</td>\n",
       "      <td>Нарушение договора банковского вклада</td>\n",
       "      <td>0</td>\n",
       "      <td>лицензия № 3006</td>\n",
       "      <td>qwarta45</td>\n",
       "      <td>АктивКапитал Банк</td>\n",
       "      <td>2015-06-06 23:42:39</td>\n",
       "      <td>05.06.2015г. около 15 часов, пришел в указанны...</td>\n",
       "      <td>1.0</td>\n",
       "      <td>г около часов пришел в указанный офис с намере...</td>\n",
       "      <td>г около часов пришел указанный офис намерением...</td>\n",
       "    </tr>\n",
       "    <tr>\n",
       "      <th>85</th>\n",
       "      <td>г. Москва</td>\n",
       "      <td>False</td>\n",
       "      <td>Невозможно оплатить отчисления на капремонт \"Т...</td>\n",
       "      <td>4</td>\n",
       "      <td>лицензия № 1481</td>\n",
       "      <td>721</td>\n",
       "      <td>Сбербанк России</td>\n",
       "      <td>2015-06-04 13:27:04</td>\n",
       "      <td>Для оплаты коммунальных платежей пользуюсь пла...</td>\n",
       "      <td>1.0</td>\n",
       "      <td>для оплаты коммунальных платежей пользуюсь пла...</td>\n",
       "      <td>оплаты коммунальных платежей пользуюсь пластик...</td>\n",
       "    </tr>\n",
       "  </tbody>\n",
       "</table>\n",
       "</div>"
      ],
      "text/plain": [
       "                  city  rating_not_checked  \\\n",
       "14           г. Москва               False   \n",
       "19           г. Москва               False   \n",
       "33   г. Ростов-на-Дону               False   \n",
       "76  г. Санкт-Петербург               False   \n",
       "85           г. Москва               False   \n",
       "\n",
       "                                                title  num_comments  \\\n",
       "14                                             В Шоке             0   \n",
       "19                 Некомпетентность сотрудников банка             2   \n",
       "33                              Навязывание страховки             1   \n",
       "76              Нарушение договора банковского вклада             0   \n",
       "85  Невозможно оплатить отчисления на капремонт \"Т...             4   \n",
       "\n",
       "       bank_license    author          bank_name             datetime  \\\n",
       "14  лицензия № 2673  yura1189      Тинькофф Банк  2015-06-05 13:52:40   \n",
       "19  лицензия № 1481    agelun    Сбербанк России  2015-06-05 15:00:54   \n",
       "33  лицензия № 1481  Joker888    Сбербанк России  2015-06-05 21:35:40   \n",
       "76  лицензия № 3006  qwarta45  АктивКапитал Банк  2015-06-06 23:42:39   \n",
       "85  лицензия № 1481       721    Сбербанк России  2015-06-04 13:27:04   \n",
       "\n",
       "                                                 text  rating_grade  \\\n",
       "14  Также как и многие давний клиент банка, был до...           2.0   \n",
       "19  Открыт вклад и счет в USD. Плюс к этому есть з...           1.0   \n",
       "33  Доброго времени! Вчера мне поступило смс-уведо...           1.0   \n",
       "76  05.06.2015г. около 15 часов, пришел в указанны...           1.0   \n",
       "85  Для оплаты коммунальных платежей пользуюсь пла...           1.0   \n",
       "\n",
       "                                       text_tokinized  \\\n",
       "14  также как и многие давний клиент банка был дов...   \n",
       "19  открыт вклад и счет в плюс к этому есть зарпла...   \n",
       "33  доброго времени вчера мне поступило смс уведом...   \n",
       "76  г около часов пришел в указанный офис с намере...   \n",
       "85  для оплаты коммунальных платежей пользуюсь пла...   \n",
       "\n",
       "                   text_tokinized_without_stop_worlds  \n",
       "14  многие давний клиент банка доволен высшей степ...  \n",
       "19  открыт вклад счет плюс этому зарплатная карта ...  \n",
       "33  доброго времени вчера поступило смс уведомлени...  \n",
       "76  г около часов пришел указанный офис намерением...  \n",
       "85  оплаты коммунальных платежей пользуюсь пластик...  "
      ]
     },
     "execution_count": 22,
     "metadata": {},
     "output_type": "execute_result"
    }
   ],
   "source": [
    "df['text_tokinized_without_stop_worlds'] =  df.text_tokinized.str.lower().apply(remove_stopwords)\n",
    "df.head()"
   ]
  },
  {
   "cell_type": "code",
   "execution_count": 23,
   "metadata": {
    "scrolled": false
   },
   "outputs": [
    {
     "name": "stderr",
     "output_type": "stream",
     "text": [
      "C:\\ProgramData\\Anaconda3\\lib\\site-packages\\ipykernel_launcher.py:6: TqdmDeprecationWarning: This function will be removed in tqdm==5.0.0\n",
      "Please use `tqdm.notebook.tqdm` instead of `tqdm.tqdm_notebook`\n",
      "  \n"
     ]
    },
    {
     "data": {
      "application/vnd.jupyter.widget-view+json": {
       "model_id": "0f8c1b50fff747e2bd814820b8ad4a4d",
       "version_major": 2,
       "version_minor": 0
      },
      "text/plain": [
       "  0%|          | 0/88658 [00:00<?, ?it/s]"
      ]
     },
     "metadata": {},
     "output_type": "display_data"
    },
    {
     "name": "stdout",
     "output_type": "stream",
     "text": [
      "('банка', 171118)\n",
      "('банк', 130753)\n",
      "('деньги', 83171)\n",
      "('карту', 69033)\n",
      "('карты', 63121)\n",
      "('отделение', 48431)\n",
      "('день', 48092)\n",
      "('кредит', 47746)\n",
      "('банке', 46245)\n",
      "('заявление', 45279)\n"
     ]
    }
   ],
   "source": [
    "cnt = Counter()\n",
    "n_types = []\n",
    "n_tokens = []\n",
    "tokens = []\n",
    "tokens_all=[]\n",
    "for index, row in tqdm(df.iterrows(), total = len(df)):\n",
    "    tokens = row['text_tokinized_without_stop_worlds'].split()\n",
    "    tokens_all+=tokens\n",
    "    #print(tokens)\n",
    "    cnt.update(tokens)\n",
    "    n_types.append(len(cnt))\n",
    "    n_tokens.append(sum(cnt.values()))\n",
    "for i in cnt.most_common(10):\n",
    "    print(i)"
   ]
  },
  {
   "cell_type": "markdown",
   "metadata": {},
   "source": [
    "#### Леммы"
   ]
  },
  {
   "cell_type": "code",
   "execution_count": 24,
   "metadata": {},
   "outputs": [],
   "source": [
    "from pymorphy2 import MorphAnalyzer\n",
    "# from pymystem3 import Mystem\n",
    "# m = Mystem()             #оооочень долго..\n",
    "pm2 = MorphAnalyzer()\n",
    "\n",
    "def lemmatize(text, typelem=pm2):\n",
    "    try:\n",
    "        lemmas = [pm2.parse(word)[0].normal_form for word in text.split()]\n",
    "        return ' '.join(lemmas)\n",
    "    except:\n",
    "        return \" \""
   ]
  },
  {
   "cell_type": "code",
   "execution_count": 25,
   "metadata": {},
   "outputs": [],
   "source": [
    "mystoplemmas = stopwords.words('russian') + ['который','прошлый','сей', 'свой', 'наш', 'мочь']\n",
    "def  remove_stoplemmas(text, mystoplemmas = mystoplemmas):\n",
    "    try:\n",
    "        return \" \".join([token for token in text.split() if not token in mystoplemmas])\n",
    "    except:\n",
    "        return \"\""
   ]
  },
  {
   "cell_type": "code",
   "execution_count": 26,
   "metadata": {
    "scrolled": true
   },
   "outputs": [
    {
     "name": "stdout",
     "output_type": "stream",
     "text": [
      "Wall time: 29min 55s\n"
     ]
    }
   ],
   "source": [
    "%%time\n",
    "df['lemma'] = df['text_tokinized_without_stop_worlds'].apply(lemmatize)"
   ]
  },
  {
   "cell_type": "code",
   "execution_count": 27,
   "metadata": {},
   "outputs": [
    {
     "data": {
      "text/html": [
       "<div>\n",
       "<style scoped>\n",
       "    .dataframe tbody tr th:only-of-type {\n",
       "        vertical-align: middle;\n",
       "    }\n",
       "\n",
       "    .dataframe tbody tr th {\n",
       "        vertical-align: top;\n",
       "    }\n",
       "\n",
       "    .dataframe thead th {\n",
       "        text-align: right;\n",
       "    }\n",
       "</style>\n",
       "<table border=\"1\" class=\"dataframe\">\n",
       "  <thead>\n",
       "    <tr style=\"text-align: right;\">\n",
       "      <th></th>\n",
       "      <th>city</th>\n",
       "      <th>rating_not_checked</th>\n",
       "      <th>title</th>\n",
       "      <th>num_comments</th>\n",
       "      <th>bank_license</th>\n",
       "      <th>author</th>\n",
       "      <th>bank_name</th>\n",
       "      <th>datetime</th>\n",
       "      <th>text</th>\n",
       "      <th>rating_grade</th>\n",
       "      <th>text_tokinized</th>\n",
       "      <th>text_tokinized_without_stop_worlds</th>\n",
       "      <th>lemma</th>\n",
       "    </tr>\n",
       "  </thead>\n",
       "  <tbody>\n",
       "    <tr>\n",
       "      <th>14</th>\n",
       "      <td>г. Москва</td>\n",
       "      <td>False</td>\n",
       "      <td>В Шоке</td>\n",
       "      <td>0</td>\n",
       "      <td>лицензия № 2673</td>\n",
       "      <td>yura1189</td>\n",
       "      <td>Тинькофф Банк</td>\n",
       "      <td>2015-06-05 13:52:40</td>\n",
       "      <td>Также как и многие давний клиент банка, был до...</td>\n",
       "      <td>2.0</td>\n",
       "      <td>также как и многие давний клиент банка был дов...</td>\n",
       "      <td>многие давний клиент банка доволен высшей степ...</td>\n",
       "      <td>многие давний клиент банк довольный высокий ст...</td>\n",
       "    </tr>\n",
       "    <tr>\n",
       "      <th>19</th>\n",
       "      <td>г. Москва</td>\n",
       "      <td>False</td>\n",
       "      <td>Некомпетентность сотрудников банка</td>\n",
       "      <td>2</td>\n",
       "      <td>лицензия № 1481</td>\n",
       "      <td>agelun</td>\n",
       "      <td>Сбербанк России</td>\n",
       "      <td>2015-06-05 15:00:54</td>\n",
       "      <td>Открыт вклад и счет в USD. Плюс к этому есть з...</td>\n",
       "      <td>1.0</td>\n",
       "      <td>открыт вклад и счет в плюс к этому есть зарпла...</td>\n",
       "      <td>открыт вклад счет плюс этому зарплатная карта ...</td>\n",
       "      <td>открыть вклад счёт плюс этот зарплатный карта ...</td>\n",
       "    </tr>\n",
       "    <tr>\n",
       "      <th>33</th>\n",
       "      <td>г. Ростов-на-Дону</td>\n",
       "      <td>False</td>\n",
       "      <td>Навязывание страховки</td>\n",
       "      <td>1</td>\n",
       "      <td>лицензия № 1481</td>\n",
       "      <td>Joker888</td>\n",
       "      <td>Сбербанк России</td>\n",
       "      <td>2015-06-05 21:35:40</td>\n",
       "      <td>Доброго времени! Вчера мне поступило смс-уведо...</td>\n",
       "      <td>1.0</td>\n",
       "      <td>доброго времени вчера мне поступило смс уведом...</td>\n",
       "      <td>доброго времени вчера поступило смс уведомлени...</td>\n",
       "      <td>добрый время вчера поступить смс уведомление б...</td>\n",
       "    </tr>\n",
       "    <tr>\n",
       "      <th>76</th>\n",
       "      <td>г. Санкт-Петербург</td>\n",
       "      <td>False</td>\n",
       "      <td>Нарушение договора банковского вклада</td>\n",
       "      <td>0</td>\n",
       "      <td>лицензия № 3006</td>\n",
       "      <td>qwarta45</td>\n",
       "      <td>АктивКапитал Банк</td>\n",
       "      <td>2015-06-06 23:42:39</td>\n",
       "      <td>05.06.2015г. около 15 часов, пришел в указанны...</td>\n",
       "      <td>1.0</td>\n",
       "      <td>г около часов пришел в указанный офис с намере...</td>\n",
       "      <td>г около часов пришел указанный офис намерением...</td>\n",
       "      <td>г около час прийти указанный офис намерение по...</td>\n",
       "    </tr>\n",
       "    <tr>\n",
       "      <th>85</th>\n",
       "      <td>г. Москва</td>\n",
       "      <td>False</td>\n",
       "      <td>Невозможно оплатить отчисления на капремонт \"Т...</td>\n",
       "      <td>4</td>\n",
       "      <td>лицензия № 1481</td>\n",
       "      <td>721</td>\n",
       "      <td>Сбербанк России</td>\n",
       "      <td>2015-06-04 13:27:04</td>\n",
       "      <td>Для оплаты коммунальных платежей пользуюсь пла...</td>\n",
       "      <td>1.0</td>\n",
       "      <td>для оплаты коммунальных платежей пользуюсь пла...</td>\n",
       "      <td>оплаты коммунальных платежей пользуюсь пластик...</td>\n",
       "      <td>оплата коммунальный платёж пользоваться пласти...</td>\n",
       "    </tr>\n",
       "  </tbody>\n",
       "</table>\n",
       "</div>"
      ],
      "text/plain": [
       "                  city  rating_not_checked  \\\n",
       "14           г. Москва               False   \n",
       "19           г. Москва               False   \n",
       "33   г. Ростов-на-Дону               False   \n",
       "76  г. Санкт-Петербург               False   \n",
       "85           г. Москва               False   \n",
       "\n",
       "                                                title  num_comments  \\\n",
       "14                                             В Шоке             0   \n",
       "19                 Некомпетентность сотрудников банка             2   \n",
       "33                              Навязывание страховки             1   \n",
       "76              Нарушение договора банковского вклада             0   \n",
       "85  Невозможно оплатить отчисления на капремонт \"Т...             4   \n",
       "\n",
       "       bank_license    author          bank_name             datetime  \\\n",
       "14  лицензия № 2673  yura1189      Тинькофф Банк  2015-06-05 13:52:40   \n",
       "19  лицензия № 1481    agelun    Сбербанк России  2015-06-05 15:00:54   \n",
       "33  лицензия № 1481  Joker888    Сбербанк России  2015-06-05 21:35:40   \n",
       "76  лицензия № 3006  qwarta45  АктивКапитал Банк  2015-06-06 23:42:39   \n",
       "85  лицензия № 1481       721    Сбербанк России  2015-06-04 13:27:04   \n",
       "\n",
       "                                                 text  rating_grade  \\\n",
       "14  Также как и многие давний клиент банка, был до...           2.0   \n",
       "19  Открыт вклад и счет в USD. Плюс к этому есть з...           1.0   \n",
       "33  Доброго времени! Вчера мне поступило смс-уведо...           1.0   \n",
       "76  05.06.2015г. около 15 часов, пришел в указанны...           1.0   \n",
       "85  Для оплаты коммунальных платежей пользуюсь пла...           1.0   \n",
       "\n",
       "                                       text_tokinized  \\\n",
       "14  также как и многие давний клиент банка был дов...   \n",
       "19  открыт вклад и счет в плюс к этому есть зарпла...   \n",
       "33  доброго времени вчера мне поступило смс уведом...   \n",
       "76  г около часов пришел в указанный офис с намере...   \n",
       "85  для оплаты коммунальных платежей пользуюсь пла...   \n",
       "\n",
       "                   text_tokinized_without_stop_worlds  \\\n",
       "14  многие давний клиент банка доволен высшей степ...   \n",
       "19  открыт вклад счет плюс этому зарплатная карта ...   \n",
       "33  доброго времени вчера поступило смс уведомлени...   \n",
       "76  г около часов пришел указанный офис намерением...   \n",
       "85  оплаты коммунальных платежей пользуюсь пластик...   \n",
       "\n",
       "                                                lemma  \n",
       "14  многие давний клиент банк довольный высокий ст...  \n",
       "19  открыть вклад счёт плюс этот зарплатный карта ...  \n",
       "33  добрый время вчера поступить смс уведомление б...  \n",
       "76  г около час прийти указанный офис намерение по...  \n",
       "85  оплата коммунальный платёж пользоваться пласти...  "
      ]
     },
     "execution_count": 27,
     "metadata": {},
     "output_type": "execute_result"
    }
   ],
   "source": [
    "df.head()"
   ]
  },
  {
   "cell_type": "code",
   "execution_count": 28,
   "metadata": {},
   "outputs": [
    {
     "name": "stderr",
     "output_type": "stream",
     "text": [
      "C:\\ProgramData\\Anaconda3\\lib\\site-packages\\ipykernel_launcher.py:6: TqdmDeprecationWarning: This function will be removed in tqdm==5.0.0\n",
      "Please use `tqdm.notebook.tqdm` instead of `tqdm.tqdm_notebook`\n",
      "  \n"
     ]
    },
    {
     "data": {
      "application/vnd.jupyter.widget-view+json": {
       "model_id": "8b9a2466ba4c4f20acf75e008c98ecb9",
       "version_major": 2,
       "version_minor": 0
      },
      "text/plain": [
       "  0%|          | 0/88658 [00:00<?, ?it/s]"
      ]
     },
     "metadata": {},
     "output_type": "display_data"
    },
    {
     "name": "stdout",
     "output_type": "stream",
     "text": [
      "('банк', 413149)\n",
      "('карта', 211438)\n",
      "('деньга', 114398)\n",
      "('день', 112825)\n",
      "('отделение', 105610)\n",
      "('мой', 98205)\n",
      "('который', 94335)\n",
      "('кредит', 91324)\n",
      "('сотрудник', 88252)\n",
      "('клиент', 88018)\n"
     ]
    }
   ],
   "source": [
    "cnt = Counter()\n",
    "n_types = []\n",
    "n_tokens = []\n",
    "tokens = []\n",
    "tokens_all=[]\n",
    "for index, row in tqdm(df.iterrows(), total = len(df)):\n",
    "    tokens = row['lemma'].split()\n",
    "    #print(tokens)\n",
    "    cnt.update(tokens)\n",
    "    n_types.append(len(cnt))\n",
    "    tokens_all+=tokens\n",
    "    #print(cnt.values())\n",
    "    #print('__________________________')\n",
    "    #print(sum(cnt.values()))\n",
    "    n_tokens.append(sum(cnt.values()))\n",
    "    #break\n",
    "for i in cnt.most_common(10):\n",
    "    print(i)"
   ]
  },
  {
   "cell_type": "markdown",
   "metadata": {},
   "source": [
    "### Существительные"
   ]
  },
  {
   "cell_type": "code",
   "execution_count": 29,
   "metadata": {},
   "outputs": [],
   "source": [
    "def to_nouns(text, typelem=pm2):\n",
    "    try:\n",
    "        return  \" \".join([noun for noun in text.split() if typelem.parse(noun)[0].tag.POS =='NOUN'])\n",
    "    except:\n",
    "        return \"\""
   ]
  },
  {
   "cell_type": "code",
   "execution_count": 30,
   "metadata": {},
   "outputs": [
    {
     "name": "stdout",
     "output_type": "stream",
     "text": [
      "Wall time: 29min 4s\n"
     ]
    },
    {
     "data": {
      "text/html": [
       "<div>\n",
       "<style scoped>\n",
       "    .dataframe tbody tr th:only-of-type {\n",
       "        vertical-align: middle;\n",
       "    }\n",
       "\n",
       "    .dataframe tbody tr th {\n",
       "        vertical-align: top;\n",
       "    }\n",
       "\n",
       "    .dataframe thead th {\n",
       "        text-align: right;\n",
       "    }\n",
       "</style>\n",
       "<table border=\"1\" class=\"dataframe\">\n",
       "  <thead>\n",
       "    <tr style=\"text-align: right;\">\n",
       "      <th></th>\n",
       "      <th>city</th>\n",
       "      <th>rating_not_checked</th>\n",
       "      <th>title</th>\n",
       "      <th>num_comments</th>\n",
       "      <th>bank_license</th>\n",
       "      <th>author</th>\n",
       "      <th>bank_name</th>\n",
       "      <th>datetime</th>\n",
       "      <th>text</th>\n",
       "      <th>rating_grade</th>\n",
       "      <th>text_tokinized</th>\n",
       "      <th>text_tokinized_without_stop_worlds</th>\n",
       "      <th>lemma</th>\n",
       "      <th>NOUN</th>\n",
       "    </tr>\n",
       "  </thead>\n",
       "  <tbody>\n",
       "    <tr>\n",
       "      <th>14</th>\n",
       "      <td>г. Москва</td>\n",
       "      <td>False</td>\n",
       "      <td>В Шоке</td>\n",
       "      <td>0</td>\n",
       "      <td>лицензия № 2673</td>\n",
       "      <td>yura1189</td>\n",
       "      <td>Тинькофф Банк</td>\n",
       "      <td>2015-06-05 13:52:40</td>\n",
       "      <td>Также как и многие давний клиент банка, был до...</td>\n",
       "      <td>2.0</td>\n",
       "      <td>также как и многие давний клиент банка был дов...</td>\n",
       "      <td>многие давний клиент банка доволен высшей степ...</td>\n",
       "      <td>многие давний клиент банк довольный высокий ст...</td>\n",
       "      <td>клиент банк степень друг большинство сотрудник...</td>\n",
       "    </tr>\n",
       "    <tr>\n",
       "      <th>19</th>\n",
       "      <td>г. Москва</td>\n",
       "      <td>False</td>\n",
       "      <td>Некомпетентность сотрудников банка</td>\n",
       "      <td>2</td>\n",
       "      <td>лицензия № 1481</td>\n",
       "      <td>agelun</td>\n",
       "      <td>Сбербанк России</td>\n",
       "      <td>2015-06-05 15:00:54</td>\n",
       "      <td>Открыт вклад и счет в USD. Плюс к этому есть з...</td>\n",
       "      <td>1.0</td>\n",
       "      <td>открыт вклад и счет в плюс к этому есть зарпла...</td>\n",
       "      <td>открыт вклад счет плюс этому зарплатная карта ...</td>\n",
       "      <td>открыть вклад счёт плюс этот зарплатный карта ...</td>\n",
       "      <td>вклад счёт карта рубль отделение цель операцио...</td>\n",
       "    </tr>\n",
       "    <tr>\n",
       "      <th>33</th>\n",
       "      <td>г. Ростов-на-Дону</td>\n",
       "      <td>False</td>\n",
       "      <td>Навязывание страховки</td>\n",
       "      <td>1</td>\n",
       "      <td>лицензия № 1481</td>\n",
       "      <td>Joker888</td>\n",
       "      <td>Сбербанк России</td>\n",
       "      <td>2015-06-05 21:35:40</td>\n",
       "      <td>Доброго времени! Вчера мне поступило смс-уведо...</td>\n",
       "      <td>1.0</td>\n",
       "      <td>доброго времени вчера мне поступило смс уведом...</td>\n",
       "      <td>доброго времени вчера поступило смс уведомлени...</td>\n",
       "      <td>добрый время вчера поступить смс уведомление б...</td>\n",
       "      <td>время смс уведомление банк предложение кредит ...</td>\n",
       "    </tr>\n",
       "    <tr>\n",
       "      <th>76</th>\n",
       "      <td>г. Санкт-Петербург</td>\n",
       "      <td>False</td>\n",
       "      <td>Нарушение договора банковского вклада</td>\n",
       "      <td>0</td>\n",
       "      <td>лицензия № 3006</td>\n",
       "      <td>qwarta45</td>\n",
       "      <td>АктивКапитал Банк</td>\n",
       "      <td>2015-06-06 23:42:39</td>\n",
       "      <td>05.06.2015г. около 15 часов, пришел в указанны...</td>\n",
       "      <td>1.0</td>\n",
       "      <td>г около часов пришел в указанный офис с намере...</td>\n",
       "      <td>г около часов пришел указанный офис намерением...</td>\n",
       "      <td>г около час прийти указанный офис намерение по...</td>\n",
       "      <td>г час офис намерение вклад небо менежер го июн...</td>\n",
       "    </tr>\n",
       "    <tr>\n",
       "      <th>85</th>\n",
       "      <td>г. Москва</td>\n",
       "      <td>False</td>\n",
       "      <td>Невозможно оплатить отчисления на капремонт \"Т...</td>\n",
       "      <td>4</td>\n",
       "      <td>лицензия № 1481</td>\n",
       "      <td>721</td>\n",
       "      <td>Сбербанк России</td>\n",
       "      <td>2015-06-04 13:27:04</td>\n",
       "      <td>Для оплаты коммунальных платежей пользуюсь пла...</td>\n",
       "      <td>1.0</td>\n",
       "      <td>для оплаты коммунальных платежей пользуюсь пла...</td>\n",
       "      <td>оплаты коммунальных платежей пользуюсь пластик...</td>\n",
       "      <td>оплата коммунальный платёж пользоваться пласти...</td>\n",
       "      <td>оплата платёж карта сайт банк пора отчисление ...</td>\n",
       "    </tr>\n",
       "  </tbody>\n",
       "</table>\n",
       "</div>"
      ],
      "text/plain": [
       "                  city  rating_not_checked  \\\n",
       "14           г. Москва               False   \n",
       "19           г. Москва               False   \n",
       "33   г. Ростов-на-Дону               False   \n",
       "76  г. Санкт-Петербург               False   \n",
       "85           г. Москва               False   \n",
       "\n",
       "                                                title  num_comments  \\\n",
       "14                                             В Шоке             0   \n",
       "19                 Некомпетентность сотрудников банка             2   \n",
       "33                              Навязывание страховки             1   \n",
       "76              Нарушение договора банковского вклада             0   \n",
       "85  Невозможно оплатить отчисления на капремонт \"Т...             4   \n",
       "\n",
       "       bank_license    author          bank_name             datetime  \\\n",
       "14  лицензия № 2673  yura1189      Тинькофф Банк  2015-06-05 13:52:40   \n",
       "19  лицензия № 1481    agelun    Сбербанк России  2015-06-05 15:00:54   \n",
       "33  лицензия № 1481  Joker888    Сбербанк России  2015-06-05 21:35:40   \n",
       "76  лицензия № 3006  qwarta45  АктивКапитал Банк  2015-06-06 23:42:39   \n",
       "85  лицензия № 1481       721    Сбербанк России  2015-06-04 13:27:04   \n",
       "\n",
       "                                                 text  rating_grade  \\\n",
       "14  Также как и многие давний клиент банка, был до...           2.0   \n",
       "19  Открыт вклад и счет в USD. Плюс к этому есть з...           1.0   \n",
       "33  Доброго времени! Вчера мне поступило смс-уведо...           1.0   \n",
       "76  05.06.2015г. около 15 часов, пришел в указанны...           1.0   \n",
       "85  Для оплаты коммунальных платежей пользуюсь пла...           1.0   \n",
       "\n",
       "                                       text_tokinized  \\\n",
       "14  также как и многие давний клиент банка был дов...   \n",
       "19  открыт вклад и счет в плюс к этому есть зарпла...   \n",
       "33  доброго времени вчера мне поступило смс уведом...   \n",
       "76  г около часов пришел в указанный офис с намере...   \n",
       "85  для оплаты коммунальных платежей пользуюсь пла...   \n",
       "\n",
       "                   text_tokinized_without_stop_worlds  \\\n",
       "14  многие давний клиент банка доволен высшей степ...   \n",
       "19  открыт вклад счет плюс этому зарплатная карта ...   \n",
       "33  доброго времени вчера поступило смс уведомлени...   \n",
       "76  г около часов пришел указанный офис намерением...   \n",
       "85  оплаты коммунальных платежей пользуюсь пластик...   \n",
       "\n",
       "                                                lemma  \\\n",
       "14  многие давний клиент банк довольный высокий ст...   \n",
       "19  открыть вклад счёт плюс этот зарплатный карта ...   \n",
       "33  добрый время вчера поступить смс уведомление б...   \n",
       "76  г около час прийти указанный офис намерение по...   \n",
       "85  оплата коммунальный платёж пользоваться пласти...   \n",
       "\n",
       "                                                 NOUN  \n",
       "14  клиент банк степень друг большинство сотрудник...  \n",
       "19  вклад счёт карта рубль отделение цель операцио...  \n",
       "33  время смс уведомление банк предложение кредит ...  \n",
       "76  г час офис намерение вклад небо менежер го июн...  \n",
       "85  оплата платёж карта сайт банк пора отчисление ...  "
      ]
     },
     "execution_count": 30,
     "metadata": {},
     "output_type": "execute_result"
    }
   ],
   "source": [
    "%%time\n",
    "df['NOUN'] = df['lemma'].apply(to_nouns)\n",
    "df.head()"
   ]
  },
  {
   "cell_type": "code",
   "execution_count": 31,
   "metadata": {},
   "outputs": [
    {
     "name": "stderr",
     "output_type": "stream",
     "text": [
      "C:\\ProgramData\\Anaconda3\\lib\\site-packages\\ipykernel_launcher.py:6: TqdmDeprecationWarning: This function will be removed in tqdm==5.0.0\n",
      "Please use `tqdm.notebook.tqdm` instead of `tqdm.tqdm_notebook`\n",
      "  \n"
     ]
    },
    {
     "data": {
      "application/vnd.jupyter.widget-view+json": {
       "model_id": "99ea3933004d4be090313a7051b70618",
       "version_major": 2,
       "version_minor": 0
      },
      "text/plain": [
       "  0%|          | 0/88658 [00:00<?, ?it/s]"
      ]
     },
     "metadata": {},
     "output_type": "display_data"
    },
    {
     "name": "stdout",
     "output_type": "stream",
     "text": [
      "('банк', 413149)\n",
      "('карта', 211438)\n",
      "('деньга', 114398)\n",
      "('день', 112825)\n",
      "('отделение', 105610)\n",
      "('кредит', 91324)\n",
      "('сотрудник', 88252)\n",
      "('клиент', 88018)\n",
      "('счёт', 81909)\n",
      "('заявление', 66721)\n"
     ]
    }
   ],
   "source": [
    "cnt_noun = Counter()\n",
    "n_types_noun = []\n",
    "n_tokens_noun= []\n",
    "tokens_noun = []\n",
    "tokens_all_noun=[]\n",
    "for index, row in tqdm(df.iterrows(), total = len(df)):\n",
    "    tokens = row['NOUN'].split()\n",
    "    #print(tokens)\n",
    "    cnt_noun.update(tokens)\n",
    "    n_types_noun.append(len(cnt))\n",
    "    tokens_all_noun+=tokens\n",
    "    #print(cnt.values())\n",
    "    #print('__________________________')\n",
    "    #print(sum(cnt.values()))\n",
    "    n_tokens_noun.append(sum(cnt.values()))\n",
    "    #break\n",
    "for i in cnt_noun.most_common(10):\n",
    "    print(i)"
   ]
  },
  {
   "cell_type": "markdown",
   "metadata": {},
   "source": [
    "#### 4. Постройте кривые Ципфа и Хипса"
   ]
  },
  {
   "cell_type": "code",
   "execution_count": 32,
   "metadata": {
    "scrolled": true
   },
   "outputs": [
    {
     "data": {
      "image/png": "[encoded data removed]",
      "text/plain": [
       "<Figure size 864x288 with 1 Axes>"
      ]
     },
     "metadata": {
      "needs_background": "light"
     },
     "output_type": "display_data"
    }
   ],
   "source": [
    "freqs = list(cnt.values())\n",
    "freqs = sorted(freqs, reverse = True)\n",
    "\n",
    "fig, ax = plt.subplots(figsize=(12,4))\n",
    "ax.plot(freqs[:300], range(300))\n",
    "plt.xlabel('Номер слова')\n",
    "plt.ylabel('Частота слова')\n",
    "plt.title('Кривая Ципфа')\n",
    "plt.grid()\n",
    "\n",
    "plt.show()"
   ]
  },
  {
   "cell_type": "code",
   "execution_count": 33,
   "metadata": {},
   "outputs": [
    {
     "data": {
      "image/png": "[encoded data removed]",
      "text/plain": [
       "<Figure size 864x288 with 1 Axes>"
      ]
     },
     "metadata": {
      "needs_background": "light"
     },
     "output_type": "display_data"
    }
   ],
   "source": [
    "fig, ax = plt.subplots(figsize=(12,4))\n",
    "ax.plot(n_tokens,n_types)\n",
    "plt.xlabel('Количество  токенов')\n",
    "plt.ylabel('Число слов')\n",
    "plt.title('Кривая Хипса')\n",
    "plt.grid()\n",
    "\n",
    "plt.show()"
   ]
  },
  {
   "cell_type": "markdown",
   "metadata": {},
   "source": [
    "5. Ответьте на следующие вопросы:\n",
    "    * какое слово встречается чаще, \"сотрудник\" или \"клиент\"?\n",
    "    * сколько раз встречается слова \"мошенничество\" и \"доверие\"?"
   ]
  },
  {
   "cell_type": "code",
   "execution_count": 34,
   "metadata": {},
   "outputs": [],
   "source": [
    "from nltk import FreqDist\n",
    "Freq_Dist = FreqDist(tokens_all)"
   ]
  },
  {
   "cell_type": "code",
   "execution_count": 35,
   "metadata": {},
   "outputs": [
    {
     "name": "stdout",
     "output_type": "stream",
     "text": [
      "\"сотрудник\" встрчается:  88252 раз\n",
      "\"клиент\" встрчается:  88018 раз\n",
      "\"Сотрудник\" встречается чаще\n"
     ]
    }
   ],
   "source": [
    "print('\"сотрудник\" встрчается: ',Freq_Dist['сотрудник'],'раз')\n",
    "print('\"клиент\" встрчается: ',Freq_Dist['клиент'],'раз')\n",
    "\n",
    "if Freq_Dist['сотрудник'] > Freq_Dist['клиент']:\n",
    "    print('\"Сотрудник\" встречается чаще')\n",
    "else:\n",
    "    print('\"Клиент\" встречается чаще')"
   ]
  },
  {
   "cell_type": "code",
   "execution_count": 36,
   "metadata": {},
   "outputs": [
    {
     "name": "stdout",
     "output_type": "stream",
     "text": [
      "\"мошенничество\" встрчается: \" 1299 раз\n",
      "\"доверие\" встрчается: \" 1259 раз\n"
     ]
    }
   ],
   "source": [
    "print('\"мошенничество\" встрчается: \"',Freq_Dist['мошенничество'],'раз')\n",
    "print('\"доверие\" встрчается: \"',Freq_Dist['доверие'],'раз')"
   ]
  },
  {
   "cell_type": "markdown",
   "metadata": {},
   "source": [
    "#### 6. В поле \"rating_grade\" записана оценка отзыва по шкале от 1 до 5. Используйте меру $tf-idf$, для того, чтобы найти ключевые слова и биграмы для положительных отзывов (с оценкой 5) и отрицательных отзывов (с оценкой 1)"
   ]
  },
  {
   "cell_type": "code",
   "execution_count": 37,
   "metadata": {},
   "outputs": [
    {
     "data": {
      "text/plain": [
       "1.0    47387\n",
       "5.0    14713\n",
       "2.0    13509\n",
       "3.0     9261\n",
       "4.0     3788\n",
       "Name: rating_grade, dtype: int64"
      ]
     },
     "execution_count": 37,
     "metadata": {},
     "output_type": "execute_result"
    }
   ],
   "source": [
    "df['rating_grade'].value_counts()"
   ]
  },
  {
   "cell_type": "code",
   "execution_count": 38,
   "metadata": {},
   "outputs": [],
   "source": [
    "#С виду сбалансированная выборка. Выберем по 7 тысяч примеров"
   ]
  },
  {
   "cell_type": "code",
   "execution_count": 39,
   "metadata": {},
   "outputs": [],
   "source": [
    "num=7000\n",
    "df_for_tf_idf = df[(df.rating_grade==1)].sample(n=num).copy()\n",
    "df_for_tf_idf=df_for_tf_idf.append(df[(df.rating_grade==5)].sample(n=num))"
   ]
  },
  {
   "cell_type": "code",
   "execution_count": 40,
   "metadata": {},
   "outputs": [
    {
     "data": {
      "text/plain": [
       "5.0    7000\n",
       "1.0    7000\n",
       "Name: rating_grade, dtype: int64"
      ]
     },
     "execution_count": 40,
     "metadata": {},
     "output_type": "execute_result"
    }
   ],
   "source": [
    "df_for_tf_idf.rating_grade.value_counts()"
   ]
  },
  {
   "cell_type": "code",
   "execution_count": 41,
   "metadata": {},
   "outputs": [],
   "source": [
    "tokens_by_topic = []"
   ]
  },
  {
   "cell_type": "code",
   "execution_count": 42,
   "metadata": {},
   "outputs": [
    {
     "name": "stdout",
     "output_type": "stream",
     "text": [
      "1.0\n",
      "5.0\n"
     ]
    }
   ],
   "source": [
    "for rating in df_for_tf_idf.rating_grade.unique():\n",
    "    print(rating)\n",
    "    #if df['topic'].value_counts()[topic] > 100: \n",
    "    tokens=[]\n",
    "    sample=df_for_tf_idf[df_for_tf_idf['rating_grade']==rating]\n",
    "    for i in range(len(sample)):\n",
    "        tokens += sample.lemma.iloc[i].split()\n",
    "    tokens_by_topic.append(tokens)"
   ]
  },
  {
   "cell_type": "markdown",
   "metadata": {},
   "source": [
    "#### Униграммы"
   ]
  },
  {
   "cell_type": "code",
   "execution_count": 43,
   "metadata": {},
   "outputs": [],
   "source": [
    "from sklearn.feature_extraction.text import TfidfVectorizer\n",
    "import numpy as np\n",
    "\n",
    "\n",
    "tfidf = TfidfVectorizer(analyzer='word', ngram_range=(1,1), min_df = 0)\n",
    "tfidf_matrix =  tfidf.fit_transform([' '.join(tokens) for tokens in tokens_by_topic])\n",
    "feature_names = tfidf.get_feature_names() \n",
    "tfidf_ranking_rank_is_5 = []\n",
    "tfidf_ranking_rank_is_1 = []\n",
    "dense = tfidf_matrix.todense()\n",
    "\n",
    "text = dense[1].tolist()[0]\n",
    "phrase_scores = [pair for pair in zip(range(0, len(text)), text) if pair[1] > 0]\n",
    "sorted_phrase_scores = sorted(phrase_scores, key=lambda t: t[1] * -1)\n",
    "phrases = []\n",
    "for phrase, score in [(feature_names[word_id], score) for (word_id, score) in sorted_phrase_scores][:70]:\n",
    "    tfidf_ranking_rank_is_5.append(phrase)\n",
    "    \n",
    "text = dense[0].tolist()[0]\n",
    "phrase_scores = [pair for pair in zip(range(0, len(text)), text) if pair[1] > 0]\n",
    "sorted_phrase_scores = sorted(phrase_scores, key=lambda t: t[1] * -1)\n",
    "phrases = []\n",
    "for phrase, score in [(feature_names[word_id], score) for (word_id, score) in sorted_phrase_scores][:70]:\n",
    "    tfidf_ranking_rank_is_1.append(phrase)    "
   ]
  },
  {
   "cell_type": "markdown",
   "metadata": {},
   "source": [
    "#### На уровне юниграмм , кстати, многое пересекается. Видны некоторые особенности"
   ]
  },
  {
   "cell_type": "code",
   "execution_count": 44,
   "metadata": {},
   "outputs": [
    {
     "data": {
      "text/html": [
       "<div>\n",
       "<style scoped>\n",
       "    .dataframe tbody tr th:only-of-type {\n",
       "        vertical-align: middle;\n",
       "    }\n",
       "\n",
       "    .dataframe tbody tr th {\n",
       "        vertical-align: top;\n",
       "    }\n",
       "\n",
       "    .dataframe thead th {\n",
       "        text-align: right;\n",
       "    }\n",
       "</style>\n",
       "<table border=\"1\" class=\"dataframe\">\n",
       "  <thead>\n",
       "    <tr style=\"text-align: right;\">\n",
       "      <th></th>\n",
       "      <th>tfidf_ranking_rank_is_5</th>\n",
       "      <th>tfidf_ranking_rank_is_1</th>\n",
       "    </tr>\n",
       "  </thead>\n",
       "  <tbody>\n",
       "    <tr>\n",
       "      <th>0</th>\n",
       "      <td>банк</td>\n",
       "      <td>банк</td>\n",
       "    </tr>\n",
       "    <tr>\n",
       "      <th>1</th>\n",
       "      <td>карта</td>\n",
       "      <td>карта</td>\n",
       "    </tr>\n",
       "    <tr>\n",
       "      <th>2</th>\n",
       "      <td>очень</td>\n",
       "      <td>деньга</td>\n",
       "    </tr>\n",
       "    <tr>\n",
       "      <th>3</th>\n",
       "      <td>кредит</td>\n",
       "      <td>день</td>\n",
       "    </tr>\n",
       "    <tr>\n",
       "      <th>4</th>\n",
       "      <td>день</td>\n",
       "      <td>мой</td>\n",
       "    </tr>\n",
       "    <tr>\n",
       "      <th>5</th>\n",
       "      <td>клиент</td>\n",
       "      <td>отделение</td>\n",
       "    </tr>\n",
       "    <tr>\n",
       "      <th>6</th>\n",
       "      <td>отделение</td>\n",
       "      <td>который</td>\n",
       "    </tr>\n",
       "    <tr>\n",
       "      <th>7</th>\n",
       "      <td>который</td>\n",
       "      <td>кредит</td>\n",
       "    </tr>\n",
       "    <tr>\n",
       "      <th>8</th>\n",
       "      <td>деньга</td>\n",
       "      <td>сотрудник</td>\n",
       "    </tr>\n",
       "    <tr>\n",
       "      <th>9</th>\n",
       "      <td>сотрудник</td>\n",
       "      <td>счёт</td>\n",
       "    </tr>\n",
       "    <tr>\n",
       "      <th>10</th>\n",
       "      <td>вклад</td>\n",
       "      <td>сказать</td>\n",
       "    </tr>\n",
       "    <tr>\n",
       "      <th>11</th>\n",
       "      <td>мой</td>\n",
       "      <td>клиент</td>\n",
       "    </tr>\n",
       "    <tr>\n",
       "      <th>12</th>\n",
       "      <td>год</td>\n",
       "      <td>заявление</td>\n",
       "    </tr>\n",
       "    <tr>\n",
       "      <th>13</th>\n",
       "      <td>время</td>\n",
       "      <td>сумма</td>\n",
       "    </tr>\n",
       "    <tr>\n",
       "      <th>14</th>\n",
       "      <td>вопрос</td>\n",
       "      <td>свой</td>\n",
       "    </tr>\n",
       "  </tbody>\n",
       "</table>\n",
       "</div>"
      ],
      "text/plain": [
       "   tfidf_ranking_rank_is_5 tfidf_ranking_rank_is_1\n",
       "0                     банк                    банк\n",
       "1                    карта                   карта\n",
       "2                    очень                  деньга\n",
       "3                   кредит                    день\n",
       "4                     день                     мой\n",
       "5                   клиент               отделение\n",
       "6                отделение                 который\n",
       "7                  который                  кредит\n",
       "8                   деньга               сотрудник\n",
       "9                сотрудник                    счёт\n",
       "10                   вклад                 сказать\n",
       "11                     мой                  клиент\n",
       "12                     год               заявление\n",
       "13                   время                   сумма\n",
       "14                  вопрос                    свой"
      ]
     },
     "execution_count": 44,
     "metadata": {},
     "output_type": "execute_result"
    }
   ],
   "source": [
    "rankings = pd.DataFrame({'tfidf_ranking_rank_is_5': tfidf_ranking_rank_is_5,'tfidf_ranking_rank_is_1': tfidf_ranking_rank_is_1})\n",
    "rankings.head(15)"
   ]
  },
  {
   "cell_type": "code",
   "execution_count": 45,
   "metadata": {},
   "outputs": [
    {
     "data": {
      "text/plain": [
       "(70, 2)"
      ]
     },
     "execution_count": 45,
     "metadata": {},
     "output_type": "execute_result"
    }
   ],
   "source": [
    "rankings.shape"
   ]
  },
  {
   "cell_type": "markdown",
   "metadata": {},
   "source": [
    "#### Попробуем исключить пресекающщиейся леммы из топов"
   ]
  },
  {
   "cell_type": "code",
   "execution_count": 46,
   "metadata": {},
   "outputs": [],
   "source": [
    "rankings['tfidf_ranking_rank_is_5_without_1']=rankings.tfidf_ranking_rank_is_5[~rankings.tfidf_ranking_rank_is_5.isin(rankings.tfidf_ranking_rank_is_1)]"
   ]
  },
  {
   "cell_type": "code",
   "execution_count": 47,
   "metadata": {},
   "outputs": [],
   "source": [
    "rankings['tfidf_ranking_rank_is_1_without_5']=rankings.tfidf_ranking_rank_is_1[~rankings.tfidf_ranking_rank_is_1.isin(rankings.tfidf_ranking_rank_is_5)]"
   ]
  },
  {
   "cell_type": "code",
   "execution_count": 48,
   "metadata": {},
   "outputs": [
    {
     "data": {
      "text/html": [
       "<div>\n",
       "<style scoped>\n",
       "    .dataframe tbody tr th:only-of-type {\n",
       "        vertical-align: middle;\n",
       "    }\n",
       "\n",
       "    .dataframe tbody tr th {\n",
       "        vertical-align: top;\n",
       "    }\n",
       "\n",
       "    .dataframe thead th {\n",
       "        text-align: right;\n",
       "    }\n",
       "</style>\n",
       "<table border=\"1\" class=\"dataframe\">\n",
       "  <thead>\n",
       "    <tr style=\"text-align: right;\">\n",
       "      <th></th>\n",
       "      <th>tfidf_ranking_rank_is_5_without_1</th>\n",
       "      <th>tfidf_ranking_rank_is_1_without_5</th>\n",
       "    </tr>\n",
       "  </thead>\n",
       "  <tbody>\n",
       "    <tr>\n",
       "      <th>19</th>\n",
       "      <td>обслуживание</td>\n",
       "      <td>ответ</td>\n",
       "    </tr>\n",
       "    <tr>\n",
       "      <th>30</th>\n",
       "      <td>интернет</td>\n",
       "      <td>написать</td>\n",
       "    </tr>\n",
       "    <tr>\n",
       "      <th>35</th>\n",
       "      <td>минута</td>\n",
       "      <td>ваш</td>\n",
       "    </tr>\n",
       "    <tr>\n",
       "      <th>38</th>\n",
       "      <td>весь</td>\n",
       "      <td>говорить</td>\n",
       "    </tr>\n",
       "    <tr>\n",
       "      <th>45</th>\n",
       "      <td>хороший</td>\n",
       "      <td>должный</td>\n",
       "    </tr>\n",
       "    <tr>\n",
       "      <th>46</th>\n",
       "      <td>первый</td>\n",
       "      <td>почему</td>\n",
       "    </tr>\n",
       "    <tr>\n",
       "      <th>49</th>\n",
       "      <td>процент</td>\n",
       "      <td>ситуация</td>\n",
       "    </tr>\n",
       "    <tr>\n",
       "      <th>54</th>\n",
       "      <td>несколько</td>\n",
       "      <td>информация</td>\n",
       "    </tr>\n",
       "  </tbody>\n",
       "</table>\n",
       "</div>"
      ],
      "text/plain": [
       "   tfidf_ranking_rank_is_5_without_1 tfidf_ranking_rank_is_1_without_5\n",
       "19                      обслуживание                             ответ\n",
       "30                          интернет                          написать\n",
       "35                            минута                               ваш\n",
       "38                              весь                          говорить\n",
       "45                           хороший                           должный\n",
       "46                            первый                            почему\n",
       "49                           процент                          ситуация\n",
       "54                         несколько                        информация"
      ]
     },
     "execution_count": 48,
     "metadata": {},
     "output_type": "execute_result"
    }
   ],
   "source": [
    "#Вот так больше разницу видно\n",
    "rankings.iloc[:,-2:].dropna()"
   ]
  },
  {
   "cell_type": "markdown",
   "metadata": {},
   "source": [
    "#### Проделаем такое же упражнении для биграмм"
   ]
  },
  {
   "cell_type": "code",
   "execution_count": 49,
   "metadata": {},
   "outputs": [],
   "source": [
    "from sklearn.feature_extraction.text import TfidfVectorizer\n",
    "import numpy as np\n",
    "\n",
    "\n",
    "tfidf = TfidfVectorizer(analyzer='word', ngram_range=(2,2), min_df = 0)\n",
    "tfidf_matrix =  tfidf.fit_transform([' '.join(tokens) for tokens in tokens_by_topic])\n",
    "feature_names = tfidf.get_feature_names() \n",
    "tfidf_ranking_rank_is_5 = []\n",
    "tfidf_ranking_rank_is_1 = []\n",
    "dense = tfidf_matrix.todense()\n",
    "\n",
    "text = dense[1].tolist()[0]\n",
    "phrase_scores = [pair for pair in zip(range(0, len(text)), text) if pair[1] > 0]\n",
    "sorted_phrase_scores = sorted(phrase_scores, key=lambda t: t[1] * -1)\n",
    "phrases = []\n",
    "for phrase, score in [(feature_names[word_id], score) for (word_id, score) in sorted_phrase_scores][:70]:\n",
    "    tfidf_ranking_rank_is_5.append(phrase)\n",
    "    \n",
    "text = dense[0].tolist()[0]\n",
    "phrase_scores = [pair for pair in zip(range(0, len(text)), text) if pair[1] > 0]\n",
    "sorted_phrase_scores = sorted(phrase_scores, key=lambda t: t[1] * -1)\n",
    "phrases = []\n",
    "for phrase, score in [(feature_names[word_id], score) for (word_id, score) in sorted_phrase_scores][:70]:\n",
    "    tfidf_ranking_rank_is_1.append(phrase) "
   ]
  },
  {
   "cell_type": "code",
   "execution_count": null,
   "metadata": {},
   "outputs": [],
   "source": []
  },
  {
   "cell_type": "code",
   "execution_count": 50,
   "metadata": {},
   "outputs": [
    {
     "data": {
      "text/html": [
       "<div>\n",
       "<style scoped>\n",
       "    .dataframe tbody tr th:only-of-type {\n",
       "        vertical-align: middle;\n",
       "    }\n",
       "\n",
       "    .dataframe tbody tr th {\n",
       "        vertical-align: top;\n",
       "    }\n",
       "\n",
       "    .dataframe thead th {\n",
       "        text-align: right;\n",
       "    }\n",
       "</style>\n",
       "<table border=\"1\" class=\"dataframe\">\n",
       "  <thead>\n",
       "    <tr style=\"text-align: right;\">\n",
       "      <th></th>\n",
       "      <th>tfidf_ranking_rank_is_5</th>\n",
       "      <th>tfidf_ranking_rank_is_1</th>\n",
       "    </tr>\n",
       "  </thead>\n",
       "  <tbody>\n",
       "    <tr>\n",
       "      <th>0</th>\n",
       "      <td>интернет банк</td>\n",
       "      <td>сотрудник банк</td>\n",
       "    </tr>\n",
       "    <tr>\n",
       "      <th>1</th>\n",
       "      <td>кредитный карта</td>\n",
       "      <td>кредитный карта</td>\n",
       "    </tr>\n",
       "    <tr>\n",
       "      <th>2</th>\n",
       "      <td>другой банк</td>\n",
       "      <td>отделение банк</td>\n",
       "    </tr>\n",
       "    <tr>\n",
       "      <th>3</th>\n",
       "      <td>сотрудник банк</td>\n",
       "      <td>денежный средство</td>\n",
       "    </tr>\n",
       "    <tr>\n",
       "      <th>4</th>\n",
       "      <td>клиент банк</td>\n",
       "      <td>написать заявление</td>\n",
       "    </tr>\n",
       "    <tr>\n",
       "      <th>5</th>\n",
       "      <td>следующий день</td>\n",
       "      <td>горячий линия</td>\n",
       "    </tr>\n",
       "    <tr>\n",
       "      <th>6</th>\n",
       "      <td>отделение банк</td>\n",
       "      <td>ваш банк</td>\n",
       "    </tr>\n",
       "    <tr>\n",
       "      <th>7</th>\n",
       "      <td>являться клиент</td>\n",
       "      <td>рабочий день</td>\n",
       "    </tr>\n",
       "    <tr>\n",
       "      <th>8</th>\n",
       "      <td>банк который</td>\n",
       "      <td>колл центр</td>\n",
       "    </tr>\n",
       "    <tr>\n",
       "      <th>9</th>\n",
       "      <td>дебетовый карта</td>\n",
       "      <td>альфа банк</td>\n",
       "    </tr>\n",
       "    <tr>\n",
       "      <th>10</th>\n",
       "      <td>добрый день</td>\n",
       "      <td>клиент банк</td>\n",
       "    </tr>\n",
       "    <tr>\n",
       "      <th>11</th>\n",
       "      <td>альфа банк</td>\n",
       "      <td>следующий день</td>\n",
       "    </tr>\n",
       "    <tr>\n",
       "      <th>12</th>\n",
       "      <td>очень удобно</td>\n",
       "      <td>сей пора</td>\n",
       "    </tr>\n",
       "    <tr>\n",
       "      <th>13</th>\n",
       "      <td>процентный ставка</td>\n",
       "      <td>служба поддержка</td>\n",
       "    </tr>\n",
       "    <tr>\n",
       "      <th>14</th>\n",
       "      <td>очень довольный</td>\n",
       "      <td>добрый день</td>\n",
       "    </tr>\n",
       "  </tbody>\n",
       "</table>\n",
       "</div>"
      ],
      "text/plain": [
       "   tfidf_ranking_rank_is_5 tfidf_ranking_rank_is_1\n",
       "0            интернет банк          сотрудник банк\n",
       "1          кредитный карта         кредитный карта\n",
       "2              другой банк          отделение банк\n",
       "3           сотрудник банк       денежный средство\n",
       "4              клиент банк      написать заявление\n",
       "5           следующий день           горячий линия\n",
       "6           отделение банк                ваш банк\n",
       "7          являться клиент            рабочий день\n",
       "8             банк который              колл центр\n",
       "9          дебетовый карта              альфа банк\n",
       "10             добрый день             клиент банк\n",
       "11              альфа банк          следующий день\n",
       "12            очень удобно                сей пора\n",
       "13       процентный ставка        служба поддержка\n",
       "14         очень довольный             добрый день"
      ]
     },
     "execution_count": 50,
     "metadata": {},
     "output_type": "execute_result"
    }
   ],
   "source": [
    "# Тоже самое.Проделаем тот же трюк\n",
    "rankings = pd.DataFrame({'tfidf_ranking_rank_is_5': tfidf_ranking_rank_is_5,'tfidf_ranking_rank_is_1': tfidf_ranking_rank_is_1})\n",
    "rankings.head(15)"
   ]
  },
  {
   "cell_type": "code",
   "execution_count": 51,
   "metadata": {},
   "outputs": [],
   "source": [
    "rankings['tfidf_ranking_rank_is_5_without_1']=rankings.tfidf_ranking_rank_is_5[~rankings.tfidf_ranking_rank_is_5.isin(rankings.tfidf_ranking_rank_is_1)]"
   ]
  },
  {
   "cell_type": "code",
   "execution_count": 52,
   "metadata": {},
   "outputs": [],
   "source": [
    "rankings['tfidf_ranking_rank_is_1_without_5']=rankings.tfidf_ranking_rank_is_1[~rankings.tfidf_ranking_rank_is_1.isin(rankings.tfidf_ranking_rank_is_5)]"
   ]
  },
  {
   "cell_type": "code",
   "execution_count": 53,
   "metadata": {},
   "outputs": [
    {
     "data": {
      "text/html": [
       "<div>\n",
       "<style scoped>\n",
       "    .dataframe tbody tr th:only-of-type {\n",
       "        vertical-align: middle;\n",
       "    }\n",
       "\n",
       "    .dataframe tbody tr th {\n",
       "        vertical-align: top;\n",
       "    }\n",
       "\n",
       "    .dataframe thead th {\n",
       "        text-align: right;\n",
       "    }\n",
       "</style>\n",
       "<table border=\"1\" class=\"dataframe\">\n",
       "  <thead>\n",
       "    <tr style=\"text-align: right;\">\n",
       "      <th></th>\n",
       "      <th>tfidf_ranking_rank_is_5_without_1</th>\n",
       "      <th>tfidf_ranking_rank_is_1_without_5</th>\n",
       "    </tr>\n",
       "  </thead>\n",
       "  <tbody>\n",
       "    <tr>\n",
       "      <th>12</th>\n",
       "      <td>очень удобно</td>\n",
       "      <td>сей пора</td>\n",
       "    </tr>\n",
       "    <tr>\n",
       "      <th>20</th>\n",
       "      <td>хотеть выразить</td>\n",
       "      <td>течение день</td>\n",
       "    </tr>\n",
       "    <tr>\n",
       "      <th>21</th>\n",
       "      <td>работа банк</td>\n",
       "      <td>кредитный договор</td>\n",
       "    </tr>\n",
       "    <tr>\n",
       "      <th>24</th>\n",
       "      <td>очень быстро</td>\n",
       "      <td>мой деньга</td>\n",
       "    </tr>\n",
       "    <tr>\n",
       "      <th>26</th>\n",
       "      <td>мой вопрос</td>\n",
       "      <td>отделение сбербанк</td>\n",
       "    </tr>\n",
       "    <tr>\n",
       "      <th>27</th>\n",
       "      <td>пользоваться услуга</td>\n",
       "      <td>мой карта</td>\n",
       "    </tr>\n",
       "    <tr>\n",
       "      <th>29</th>\n",
       "      <td>качество обслуживание</td>\n",
       "      <td>получить ответ</td>\n",
       "    </tr>\n",
       "    <tr>\n",
       "      <th>32</th>\n",
       "      <td>банк год</td>\n",
       "      <td>мой заявление</td>\n",
       "    </tr>\n",
       "    <tr>\n",
       "      <th>33</th>\n",
       "      <td>огромный спасибо</td>\n",
       "      <td>погашение кредит</td>\n",
       "    </tr>\n",
       "    <tr>\n",
       "      <th>35</th>\n",
       "      <td>большой спасибо</td>\n",
       "      <td>обратиться отделение</td>\n",
       "    </tr>\n",
       "    <tr>\n",
       "      <th>37</th>\n",
       "      <td>выразить благодарность</td>\n",
       "      <td>свой деньга</td>\n",
       "    </tr>\n",
       "    <tr>\n",
       "      <th>40</th>\n",
       "      <td>новый год</td>\n",
       "      <td>банк сказать</td>\n",
       "    </tr>\n",
       "    <tr>\n",
       "      <th>45</th>\n",
       "      <td>мочь сказать</td>\n",
       "      <td>срок рассмотрение</td>\n",
       "    </tr>\n",
       "    <tr>\n",
       "      <th>46</th>\n",
       "      <td>банк клиент</td>\n",
       "      <td>звонить банк</td>\n",
       "    </tr>\n",
       "    <tr>\n",
       "      <th>47</th>\n",
       "      <td>ипотечный кредит</td>\n",
       "      <td>доп офис</td>\n",
       "    </tr>\n",
       "    <tr>\n",
       "      <th>50</th>\n",
       "      <td>хотеть отметить</td>\n",
       "      <td>сч тот</td>\n",
       "    </tr>\n",
       "    <tr>\n",
       "      <th>51</th>\n",
       "      <td>хотеть сказать</td>\n",
       "      <td>два неделя</td>\n",
       "    </tr>\n",
       "    <tr>\n",
       "      <th>52</th>\n",
       "      <td>потребительский кредит</td>\n",
       "      <td>ежемесячный платёж</td>\n",
       "    </tr>\n",
       "    <tr>\n",
       "      <th>55</th>\n",
       "      <td>очень понравиться</td>\n",
       "      <td>зарплатный карта</td>\n",
       "    </tr>\n",
       "    <tr>\n",
       "      <th>57</th>\n",
       "      <td>кредит банк</td>\n",
       "      <td>карта который</td>\n",
       "    </tr>\n",
       "    <tr>\n",
       "      <th>58</th>\n",
       "      <td>какой либо</td>\n",
       "      <td>свой клиент</td>\n",
       "    </tr>\n",
       "    <tr>\n",
       "      <th>59</th>\n",
       "      <td>друг банк</td>\n",
       "      <td>сбербанк онлайн</td>\n",
       "    </tr>\n",
       "    <tr>\n",
       "      <th>60</th>\n",
       "      <td>это банк</td>\n",
       "      <td>мобильный банк</td>\n",
       "    </tr>\n",
       "    <tr>\n",
       "      <th>61</th>\n",
       "      <td>день позвонить</td>\n",
       "      <td>молодой человек</td>\n",
       "    </tr>\n",
       "    <tr>\n",
       "      <th>62</th>\n",
       "      <td>брать кредит</td>\n",
       "      <td>сумма рубль</td>\n",
       "    </tr>\n",
       "    <tr>\n",
       "      <th>64</th>\n",
       "      <td>банк ру</td>\n",
       "      <td>пин код</td>\n",
       "    </tr>\n",
       "  </tbody>\n",
       "</table>\n",
       "</div>"
      ],
      "text/plain": [
       "   tfidf_ranking_rank_is_5_without_1 tfidf_ranking_rank_is_1_without_5\n",
       "12                      очень удобно                          сей пора\n",
       "20                   хотеть выразить                      течение день\n",
       "21                       работа банк                 кредитный договор\n",
       "24                      очень быстро                        мой деньга\n",
       "26                        мой вопрос                отделение сбербанк\n",
       "27               пользоваться услуга                         мой карта\n",
       "29             качество обслуживание                    получить ответ\n",
       "32                          банк год                     мой заявление\n",
       "33                  огромный спасибо                  погашение кредит\n",
       "35                   большой спасибо              обратиться отделение\n",
       "37            выразить благодарность                       свой деньга\n",
       "40                         новый год                      банк сказать\n",
       "45                      мочь сказать                 срок рассмотрение\n",
       "46                       банк клиент                      звонить банк\n",
       "47                  ипотечный кредит                          доп офис\n",
       "50                   хотеть отметить                            сч тот\n",
       "51                    хотеть сказать                        два неделя\n",
       "52            потребительский кредит                ежемесячный платёж\n",
       "55                 очень понравиться                  зарплатный карта\n",
       "57                       кредит банк                     карта который\n",
       "58                        какой либо                       свой клиент\n",
       "59                         друг банк                   сбербанк онлайн\n",
       "60                          это банк                    мобильный банк\n",
       "61                    день позвонить                   молодой человек\n",
       "62                      брать кредит                       сумма рубль\n",
       "64                           банк ру                           пин код"
      ]
     },
     "execution_count": 53,
     "metadata": {},
     "output_type": "execute_result"
    }
   ],
   "source": [
    "#Гораздо лучше получилось\n",
    "rankings.iloc[:,-2:].dropna()"
   ]
  },
  {
   "cell_type": "markdown",
   "metadata": {},
   "source": [
    "## Часть 2. Тематическое моделирование [20/100]\n",
    "\n",
    "1. Постройте несколько тематических моделей коллекции документов с разным числом тем. Приведите примеры понятных (интерпретируемых) тем.\n",
    "2. Найдите темы, в которых упомянуты конкретные банки (Сбербанк, ВТБ, другой банк). Можете ли вы их прокомментировать / объяснить?\n",
    "\n",
    "Эта часть задания может быть сделана с использованием gensim. "
   ]
  },
  {
   "cell_type": "code",
   "execution_count": 54,
   "metadata": {},
   "outputs": [],
   "source": [
    "from gensim.corpora import *\n",
    "texts = [df.lemma.iloc[i].split() for i in range(len(df))]\n",
    "dictionary = Dictionary(texts)\n",
    "corpus = [dictionary.doc2bow(text) for text in texts]"
   ]
  },
  {
   "cell_type": "code",
   "execution_count": 55,
   "metadata": {},
   "outputs": [],
   "source": [
    "tfidf = TfidfModel(corpus)\n",
    "corpus_tfidf = tfidf[corpus]"
   ]
  },
  {
   "cell_type": "code",
   "execution_count": 56,
   "metadata": {},
   "outputs": [],
   "source": [
    "# 5 тем\n",
    "lsi_5 = LsiModel(corpus=corpus_tfidf, id2word=dictionary, num_topics=5)"
   ]
  },
  {
   "cell_type": "code",
   "execution_count": 57,
   "metadata": {},
   "outputs": [
    {
     "data": {
      "text/plain": [
       "[(0,\n",
       "  '0.193*\"карта\" + 0.129*\"кредит\" + 0.110*\"заявление\" + 0.109*\"деньга\" + 0.109*\"вклад\" + 0.105*\"счёт\" + 0.104*\"банкомат\" + 0.098*\"отделение\" + 0.091*\"сумма\" + 0.090*\"сбербанк\"'),\n",
       " (1,\n",
       "  '-0.573*\"вклад\" + -0.170*\"очередь\" + 0.165*\"кредит\" + 0.141*\"заявление\" + -0.136*\"открыть\" + 0.131*\"платёж\" + 0.125*\"задолженность\" + 0.112*\"погашение\" + -0.095*\"минута\" + -0.094*\"офис\"'),\n",
       " (2,\n",
       "  '0.381*\"кредит\" + -0.351*\"банкомат\" + -0.271*\"карта\" + 0.244*\"страховка\" + 0.170*\"договор\" + -0.160*\"сбербанк\" + 0.140*\"страхование\" + -0.137*\"деньга\" + 0.135*\"погашение\" + -0.128*\"операция\"'),\n",
       " (3,\n",
       "  '0.365*\"вклад\" + -0.247*\"заявка\" + -0.230*\"карта\" + 0.193*\"банкомат\" + 0.190*\"сумма\" + 0.148*\"погашение\" + 0.146*\"платёж\" + 0.144*\"средство\" + 0.139*\"руб\" + 0.137*\"деньга\"'),\n",
       " (4,\n",
       "  '-0.455*\"банкомат\" + -0.312*\"страховка\" + 0.222*\"карта\" + 0.189*\"задолженность\" + -0.182*\"страхование\" + 0.151*\"вклад\" + -0.131*\"купюра\" + -0.120*\"заявка\" + -0.116*\"деньга\" + -0.113*\"страховой\"')]"
      ]
     },
     "execution_count": 57,
     "metadata": {},
     "output_type": "execute_result"
    }
   ],
   "source": [
    "lsi_5.show_topics(5)"
   ]
  },
  {
   "cell_type": "code",
   "execution_count": 58,
   "metadata": {},
   "outputs": [],
   "source": [
    "# 10 тем\n",
    "lsi_10 = LsiModel(corpus=corpus_tfidf, id2word=dictionary, num_topics=10)"
   ]
  },
  {
   "cell_type": "code",
   "execution_count": 59,
   "metadata": {},
   "outputs": [
    {
     "data": {
      "text/plain": [
       "[(0,\n",
       "  '0.193*\"карта\" + 0.129*\"кредит\" + 0.110*\"заявление\" + 0.109*\"деньга\" + 0.108*\"вклад\" + 0.105*\"банкомат\" + 0.105*\"счёт\" + 0.098*\"отделение\" + 0.091*\"сумма\" + 0.089*\"сбербанк\"'),\n",
       " (1,\n",
       "  '-0.587*\"вклад\" + -0.168*\"очередь\" + 0.147*\"кредит\" + 0.139*\"заявление\" + -0.139*\"открыть\" + 0.125*\"платёж\" + 0.120*\"задолженность\" + 0.103*\"погашение\" + 0.099*\"банкомат\" + 0.096*\"претензия\"'),\n",
       " (2,\n",
       "  '0.383*\"кредит\" + -0.378*\"банкомат\" + -0.262*\"карта\" + 0.215*\"страховка\" + 0.166*\"договор\" + 0.145*\"погашение\" + -0.145*\"деньга\" + -0.144*\"сбербанк\" + -0.127*\"операция\" + 0.127*\"документ\"'),\n",
       " (3,\n",
       "  '0.336*\"вклад\" + -0.285*\"карта\" + 0.236*\"банкомат\" + -0.234*\"заявка\" + 0.185*\"сумма\" + 0.149*\"деньга\" + 0.142*\"погашение\" + 0.137*\"платёж\" + 0.135*\"средство\" + 0.129*\"руб\"'),\n",
       " (4,\n",
       "  '-0.373*\"банкомат\" + 0.340*\"карта\" + 0.234*\"вклад\" + -0.138*\"очередь\" + -0.133*\"заявка\" + 0.130*\"задолженность\" + -0.130*\"кредит\" + -0.120*\"терминал\" + -0.120*\"купюра\" + 0.117*\"комиссия\"'),\n",
       " (5,\n",
       "  '0.303*\"вклад\" + 0.197*\"заявка\" + 0.190*\"заявление\" + 0.170*\"сбербанк\" + 0.157*\"рассмотрение\" + -0.150*\"комиссия\" + -0.145*\"платёж\" + -0.128*\"банкомат\" + -0.123*\"кредит\" + 0.122*\"срок\"'),\n",
       " (6,\n",
       "  '0.360*\"страховка\" + 0.308*\"банкомат\" + 0.248*\"карта\" + -0.218*\"платёж\" + 0.187*\"страхование\" + 0.165*\"заявка\" + -0.158*\"перевод\" + -0.143*\"номер\" + 0.126*\"вклад\" + -0.122*\"сбербанк\"'),\n",
       " (7,\n",
       "  '-0.269*\"сбербанк\" + -0.229*\"перевод\" + 0.193*\"вклад\" + -0.169*\"страховка\" + 0.164*\"задолженность\" + -0.159*\"средство\" + 0.150*\"звонить\" + -0.143*\"страхование\" + -0.142*\"денежный\" + -0.133*\"комиссия\"'),\n",
       " (8,\n",
       "  '-0.385*\"сбербанк\" + -0.233*\"карта\" + -0.218*\"заявление\" + 0.207*\"заявка\" + -0.169*\"очередь\" + -0.146*\"отделение\" + 0.140*\"номер\" + 0.138*\"банкомат\" + 0.135*\"альфа\" + 0.131*\"звонок\"'),\n",
       " (9,\n",
       "  '-0.437*\"страховка\" + -0.251*\"страхование\" + -0.229*\"номер\" + -0.175*\"сбербанк\" + 0.174*\"справка\" + 0.168*\"документ\" + -0.166*\"услуга\" + 0.165*\"заявка\" + -0.151*\"смс\" + -0.148*\"страховой\"')]"
      ]
     },
     "execution_count": 59,
     "metadata": {},
     "output_type": "execute_result"
    }
   ],
   "source": [
    "lsi_10.show_topics(10)"
   ]
  },
  {
   "cell_type": "code",
   "execution_count": null,
   "metadata": {},
   "outputs": [],
   "source": []
  },
  {
   "cell_type": "markdown",
   "metadata": {},
   "source": [
    "Темы\n",
    "1. Кредитная карта\n",
    "2. Погаись задолженность по креду\n",
    "3. Договор погашения\n",
    "4. Погашенияе средств\n",
    "5. Рассмотрение комиссии по задолженности\n",
    "..."
   ]
  },
  {
   "cell_type": "code",
   "execution_count": 60,
   "metadata": {},
   "outputs": [],
   "source": [
    "# поробуем LDA\n",
    "from gensim.models.ldamulticore import LdaMulticore"
   ]
  },
  {
   "cell_type": "code",
   "execution_count": 61,
   "metadata": {},
   "outputs": [
    {
     "data": {
      "text/plain": [
       "[(0,\n",
       "  '0.033*\"банк\" + 0.023*\"деньга\" + 0.022*\"карта\" + 0.020*\"счёт\" + 0.015*\"банкомат\" + 0.010*\"средство\" + 0.010*\"операция\" + 0.009*\"день\" + 0.009*\"сумма\" + 0.009*\"мой\"'),\n",
       " (1,\n",
       "  '0.037*\"банк\" + 0.027*\"кредит\" + 0.012*\"сумма\" + 0.011*\"договор\" + 0.010*\"день\" + 0.010*\"мой\" + 0.010*\"сотрудник\" + 0.009*\"платёж\" + 0.008*\"который\" + 0.008*\"кредитный\"'),\n",
       " (2,\n",
       "  '0.050*\"карта\" + 0.022*\"банк\" + 0.012*\"день\" + 0.011*\"звонить\" + 0.010*\"сказать\" + 0.009*\"позвонить\" + 0.008*\"отделение\" + 0.008*\"заявление\" + 0.008*\"телефон\" + 0.008*\"мой\"'),\n",
       " (3,\n",
       "  '0.037*\"банк\" + 0.013*\"клиент\" + 0.011*\"очень\" + 0.007*\"который\" + 0.006*\"сотрудник\" + 0.006*\"работа\" + 0.006*\"время\" + 0.006*\"обслуживание\" + 0.006*\"свой\" + 0.006*\"год\"'),\n",
       " (4,\n",
       "  '0.019*\"отделение\" + 0.018*\"деньга\" + 0.015*\"банк\" + 0.015*\"вклад\" + 0.010*\"очередь\" + 0.009*\"работать\" + 0.009*\"сказать\" + 0.009*\"офис\" + 0.007*\"минута\" + 0.007*\"касса\"')]"
      ]
     },
     "execution_count": 61,
     "metadata": {},
     "output_type": "execute_result"
    }
   ],
   "source": [
    "# 5 тем\n",
    "ldamodel_5 = LdaMulticore(corpus, num_topics=5, id2word = dictionary, passes=20,workers =5)\n",
    "ldamodel_5.show_topics()"
   ]
  },
  {
   "cell_type": "code",
   "execution_count": 62,
   "metadata": {
    "scrolled": true
   },
   "outputs": [
    {
     "data": {
      "text/plain": [
       "[(0,\n",
       "  '0.056*\"деньга\" + 0.052*\"банкомат\" + 0.020*\"банк\" + 0.017*\"день\" + 0.016*\"карта\" + 0.010*\"снять\" + 0.009*\"мой\" + 0.009*\"терминал\" + 0.009*\"заявление\" + 0.009*\"сумма\"'),\n",
       " (1,\n",
       "  '0.048*\"банк\" + 0.036*\"карта\" + 0.012*\"год\" + 0.010*\"обслуживание\" + 0.010*\"комиссия\" + 0.009*\"счёт\" + 0.009*\"очень\" + 0.008*\"кредитный\" + 0.008*\"процент\" + 0.008*\"интернет\"'),\n",
       " (2,\n",
       "  '0.022*\"банк\" + 0.015*\"перевод\" + 0.015*\"деньга\" + 0.014*\"счёт\" + 0.010*\"интернет\" + 0.010*\"операция\" + 0.010*\"проблема\" + 0.009*\"система\" + 0.009*\"платёж\" + 0.008*\"день\"'),\n",
       " (3,\n",
       "  '0.037*\"вклад\" + 0.032*\"банк\" + 0.015*\"деньга\" + 0.011*\"отделение\" + 0.011*\"офис\" + 0.011*\"открыть\" + 0.011*\"счёт\" + 0.009*\"договор\" + 0.009*\"сказать\" + 0.007*\"день\"'),\n",
       " (4,\n",
       "  '0.032*\"кредит\" + 0.029*\"банк\" + 0.020*\"документ\" + 0.015*\"заявка\" + 0.014*\"день\" + 0.009*\"сказать\" + 0.008*\"кредитный\" + 0.008*\"договор\" + 0.007*\"страховка\" + 0.007*\"менеджер\"'),\n",
       " (5,\n",
       "  '0.028*\"счёт\" + 0.027*\"заявление\" + 0.022*\"сбербанк\" + 0.021*\"г\" + 0.020*\"сумма\" + 0.017*\"средство\" + 0.015*\"отделение\" + 0.014*\"банк\" + 0.013*\"платёж\" + 0.013*\"мой\"'),\n",
       " (6,\n",
       "  '0.072*\"карта\" + 0.018*\"банк\" + 0.017*\"отделение\" + 0.012*\"заявление\" + 0.012*\"сказать\" + 0.012*\"день\" + 0.010*\"мой\" + 0.010*\"позвонить\" + 0.008*\"получить\" + 0.008*\"звонить\"'),\n",
       " (7,\n",
       "  '0.058*\"банк\" + 0.019*\"клиент\" + 0.017*\"сотрудник\" + 0.015*\"мой\" + 0.010*\"который\" + 0.010*\"вопрос\" + 0.009*\"ваш\" + 0.008*\"ответ\" + 0.008*\"свой\" + 0.008*\"информация\"'),\n",
       " (8,\n",
       "  '0.018*\"банк\" + 0.014*\"отделение\" + 0.013*\"очередь\" + 0.013*\"клиент\" + 0.010*\"работать\" + 0.009*\"минута\" + 0.009*\"человек\" + 0.009*\"время\" + 0.009*\"очень\" + 0.008*\"работа\"'),\n",
       " (9,\n",
       "  '0.037*\"банк\" + 0.029*\"кредит\" + 0.013*\"платёж\" + 0.011*\"звонить\" + 0.011*\"сумма\" + 0.010*\"задолженность\" + 0.009*\"день\" + 0.008*\"месяц\" + 0.008*\"звонок\" + 0.008*\"сказать\"')]"
      ]
     },
     "execution_count": 62,
     "metadata": {},
     "output_type": "execute_result"
    }
   ],
   "source": [
    "# 10 тем\n",
    "ldamodel_20 = LdaMulticore(corpus, num_topics=10, id2word = dictionary, passes=20,workers =5)\n",
    "ldamodel_20.show_topics()"
   ]
  },
  {
   "cell_type": "code",
   "execution_count": null,
   "metadata": {},
   "outputs": [],
   "source": []
  },
  {
   "cell_type": "markdown",
   "metadata": {},
   "source": [
    "#### 2. Найдите темы, в которых упомянуты конкретные банки (Сбербанк, ВТБ, другой банк). Можете ли вы их прокомментировать / объяснить?"
   ]
  },
  {
   "cell_type": "markdown",
   "metadata": {},
   "source": [
    "Из всех банков в  выборке в тематики попали только Сбер и Альфа. Их больше всего в датасете"
   ]
  },
  {
   "cell_type": "code",
   "execution_count": 63,
   "metadata": {},
   "outputs": [
    {
     "data": {
      "text/plain": [
       "Сбербанк России     0.168558\n",
       "Альфа-Банк          0.060660\n",
       "ВТБ 24              0.053870\n",
       "Русский Стандарт    0.049268\n",
       "Хоум Кредит Банк    0.045433\n",
       "Name: bank_name, dtype: float64"
      ]
     },
     "execution_count": 63,
     "metadata": {},
     "output_type": "execute_result"
    }
   ],
   "source": [
    "df.bank_name.value_counts(normalize=1).head()"
   ]
  },
  {
   "cell_type": "markdown",
   "metadata": {},
   "source": [
    "### LSI:"
   ]
  },
  {
   "cell_type": "markdown",
   "metadata": {},
   "source": [
    "####  Сбер\n",
    "    \n",
    "   - '0.309*\"вклад\" + 0.193*\"заявка\" + 0.190*\"заявление\" + 0.169*\"сбербанк\" + 0.160*\"рассмотрение\" + -0.143*\"комиссия\" + -0.132*\"платеж\" + -0.127*\"карта\" + 0.125*\"срок\" + 0.124*\"обращение\" - вот она бюрократия зеленого банка\n",
    "\n",
    "   - '0.356*\"страховка\" + 0.302*\"банкомат\" + 0.233*\"карта\" + -0.222*\"платеж\" + 0.188*\"страхование\" + 0.171*\"заявка\" + -0.147*\"номер\" + -0.139*\"перевод\" + 0.125*\"вклад\" + -0.123*\"сбербанк\"' - видимо есть какие-то проблемы со страховкой\n",
    " \n"
   ]
  },
  {
   "cell_type": "markdown",
   "metadata": {},
   "source": [
    "#### Альфа\n",
    " - 0.442*\"альфа\" + -0.211*\"услуга\" + -0.208*\"претензия\" + -0.198*\"смс\" + -0.180*\"подключать\" + 0.179*\"платеж\" + -0.171*\"закрывать\" + -0.154*\"справка\" + -0.146*\"закрытие\" + 0.142*\"кошелек\"' -какая-то операционная тематика, сложно сказать что-то\n",
    " - 0.392*\"горячий\" + -0.389*\"линия\" + -0.341*\"справка\" + 0.184*\"карточка\" + -0.173*\"терминал\" + -0.170*\"комиссия\" + 0.167*\"платеж\" + -0.166*\"руб\" + 0.141*\"альфа\" + -0.132*\"связной\" - вот это вот любопытно,  очевидно речь идет о какой-то услуге которую свзяной оказывает(термина, связной, коммисия) я б тут покапался\n",
    " - 0.344*\"сбербанк\" + 0.199*\"заявление\" + 0.198*\"подключать\" + -0.194*\"альфа\" + 0.189*\"услуга\" + 0.188*\"смс\" + 0.181*\"досрочный\" + 0.179*\"справка\" + 0.173*\"погашение\" + -0.169*\"претензия\"' - здесь интресно что и сбер и альфа фигурирует видимо у обоих были проблемы с интернет банком"
   ]
  },
  {
   "cell_type": "code",
   "execution_count": null,
   "metadata": {},
   "outputs": [],
   "source": []
  },
  {
   "cell_type": "markdown",
   "metadata": {},
   "source": [
    "### LDA:"
   ]
  },
  {
   "cell_type": "markdown",
   "metadata": {},
   "source": [
    "####  Сбер\n",
    "\n",
    "\n",
    " - '0.051*\"деньги\" + 0.038*\"банкомат\" + 0.018*\"сбербанк\" + 0.017*\"день\" + 0.014*\"банк\" + 0.013*\"заявление\" + 0.012*\"счет\" + 0.011*\"карта\" + 0.010*\"отделение\" + 0.009*\"операция\"' - тут также сложно скзазать, видимо речь идет о проблемах с картами\n",
    " - '0.103*\"сбербанк\" + 0.033*\"отделение\" + 0.025*\"деньги\" + 0.023*\"г\" + 0.020*\"платеж\" + 0.014*\"счет\" + 0.012*\"оплачивать\" + 0.011*\"сбер\" + 0.010*\"терминал\" + 0.010*\"оплата\"'- видимо о какахто платежах через терминалы итдет речь"
   ]
  },
  {
   "cell_type": "markdown",
   "metadata": {},
   "source": [
    "## Часть 3. Классификация текстов [40/100]\n",
    "\n",
    "Сформулируем для простоты задачу бинарной классификации: будем классифицировать на два класса, то есть, различать резко отрицательные отзывы (с оценкой 1) и положительные отзывы (с оценкой 5). \n",
    "\n",
    "1.  Составьте обучающее и тестовое множество: выберите из всего набора данных N1 отзывов с оценкой 1 и N2 отзывов с оценкой 5 (значение N1 и N2 – на ваше усмотрение). Используйте ```sklearn.model_selection.train_test_split``` для разделения множества отобранных документов на обучающее и тестовое. \n",
    "2. Используйте любой известный вам алгоритм классификации текстов для решения задачи и получите baseline. Сравните разные варианты векторизации текста: использование только униграм, пар или троек слов или с использованием символьных $n$-грам. \n",
    "3. Сравните, как изменяется качество решения задачи при использовании скрытых тем в качестве признаков:\n",
    "* 1-ый вариант: $tf-idf$ преобразование (```sklearn.feature_extraction.text.TfidfTransformer```) и сингулярное разложение (оно же – латентый семантический анализ) (```sklearn.decomposition.TruncatedSVD```), \n",
    "* 2-ой вариант: тематические модели LDA (```sklearn.decomposition.LatentDirichletAllocation```). \n",
    "\n",
    "Используйте accuracy и F-measure для оценки качества классификации. \n",
    "\n",
    "Ниже написан примерный Pipeline для классификации текстов. \n",
    "\n",
    "Эта часть задания может быть сделана с использованием sklearn. "
   ]
  },
  {
   "cell_type": "markdown",
   "metadata": {},
   "source": [
    "### 1) Составьте обучающее и тестовое множество: выберите из всего набора данных N1 отзывов с оценкой 1 и N2 отзывов с оценкой 5 (значение N1 и N2 – на ваше усмотрение).\n",
    "Используйте sklearn.model_selection.train_test_split для разделения множества отобранных документов на обучающее и тестовое.1) "
   ]
  },
  {
   "cell_type": "markdown",
   "metadata": {},
   "source": [
    "#### Составьте обучающее и тестовое множество: выберите из всего набора данных N1 отзывов с оценкой 1 и N2 отзывов с оценкой 5 (значение N1 и N2 – на ваше усмотрение). Используйте sklearn.model_selection.train_test_split для разделения множества отобранных документов на обучающее и тестовое."
   ]
  },
  {
   "cell_type": "code",
   "execution_count": 64,
   "metadata": {},
   "outputs": [
    {
     "data": {
      "text/html": [
       "<div>\n",
       "<style scoped>\n",
       "    .dataframe tbody tr th:only-of-type {\n",
       "        vertical-align: middle;\n",
       "    }\n",
       "\n",
       "    .dataframe tbody tr th {\n",
       "        vertical-align: top;\n",
       "    }\n",
       "\n",
       "    .dataframe thead th {\n",
       "        text-align: right;\n",
       "    }\n",
       "</style>\n",
       "<table border=\"1\" class=\"dataframe\">\n",
       "  <thead>\n",
       "    <tr style=\"text-align: right;\">\n",
       "      <th></th>\n",
       "      <th>city</th>\n",
       "      <th>rating_not_checked</th>\n",
       "      <th>title</th>\n",
       "      <th>num_comments</th>\n",
       "      <th>bank_license</th>\n",
       "      <th>author</th>\n",
       "      <th>bank_name</th>\n",
       "      <th>datetime</th>\n",
       "      <th>text</th>\n",
       "      <th>rating_grade</th>\n",
       "      <th>text_tokinized</th>\n",
       "      <th>text_tokinized_without_stop_worlds</th>\n",
       "      <th>lemma</th>\n",
       "      <th>NOUN</th>\n",
       "    </tr>\n",
       "  </thead>\n",
       "  <tbody>\n",
       "    <tr>\n",
       "      <th>14</th>\n",
       "      <td>г. Москва</td>\n",
       "      <td>False</td>\n",
       "      <td>В Шоке</td>\n",
       "      <td>0</td>\n",
       "      <td>лицензия № 2673</td>\n",
       "      <td>yura1189</td>\n",
       "      <td>Тинькофф Банк</td>\n",
       "      <td>2015-06-05 13:52:40</td>\n",
       "      <td>Также как и многие давний клиент банка, был до...</td>\n",
       "      <td>2.0</td>\n",
       "      <td>также как и многие давний клиент банка был дов...</td>\n",
       "      <td>многие давний клиент банка доволен высшей степ...</td>\n",
       "      <td>многие давний клиент банк довольный высокий ст...</td>\n",
       "      <td>клиент банк степень друг большинство сотрудник...</td>\n",
       "    </tr>\n",
       "    <tr>\n",
       "      <th>19</th>\n",
       "      <td>г. Москва</td>\n",
       "      <td>False</td>\n",
       "      <td>Некомпетентность сотрудников банка</td>\n",
       "      <td>2</td>\n",
       "      <td>лицензия № 1481</td>\n",
       "      <td>agelun</td>\n",
       "      <td>Сбербанк России</td>\n",
       "      <td>2015-06-05 15:00:54</td>\n",
       "      <td>Открыт вклад и счет в USD. Плюс к этому есть з...</td>\n",
       "      <td>1.0</td>\n",
       "      <td>открыт вклад и счет в плюс к этому есть зарпла...</td>\n",
       "      <td>открыт вклад счет плюс этому зарплатная карта ...</td>\n",
       "      <td>открыть вклад счёт плюс этот зарплатный карта ...</td>\n",
       "      <td>вклад счёт карта рубль отделение цель операцио...</td>\n",
       "    </tr>\n",
       "    <tr>\n",
       "      <th>33</th>\n",
       "      <td>г. Ростов-на-Дону</td>\n",
       "      <td>False</td>\n",
       "      <td>Навязывание страховки</td>\n",
       "      <td>1</td>\n",
       "      <td>лицензия № 1481</td>\n",
       "      <td>Joker888</td>\n",
       "      <td>Сбербанк России</td>\n",
       "      <td>2015-06-05 21:35:40</td>\n",
       "      <td>Доброго времени! Вчера мне поступило смс-уведо...</td>\n",
       "      <td>1.0</td>\n",
       "      <td>доброго времени вчера мне поступило смс уведом...</td>\n",
       "      <td>доброго времени вчера поступило смс уведомлени...</td>\n",
       "      <td>добрый время вчера поступить смс уведомление б...</td>\n",
       "      <td>время смс уведомление банк предложение кредит ...</td>\n",
       "    </tr>\n",
       "    <tr>\n",
       "      <th>76</th>\n",
       "      <td>г. Санкт-Петербург</td>\n",
       "      <td>False</td>\n",
       "      <td>Нарушение договора банковского вклада</td>\n",
       "      <td>0</td>\n",
       "      <td>лицензия № 3006</td>\n",
       "      <td>qwarta45</td>\n",
       "      <td>АктивКапитал Банк</td>\n",
       "      <td>2015-06-06 23:42:39</td>\n",
       "      <td>05.06.2015г. около 15 часов, пришел в указанны...</td>\n",
       "      <td>1.0</td>\n",
       "      <td>г около часов пришел в указанный офис с намере...</td>\n",
       "      <td>г около часов пришел указанный офис намерением...</td>\n",
       "      <td>г около час прийти указанный офис намерение по...</td>\n",
       "      <td>г час офис намерение вклад небо менежер го июн...</td>\n",
       "    </tr>\n",
       "    <tr>\n",
       "      <th>85</th>\n",
       "      <td>г. Москва</td>\n",
       "      <td>False</td>\n",
       "      <td>Невозможно оплатить отчисления на капремонт \"Т...</td>\n",
       "      <td>4</td>\n",
       "      <td>лицензия № 1481</td>\n",
       "      <td>721</td>\n",
       "      <td>Сбербанк России</td>\n",
       "      <td>2015-06-04 13:27:04</td>\n",
       "      <td>Для оплаты коммунальных платежей пользуюсь пла...</td>\n",
       "      <td>1.0</td>\n",
       "      <td>для оплаты коммунальных платежей пользуюсь пла...</td>\n",
       "      <td>оплаты коммунальных платежей пользуюсь пластик...</td>\n",
       "      <td>оплата коммунальный платёж пользоваться пласти...</td>\n",
       "      <td>оплата платёж карта сайт банк пора отчисление ...</td>\n",
       "    </tr>\n",
       "  </tbody>\n",
       "</table>\n",
       "</div>"
      ],
      "text/plain": [
       "                  city  rating_not_checked  \\\n",
       "14           г. Москва               False   \n",
       "19           г. Москва               False   \n",
       "33   г. Ростов-на-Дону               False   \n",
       "76  г. Санкт-Петербург               False   \n",
       "85           г. Москва               False   \n",
       "\n",
       "                                                title  num_comments  \\\n",
       "14                                             В Шоке             0   \n",
       "19                 Некомпетентность сотрудников банка             2   \n",
       "33                              Навязывание страховки             1   \n",
       "76              Нарушение договора банковского вклада             0   \n",
       "85  Невозможно оплатить отчисления на капремонт \"Т...             4   \n",
       "\n",
       "       bank_license    author          bank_name             datetime  \\\n",
       "14  лицензия № 2673  yura1189      Тинькофф Банк  2015-06-05 13:52:40   \n",
       "19  лицензия № 1481    agelun    Сбербанк России  2015-06-05 15:00:54   \n",
       "33  лицензия № 1481  Joker888    Сбербанк России  2015-06-05 21:35:40   \n",
       "76  лицензия № 3006  qwarta45  АктивКапитал Банк  2015-06-06 23:42:39   \n",
       "85  лицензия № 1481       721    Сбербанк России  2015-06-04 13:27:04   \n",
       "\n",
       "                                                 text  rating_grade  \\\n",
       "14  Также как и многие давний клиент банка, был до...           2.0   \n",
       "19  Открыт вклад и счет в USD. Плюс к этому есть з...           1.0   \n",
       "33  Доброго времени! Вчера мне поступило смс-уведо...           1.0   \n",
       "76  05.06.2015г. около 15 часов, пришел в указанны...           1.0   \n",
       "85  Для оплаты коммунальных платежей пользуюсь пла...           1.0   \n",
       "\n",
       "                                       text_tokinized  \\\n",
       "14  также как и многие давний клиент банка был дов...   \n",
       "19  открыт вклад и счет в плюс к этому есть зарпла...   \n",
       "33  доброго времени вчера мне поступило смс уведом...   \n",
       "76  г около часов пришел в указанный офис с намере...   \n",
       "85  для оплаты коммунальных платежей пользуюсь пла...   \n",
       "\n",
       "                   text_tokinized_without_stop_worlds  \\\n",
       "14  многие давний клиент банка доволен высшей степ...   \n",
       "19  открыт вклад счет плюс этому зарплатная карта ...   \n",
       "33  доброго времени вчера поступило смс уведомлени...   \n",
       "76  г около часов пришел указанный офис намерением...   \n",
       "85  оплаты коммунальных платежей пользуюсь пластик...   \n",
       "\n",
       "                                                lemma  \\\n",
       "14  многие давний клиент банк довольный высокий ст...   \n",
       "19  открыть вклад счёт плюс этот зарплатный карта ...   \n",
       "33  добрый время вчера поступить смс уведомление б...   \n",
       "76  г около час прийти указанный офис намерение по...   \n",
       "85  оплата коммунальный платёж пользоваться пласти...   \n",
       "\n",
       "                                                 NOUN  \n",
       "14  клиент банк степень друг большинство сотрудник...  \n",
       "19  вклад счёт карта рубль отделение цель операцио...  \n",
       "33  время смс уведомление банк предложение кредит ...  \n",
       "76  г час офис намерение вклад небо менежер го июн...  \n",
       "85  оплата платёж карта сайт банк пора отчисление ...  "
      ]
     },
     "execution_count": 64,
     "metadata": {},
     "output_type": "execute_result"
    }
   ],
   "source": [
    "df.head()"
   ]
  },
  {
   "cell_type": "code",
   "execution_count": 65,
   "metadata": {},
   "outputs": [
    {
     "data": {
      "text/plain": [
       "5.0    4000\n",
       "1.0    4000\n",
       "Name: rating_grade, dtype: int64"
      ]
     },
     "execution_count": 65,
     "metadata": {},
     "output_type": "execute_result"
    }
   ],
   "source": [
    "num=4000\n",
    "df_for_tf_idf = df[(df.rating_grade==1)].sample(n=num).copy()\n",
    "df_for_tf_idf=df_for_tf_idf.append(df[(df.rating_grade==5)].sample(n=num))\n",
    "\n",
    "df_for_tf_idf.rating_grade.value_counts()"
   ]
  },
  {
   "cell_type": "code",
   "execution_count": 66,
   "metadata": {},
   "outputs": [
    {
     "data": {
      "text/plain": [
       "5.0    4000\n",
       "1.0    4000\n",
       "Name: rating_grade, dtype: int64"
      ]
     },
     "execution_count": 66,
     "metadata": {},
     "output_type": "execute_result"
    }
   ],
   "source": [
    "df_for_tf_idf.rating_grade.value_counts()"
   ]
  },
  {
   "cell_type": "code",
   "execution_count": 67,
   "metadata": {},
   "outputs": [],
   "source": [
    "X=df_for_tf_idf.lemma.values\n",
    "y=df_for_tf_idf.rating_grade.values"
   ]
  },
  {
   "cell_type": "code",
   "execution_count": 68,
   "metadata": {},
   "outputs": [],
   "source": [
    "from sklearn.model_selection import train_test_split\n",
    "X_train, X_test, y_train, y_test = train_test_split(X, y, test_size=.3, random_state=42,stratify=y)"
   ]
  },
  {
   "cell_type": "code",
   "execution_count": 69,
   "metadata": {},
   "outputs": [
    {
     "data": {
      "text/plain": [
       "Counter({5.0: 1200, 1.0: 1200})"
      ]
     },
     "execution_count": 69,
     "metadata": {},
     "output_type": "execute_result"
    }
   ],
   "source": [
    "import collections, numpy\n",
    "collections.Counter(y_test)"
   ]
  },
  {
   "cell_type": "markdown",
   "metadata": {},
   "source": [
    "#### 2) Используйте любой известный вам алгоритм классификации текстов для решения задачи и получите baselin. Сравните разные варианты векторизации текста: использование только униграм, пар или троек слов или с использованием символьных  𝑛 -грам."
   ]
  },
  {
   "cell_type": "code",
   "execution_count": 70,
   "metadata": {},
   "outputs": [],
   "source": [
    "from sklearn.naive_bayes import MultinomialNB\n",
    "from sklearn.ensemble import RandomForestClassifier\n",
    "clf_countvectorized = Pipeline([\n",
    "    ('vect', CountVectorizer()),\n",
    "   ('clf', LogisticRegression()),])"
   ]
  },
  {
   "cell_type": "code",
   "execution_count": 71,
   "metadata": {
    "scrolled": true
   },
   "outputs": [
    {
     "name": "stdout",
     "output_type": "stream",
     "text": [
      "Fitting 3 folds for each of 252 candidates, totalling 756 fits\n"
     ]
    },
    {
     "name": "stderr",
     "output_type": "stream",
     "text": [
      "[Parallel(n_jobs=-1)]: Using backend LokyBackend with 6 concurrent workers.\n",
      "[Parallel(n_jobs=-1)]: Done  38 tasks      | elapsed:   10.8s\n",
      "[Parallel(n_jobs=-1)]: Done 188 tasks      | elapsed:  1.1min\n",
      "[Parallel(n_jobs=-1)]: Done 438 tasks      | elapsed:  2.8min\n",
      "[Parallel(n_jobs=-1)]: Done 756 out of 756 | elapsed:  5.3min finished\n"
     ]
    },
    {
     "name": "stdout",
     "output_type": "stream",
     "text": [
      "Pipeline(memory=None,\n",
      "         steps=[('vect',\n",
      "                 CountVectorizer(analyzer='word', binary=False,\n",
      "                                 decode_error='strict',\n",
      "                                 dtype=<class 'numpy.int64'>, encoding='utf-8',\n",
      "                                 input='content', lowercase=True, max_df=0.5,\n",
      "                                 max_features=None, min_df=1,\n",
      "                                 ngram_range=(1, 1), preprocessor=None,\n",
      "                                 stop_words=None, strip_accents=None,\n",
      "                                 token_pattern='(?u)\\\\b\\\\w\\\\w+\\\\b',\n",
      "                                 tokenizer=None, vocabulary=None)),\n",
      "                ('clf',\n",
      "                 LogisticRegression(C=0.1, class_weight=None, dual=False,\n",
      "                                    fit_intercept=True, intercept_scaling=1,\n",
      "                                    l1_ratio=None, max_iter=100,\n",
      "                                    multi_class='auto', n_jobs=None,\n",
      "                                    penalty='l2', random_state=None,\n",
      "                                    solver='lbfgs', tol=0.0001, verbose=0,\n",
      "                                    warm_start=False))],\n",
      "         verbose=False)\n",
      "Best score: 0.932\n"
     ]
    }
   ],
   "source": [
    "params_cntv={\n",
    "    'vect__analyzer':  ['word','char'],\n",
    "    'vect__max_df': (0.5, 0.75, 1.0),\n",
    "    'vect__ngram_range': ((1, 1), (2, 2), (3, 3)),\n",
    "     \"clf__C\": np.logspace(-3,3,7),\n",
    "     \"clf__penalty\":[\"l1\",\"l2\"]\n",
    "}\n",
    "scores=[ 'accuracy','f1']\n",
    "grid_cntv = GridSearchCV(clf_countvectorized, param_grid=params_cntv, cv=3,\n",
    "                         scoring=scores,refit=scores[0],\n",
    "                         n_jobs=-1, verbose=1)\n",
    "grid_cntv.fit(X_train, y_train)\n",
    "print(grid_cntv.best_estimator_)\n",
    "print(\"Best score: %0.3f\" % grid_cntv.best_score_)"
   ]
  },
  {
   "cell_type": "code",
   "execution_count": 72,
   "metadata": {},
   "outputs": [
    {
     "name": "stdout",
     "output_type": "stream",
     "text": [
      "Precision:   0.94\n",
      "Recall:   0.94\n",
      "F1-measure:   0.93\n",
      "Accuracy:   0.94\n",
      "              precision    recall  f1-score   support\n",
      "\n",
      "         1.0       0.94      0.93      0.93      1200\n",
      "         5.0       0.93      0.94      0.94      1200\n",
      "\n",
      "    accuracy                           0.94      2400\n",
      "   macro avg       0.94      0.94      0.93      2400\n",
      "weighted avg       0.94      0.94      0.93      2400\n",
      "\n"
     ]
    },
    {
     "data": {
      "image/png": "[encoded data removed]",
      "text/plain": [
       "<Figure size 432x288 with 1 Axes>"
      ]
     },
     "metadata": {
      "needs_background": "light"
     },
     "output_type": "display_data"
    }
   ],
   "source": [
    "from sklearn.metrics import *\n",
    "import seaborn as sns\n",
    "predictions=grid_cntv.best_estimator_.predict(X_test)\n",
    "print(\"Precision: {0:6.2f}\".format(precision_score(y_test, predictions, average='macro')))\n",
    "print(\"Recall: {0:6.2f}\".format(recall_score(y_test, predictions, average='macro')))\n",
    "print(\"F1-measure: {0:6.2f}\".format(f1_score(y_test, predictions, average='macro')))\n",
    "print(\"Accuracy: {0:6.2f}\".format(accuracy_score(y_test, predictions)))\n",
    "print(classification_report(y_test, predictions))\n",
    "\n",
    "\n",
    "labels = grid_cntv.best_estimator_.classes_\n",
    "sns.heatmap(data=confusion_matrix(y_test, predictions), annot=True, fmt=\"d\", cbar=False, xticklabels=labels, yticklabels=labels)\n",
    "plt.title(\"Confusion matrix\")\n",
    "plt.show()"
   ]
  },
  {
   "cell_type": "code",
   "execution_count": 73,
   "metadata": {},
   "outputs": [],
   "source": [
    "import warnings\n",
    "warnings.filterwarnings('ignore')"
   ]
  },
  {
   "cell_type": "code",
   "execution_count": 74,
   "metadata": {},
   "outputs": [],
   "source": [
    "\n",
    "Count_vectorized_model=pd.DataFrame.from_dict(grid_cntv.cv_results_)"
   ]
  },
  {
   "cell_type": "code",
   "execution_count": 75,
   "metadata": {
    "scrolled": true
   },
   "outputs": [
    {
     "name": "stdout",
     "output_type": "stream",
     "text": [
      "Pipeline(memory=None,\n",
      "         steps=[('vect',\n",
      "                 CountVectorizer(analyzer='word', binary=False,\n",
      "                                 decode_error='strict',\n",
      "                                 dtype=<class 'numpy.int64'>, encoding='utf-8',\n",
      "                                 input='content', lowercase=True, max_df=0.5,\n",
      "                                 max_features=None, min_df=1,\n",
      "                                 ngram_range=(1, 1), preprocessor=None,\n",
      "                                 stop_words=None, strip_accents=None,\n",
      "                                 token_pattern='(?u)\\\\b\\\\w\\\\w+\\\\b',\n",
      "                                 tokenizer=None, vocabulary=None)),\n",
      "                ('clf',\n",
      "                 LogisticRegression(C=0.1, class_weight=None, dual=False,\n",
      "                                    fit_intercept=True, intercept_scaling=1,\n",
      "                                    l1_ratio=None, max_iter=100,\n",
      "                                    multi_class='auto', n_jobs=None,\n",
      "                                    penalty='l2', random_state=None,\n",
      "                                    solver='lbfgs', tol=0.0001, verbose=0,\n",
      "                                    warm_start=False))],\n",
      "         verbose=False)\n"
     ]
    }
   ],
   "source": [
    "print(grid_cntv.best_estimator_)"
   ]
  },
  {
   "cell_type": "markdown",
   "metadata": {},
   "source": [
    "#### Грид на выбрал как лучший униграммы по словам"
   ]
  },
  {
   "cell_type": "code",
   "execution_count": 76,
   "metadata": {},
   "outputs": [
    {
     "data": {
      "text/html": [
       "<div>\n",
       "<style scoped>\n",
       "    .dataframe tbody tr th:only-of-type {\n",
       "        vertical-align: middle;\n",
       "    }\n",
       "\n",
       "    .dataframe tbody tr th {\n",
       "        vertical-align: top;\n",
       "    }\n",
       "\n",
       "    .dataframe thead th {\n",
       "        text-align: right;\n",
       "    }\n",
       "</style>\n",
       "<table border=\"1\" class=\"dataframe\">\n",
       "  <thead>\n",
       "    <tr style=\"text-align: right;\">\n",
       "      <th></th>\n",
       "      <th>param_clf__C</th>\n",
       "      <th>param_clf__penalty</th>\n",
       "      <th>param_vect__analyzer</th>\n",
       "      <th>param_vect__max_df</th>\n",
       "      <th>param_vect__ngram_range</th>\n",
       "      <th>mean_test_accuracy</th>\n",
       "      <th>mean_test_f1</th>\n",
       "    </tr>\n",
       "  </thead>\n",
       "  <tbody>\n",
       "    <tr>\n",
       "      <th>90</th>\n",
       "      <td>0.1</td>\n",
       "      <td>l2</td>\n",
       "      <td>word</td>\n",
       "      <td>0.50</td>\n",
       "      <td>(1, 1)</td>\n",
       "      <td>0.932144</td>\n",
       "      <td>0.932185</td>\n",
       "    </tr>\n",
       "    <tr>\n",
       "      <th>96</th>\n",
       "      <td>0.1</td>\n",
       "      <td>l2</td>\n",
       "      <td>word</td>\n",
       "      <td>1.00</td>\n",
       "      <td>(1, 1)</td>\n",
       "      <td>0.931609</td>\n",
       "      <td>0.931723</td>\n",
       "    </tr>\n",
       "    <tr>\n",
       "      <th>93</th>\n",
       "      <td>0.1</td>\n",
       "      <td>l2</td>\n",
       "      <td>word</td>\n",
       "      <td>0.75</td>\n",
       "      <td>(1, 1)</td>\n",
       "      <td>0.931430</td>\n",
       "      <td>0.931472</td>\n",
       "    </tr>\n",
       "    <tr>\n",
       "      <th>129</th>\n",
       "      <td>1.0</td>\n",
       "      <td>l2</td>\n",
       "      <td>word</td>\n",
       "      <td>0.75</td>\n",
       "      <td>(1, 1)</td>\n",
       "      <td>0.930537</td>\n",
       "      <td>0.930626</td>\n",
       "    </tr>\n",
       "    <tr>\n",
       "      <th>132</th>\n",
       "      <td>1.0</td>\n",
       "      <td>l2</td>\n",
       "      <td>word</td>\n",
       "      <td>1.00</td>\n",
       "      <td>(1, 1)</td>\n",
       "      <td>0.930180</td>\n",
       "      <td>0.930213</td>\n",
       "    </tr>\n",
       "    <tr>\n",
       "      <th>126</th>\n",
       "      <td>1.0</td>\n",
       "      <td>l2</td>\n",
       "      <td>word</td>\n",
       "      <td>0.50</td>\n",
       "      <td>(1, 1)</td>\n",
       "      <td>0.929823</td>\n",
       "      <td>0.929909</td>\n",
       "    </tr>\n",
       "    <tr>\n",
       "      <th>162</th>\n",
       "      <td>10.0</td>\n",
       "      <td>l2</td>\n",
       "      <td>word</td>\n",
       "      <td>0.50</td>\n",
       "      <td>(1, 1)</td>\n",
       "      <td>0.928929</td>\n",
       "      <td>0.928988</td>\n",
       "    </tr>\n",
       "    <tr>\n",
       "      <th>165</th>\n",
       "      <td>10.0</td>\n",
       "      <td>l2</td>\n",
       "      <td>word</td>\n",
       "      <td>0.75</td>\n",
       "      <td>(1, 1)</td>\n",
       "      <td>0.928394</td>\n",
       "      <td>0.928442</td>\n",
       "    </tr>\n",
       "    <tr>\n",
       "      <th>168</th>\n",
       "      <td>10.0</td>\n",
       "      <td>l2</td>\n",
       "      <td>word</td>\n",
       "      <td>1.00</td>\n",
       "      <td>(1, 1)</td>\n",
       "      <td>0.928037</td>\n",
       "      <td>0.928002</td>\n",
       "    </tr>\n",
       "    <tr>\n",
       "      <th>201</th>\n",
       "      <td>100.0</td>\n",
       "      <td>l2</td>\n",
       "      <td>word</td>\n",
       "      <td>0.75</td>\n",
       "      <td>(1, 1)</td>\n",
       "      <td>0.927143</td>\n",
       "      <td>0.927100</td>\n",
       "    </tr>\n",
       "    <tr>\n",
       "      <th>198</th>\n",
       "      <td>100.0</td>\n",
       "      <td>l2</td>\n",
       "      <td>word</td>\n",
       "      <td>0.50</td>\n",
       "      <td>(1, 1)</td>\n",
       "      <td>0.926786</td>\n",
       "      <td>0.926692</td>\n",
       "    </tr>\n",
       "    <tr>\n",
       "      <th>204</th>\n",
       "      <td>100.0</td>\n",
       "      <td>l2</td>\n",
       "      <td>word</td>\n",
       "      <td>1.00</td>\n",
       "      <td>(1, 1)</td>\n",
       "      <td>0.926429</td>\n",
       "      <td>0.926298</td>\n",
       "    </tr>\n",
       "    <tr>\n",
       "      <th>240</th>\n",
       "      <td>1000.0</td>\n",
       "      <td>l2</td>\n",
       "      <td>word</td>\n",
       "      <td>1.00</td>\n",
       "      <td>(1, 1)</td>\n",
       "      <td>0.925536</td>\n",
       "      <td>0.925395</td>\n",
       "    </tr>\n",
       "    <tr>\n",
       "      <th>237</th>\n",
       "      <td>1000.0</td>\n",
       "      <td>l2</td>\n",
       "      <td>word</td>\n",
       "      <td>0.75</td>\n",
       "      <td>(1, 1)</td>\n",
       "      <td>0.925179</td>\n",
       "      <td>0.924991</td>\n",
       "    </tr>\n",
       "    <tr>\n",
       "      <th>234</th>\n",
       "      <td>1000.0</td>\n",
       "      <td>l2</td>\n",
       "      <td>word</td>\n",
       "      <td>0.50</td>\n",
       "      <td>(1, 1)</td>\n",
       "      <td>0.924822</td>\n",
       "      <td>0.924662</td>\n",
       "    </tr>\n",
       "  </tbody>\n",
       "</table>\n",
       "</div>"
      ],
      "text/plain": [
       "    param_clf__C param_clf__penalty param_vect__analyzer param_vect__max_df  \\\n",
       "90           0.1                 l2                 word               0.50   \n",
       "96           0.1                 l2                 word               1.00   \n",
       "93           0.1                 l2                 word               0.75   \n",
       "129          1.0                 l2                 word               0.75   \n",
       "132          1.0                 l2                 word               1.00   \n",
       "126          1.0                 l2                 word               0.50   \n",
       "162         10.0                 l2                 word               0.50   \n",
       "165         10.0                 l2                 word               0.75   \n",
       "168         10.0                 l2                 word               1.00   \n",
       "201        100.0                 l2                 word               0.75   \n",
       "198        100.0                 l2                 word               0.50   \n",
       "204        100.0                 l2                 word               1.00   \n",
       "240       1000.0                 l2                 word               1.00   \n",
       "237       1000.0                 l2                 word               0.75   \n",
       "234       1000.0                 l2                 word               0.50   \n",
       "\n",
       "    param_vect__ngram_range  mean_test_accuracy  mean_test_f1  \n",
       "90                   (1, 1)            0.932144      0.932185  \n",
       "96                   (1, 1)            0.931609      0.931723  \n",
       "93                   (1, 1)            0.931430      0.931472  \n",
       "129                  (1, 1)            0.930537      0.930626  \n",
       "132                  (1, 1)            0.930180      0.930213  \n",
       "126                  (1, 1)            0.929823      0.929909  \n",
       "162                  (1, 1)            0.928929      0.928988  \n",
       "165                  (1, 1)            0.928394      0.928442  \n",
       "168                  (1, 1)            0.928037      0.928002  \n",
       "201                  (1, 1)            0.927143      0.927100  \n",
       "198                  (1, 1)            0.926786      0.926692  \n",
       "204                  (1, 1)            0.926429      0.926298  \n",
       "240                  (1, 1)            0.925536      0.925395  \n",
       "237                  (1, 1)            0.925179      0.924991  \n",
       "234                  (1, 1)            0.924822      0.924662  "
      ]
     },
     "execution_count": 76,
     "metadata": {},
     "output_type": "execute_result"
    }
   ],
   "source": [
    "Count_vectorized_model[['param_clf__C','param_clf__penalty','param_vect__analyzer','param_vect__max_df','param_vect__ngram_range','mean_test_accuracy','mean_test_f1']].sort_values('mean_test_accuracy', ascending=False).head(15)"
   ]
  },
  {
   "cell_type": "markdown",
   "metadata": {},
   "source": [
    "### Сравните, как изменяется качество решения задачи при использовании скрытых тем в качестве признаков:\n",
    "      1-ый вариант:  𝑡𝑓−𝑖𝑑𝑓  преобразование (sklearn.feature_extraction.text.TfidfTransformer) и сингулярное разложение (оно же – латентый семантический анализ) (sklearn.decomposition.TruncatedSVD),\n",
    "      2-ой вариант: тематические модели LDA (sklearn.decomposition.LatentDirichletAllocation)."
   ]
  },
  {
   "cell_type": "markdown",
   "metadata": {},
   "source": [
    "#### 1-ый вариант:  𝑡𝑓−𝑖𝑑𝑓  преобразование (sklearn.feature_extraction.text.TfidfTransformer) и сингулярное разложение (оно же – латентый семантический анализ) (sklearn.decomposition.TruncatedSVD),"
   ]
  },
  {
   "cell_type": "markdown",
   "metadata": {},
   "source": [
    "Попробуем только 𝑡𝑓−𝑖𝑑𝑓  "
   ]
  },
  {
   "cell_type": "code",
   "execution_count": 77,
   "metadata": {},
   "outputs": [],
   "source": [
    "clf_tf_idf = Pipeline([        \n",
    "   ('vect', CountVectorizer()), \n",
    "       ('tfidf', TfidfTransformer()),   \n",
    "   ('clf', LogisticRegression()),\n",
    "])"
   ]
  },
  {
   "cell_type": "code",
   "execution_count": 78,
   "metadata": {
    "scrolled": true
   },
   "outputs": [
    {
     "name": "stdout",
     "output_type": "stream",
     "text": [
      "Fitting 3 folds for each of 1008 candidates, totalling 3024 fits\n"
     ]
    },
    {
     "name": "stderr",
     "output_type": "stream",
     "text": [
      "[Parallel(n_jobs=-1)]: Using backend LokyBackend with 6 concurrent workers.\n",
      "[Parallel(n_jobs=-1)]: Done  38 tasks      | elapsed:   10.9s\n",
      "[Parallel(n_jobs=-1)]: Done 188 tasks      | elapsed:   52.1s\n",
      "[Parallel(n_jobs=-1)]: Done 438 tasks      | elapsed:  2.4min\n",
      "[Parallel(n_jobs=-1)]: Done 788 tasks      | elapsed:  4.3min\n",
      "[Parallel(n_jobs=-1)]: Done 1238 tasks      | elapsed:  6.8min\n",
      "[Parallel(n_jobs=-1)]: Done 1788 tasks      | elapsed: 10.0min\n",
      "[Parallel(n_jobs=-1)]: Done 2438 tasks      | elapsed: 14.4min\n",
      "[Parallel(n_jobs=-1)]: Done 3024 out of 3024 | elapsed: 20.7min finished\n"
     ]
    },
    {
     "name": "stdout",
     "output_type": "stream",
     "text": [
      "Pipeline(memory=None,\n",
      "         steps=[('vect',\n",
      "                 CountVectorizer(analyzer='word', binary=False,\n",
      "                                 decode_error='strict',\n",
      "                                 dtype=<class 'numpy.int64'>, encoding='utf-8',\n",
      "                                 input='content', lowercase=True, max_df=0.75,\n",
      "                                 max_features=None, min_df=1,\n",
      "                                 ngram_range=(1, 1), preprocessor=None,\n",
      "                                 stop_words=None, strip_accents=None,\n",
      "                                 token_pattern='(?u)\\\\b\\\\w\\\\w+\\\\b',\n",
      "                                 tokenizer=None, vocabulary=None)),\n",
      "                ('tfidf',\n",
      "                 TfidfTransformer(norm='l2', smooth_idf=True,\n",
      "                                  sublinear_tf=False, use_idf=True)),\n",
      "                ('clf',\n",
      "                 LogisticRegression(C=10.0, class_weight=None, dual=False,\n",
      "                                    fit_intercept=True, intercept_scaling=1,\n",
      "                                    l1_ratio=None, max_iter=100,\n",
      "                                    multi_class='auto', n_jobs=None,\n",
      "                                    penalty='l2', random_state=None,\n",
      "                                    solver='lbfgs', tol=0.0001, verbose=0,\n",
      "                                    warm_start=False))],\n",
      "         verbose=False)\n",
      "Best score: 0.942\n"
     ]
    }
   ],
   "source": [
    "params_tf_idf={\n",
    "    \n",
    "    'vect__analyzer':  ['word','char'],\n",
    "    \n",
    "    'tfidf__use_idf': (True, False),\n",
    "    'tfidf__norm': ('l1', 'l2'),\n",
    "    'vect__max_df': (0.5, 0.75, 1.0),\n",
    "    'vect__ngram_range': [(1, 1), (2, 2), (3, 3)],\n",
    "     \"clf__C\": np.logspace(-3,3,7),\n",
    "     \"clf__penalty\":[\"l1\",\"l2\"] \n",
    "}\n",
    "scores=[ 'accuracy','f1']\n",
    "grid_tf_idf = GridSearchCV(clf_tf_idf, param_grid=params_tf_idf, cv=3,\n",
    "                         scoring=scores,refit=scores[0],\n",
    "                         n_jobs=-1, verbose=1)\n",
    "grid_tf_idf.fit(X_train, y_train)\n",
    "print(grid_tf_idf.best_estimator_)\n",
    "print(\"Best score: %0.3f\" % grid_tf_idf.best_score_)"
   ]
  },
  {
   "cell_type": "code",
   "execution_count": 79,
   "metadata": {},
   "outputs": [
    {
     "data": {
      "text/plain": [
       "dict_keys(['memory', 'steps', 'verbose', 'vect', 'tfidf', 'clf', 'vect__analyzer', 'vect__binary', 'vect__decode_error', 'vect__dtype', 'vect__encoding', 'vect__input', 'vect__lowercase', 'vect__max_df', 'vect__max_features', 'vect__min_df', 'vect__ngram_range', 'vect__preprocessor', 'vect__stop_words', 'vect__strip_accents', 'vect__token_pattern', 'vect__tokenizer', 'vect__vocabulary', 'tfidf__norm', 'tfidf__smooth_idf', 'tfidf__sublinear_tf', 'tfidf__use_idf', 'clf__C', 'clf__class_weight', 'clf__dual', 'clf__fit_intercept', 'clf__intercept_scaling', 'clf__l1_ratio', 'clf__max_iter', 'clf__multi_class', 'clf__n_jobs', 'clf__penalty', 'clf__random_state', 'clf__solver', 'clf__tol', 'clf__verbose', 'clf__warm_start'])"
      ]
     },
     "execution_count": 79,
     "metadata": {},
     "output_type": "execute_result"
    }
   ],
   "source": [
    "grid_tf_idf.estimator.get_params().keys()"
   ]
  },
  {
   "cell_type": "markdown",
   "metadata": {},
   "source": [
    "Немного улучшились реузльтаты"
   ]
  },
  {
   "cell_type": "code",
   "execution_count": 80,
   "metadata": {
    "scrolled": true
   },
   "outputs": [
    {
     "name": "stdout",
     "output_type": "stream",
     "text": [
      "Precision:   0.95\n",
      "Recall:   0.95\n",
      "F1-measure:   0.95\n",
      "Accuracy:   0.95\n",
      "              precision    recall  f1-score   support\n",
      "\n",
      "         1.0       0.94      0.95      0.95      1200\n",
      "         5.0       0.95      0.94      0.95      1200\n",
      "\n",
      "    accuracy                           0.95      2400\n",
      "   macro avg       0.95      0.95      0.95      2400\n",
      "weighted avg       0.95      0.95      0.95      2400\n",
      "\n"
     ]
    },
    {
     "data": {
      "image/png": "[encoded data removed]",
      "text/plain": [
       "<Figure size 432x288 with 1 Axes>"
      ]
     },
     "metadata": {
      "needs_background": "light"
     },
     "output_type": "display_data"
    }
   ],
   "source": [
    "predictions=grid_tf_idf.best_estimator_.predict(X_test)\n",
    "print(\"Precision: {0:6.2f}\".format(precision_score(y_test, predictions, average='macro')))\n",
    "print(\"Recall: {0:6.2f}\".format(recall_score(y_test, predictions, average='macro')))\n",
    "print(\"F1-measure: {0:6.2f}\".format(f1_score(y_test, predictions, average='macro')))\n",
    "print(\"Accuracy: {0:6.2f}\".format(accuracy_score(y_test, predictions)))\n",
    "print(classification_report(y_test, predictions))\n",
    "\n",
    "labels = grid_tf_idf.best_estimator_.classes_\n",
    "sns.heatmap(data=confusion_matrix(y_test, predictions), annot=True, fmt=\"d\", cbar=False, xticklabels=labels, yticklabels=labels)\n",
    "plt.title(\"Confusion matrix\")\n",
    "plt.show()"
   ]
  },
  {
   "cell_type": "markdown",
   "metadata": {},
   "source": [
    "Попробуем добавить сигнулярное разложение"
   ]
  },
  {
   "cell_type": "code",
   "execution_count": 84,
   "metadata": {},
   "outputs": [],
   "source": [
    " clf_tf_idf_TruncatedSVD = Pipeline([    \n",
    "   ('vect', CountVectorizer()),\n",
    "    ('tfidf', TfidfTransformer()),   \n",
    "    ('tsvd', TruncatedSVD()),   \n",
    "   ('clf', LogisticRegression()),\n",
    "])"
   ]
  },
  {
   "cell_type": "code",
   "execution_count": 85,
   "metadata": {},
   "outputs": [
    {
     "name": "stdout",
     "output_type": "stream",
     "text": [
      "Fitting 3 folds for each of 210 candidates, totalling 630 fits\n"
     ]
    },
    {
     "name": "stderr",
     "output_type": "stream",
     "text": [
      "[Parallel(n_jobs=-1)]: Using backend LokyBackend with 6 concurrent workers.\n",
      "[Parallel(n_jobs=-1)]: Done  38 tasks      | elapsed:   54.4s\n",
      "[Parallel(n_jobs=-1)]: Done 188 tasks      | elapsed:  5.6min\n",
      "[Parallel(n_jobs=-1)]: Done 438 tasks      | elapsed: 13.3min\n",
      "[Parallel(n_jobs=-1)]: Done 630 out of 630 | elapsed: 19.8min finished\n"
     ]
    },
    {
     "name": "stdout",
     "output_type": "stream",
     "text": [
      "Pipeline(memory=None,\n",
      "         steps=[('vect',\n",
      "                 CountVectorizer(analyzer='word', binary=False,\n",
      "                                 decode_error='strict',\n",
      "                                 dtype=<class 'numpy.int64'>, encoding='utf-8',\n",
      "                                 input='content', lowercase=True, max_df=1.0,\n",
      "                                 max_features=None, min_df=1,\n",
      "                                 ngram_range=(1, 1), preprocessor=None,\n",
      "                                 stop_words=None, strip_accents=None,\n",
      "                                 token_pattern='(?u)\\\\b\\\\w\\\\w+\\\\b',\n",
      "                                 tokenizer=None, vocabulary=Non...\n",
      "                 TruncatedSVD(algorithm='randomized', n_components=100,\n",
      "                              n_iter=5, random_state=None, tol=0.0)),\n",
      "                ('clf',\n",
      "                 LogisticRegression(C=100.0, class_weight=None, dual=False,\n",
      "                                    fit_intercept=True, intercept_scaling=1,\n",
      "                                    l1_ratio=None, max_iter=100,\n",
      "                                    multi_class='auto', n_jobs=None,\n",
      "                                    penalty='l2', random_state=None,\n",
      "                                    solver='lbfgs', tol=0.0001, verbose=0,\n",
      "                                    warm_start=False))],\n",
      "         verbose=False)\n",
      "Best score: 0.928\n"
     ]
    }
   ],
   "source": [
    "params_tf_idf_TruncatedSVD={\n",
    "    \n",
    "    'vect__analyzer':  ['word'],\n",
    "    #'vect__max_df': (0.5, 0.75, 1.0),\n",
    "    'vect__ngram_range': [(1, 1), (2, 2), (3, 3)],\n",
    "    #'tfidf__use_idf': (True, False),\n",
    "    #'tfidf__norm': ('l1', 'l2'),\n",
    "    'tsvd__n_components' : [5,10,25,50,100],\n",
    "     \"clf__C\": np.logspace(-3,3,7),\n",
    "     \"clf__penalty\":[\"l1\",\"l2\"]\n",
    "}\n",
    "\n",
    "scores=[ 'accuracy','f1']\n",
    "grid_tf_idf_TruncatedSVD = GridSearchCV(clf_tf_idf_TruncatedSVD, param_grid=params_tf_idf_TruncatedSVD, cv=3,\n",
    "                         scoring=scores,refit=scores[0],\n",
    "                         n_jobs=-1, verbose=1)\n",
    "grid_tf_idf_TruncatedSVD.fit(X_train, y_train)\n",
    "print(grid_tf_idf_TruncatedSVD.best_estimator_)\n",
    "print(\"Best score: %0.3f\" % grid_tf_idf_TruncatedSVD.best_score_)"
   ]
  },
  {
   "cell_type": "code",
   "execution_count": 86,
   "metadata": {},
   "outputs": [
    {
     "name": "stdout",
     "output_type": "stream",
     "text": [
      "Precision:   0.93\n",
      "Recall:   0.93\n",
      "F1-measure:   0.93\n",
      "Accuracy:   0.93\n",
      "              precision    recall  f1-score   support\n",
      "\n",
      "         1.0       0.92      0.93      0.93      1200\n",
      "         5.0       0.93      0.92      0.93      1200\n",
      "\n",
      "    accuracy                           0.93      2400\n",
      "   macro avg       0.93      0.93      0.93      2400\n",
      "weighted avg       0.93      0.93      0.93      2400\n",
      "\n"
     ]
    },
    {
     "data": {
      "image/png": "[encoded data removed]",
      "text/plain": [
       "<Figure size 432x288 with 1 Axes>"
      ]
     },
     "metadata": {
      "needs_background": "light"
     },
     "output_type": "display_data"
    }
   ],
   "source": [
    "predictions=grid_tf_idf_TruncatedSVD.best_estimator_.predict(X_test)\n",
    "print(\"Precision: {0:6.2f}\".format(precision_score(y_test, predictions, average='macro')))\n",
    "print(\"Recall: {0:6.2f}\".format(recall_score(y_test, predictions, average='macro')))\n",
    "print(\"F1-measure: {0:6.2f}\".format(f1_score(y_test, predictions, average='macro')))\n",
    "print(\"Accuracy: {0:6.2f}\".format(accuracy_score(y_test, predictions)))\n",
    "print(classification_report(y_test, predictions))\n",
    "\n",
    "labels = grid_tf_idf_TruncatedSVD.best_estimator_.classes_\n",
    "sns.heatmap(data=confusion_matrix(y_test, predictions), annot=True, fmt=\"d\", cbar=False, xticklabels=labels, yticklabels=labels)\n",
    "plt.title(\"Confusion matrix\")\n",
    "plt.show()"
   ]
  },
  {
   "cell_type": "markdown",
   "metadata": {},
   "source": [
    "#### 2-ой вариант: тематические модели LDA (sklearn.decomposition.LatentDirichletAllocation)."
   ]
  },
  {
   "cell_type": "code",
   "execution_count": 87,
   "metadata": {},
   "outputs": [],
   "source": [
    "clf_tf_idf_LDA = Pipeline([\n",
    "   ('vect', CountVectorizer()),   \n",
    "    ('lda', LatentDirichletAllocation()),   \n",
    "   ('clf', LogisticRegression()),\n",
    "])"
   ]
  },
  {
   "cell_type": "code",
   "execution_count": 88,
   "metadata": {
    "scrolled": true
   },
   "outputs": [
    {
     "name": "stdout",
     "output_type": "stream",
     "text": [
      "Fitting 3 folds for each of 126 candidates, totalling 378 fits\n"
     ]
    },
    {
     "name": "stderr",
     "output_type": "stream",
     "text": [
      "[Parallel(n_jobs=-1)]: Using backend LokyBackend with 6 concurrent workers.\n",
      "[Parallel(n_jobs=-1)]: Done  38 tasks      | elapsed:  4.4min\n",
      "[Parallel(n_jobs=-1)]: Done 188 tasks      | elapsed: 24.3min\n",
      "[Parallel(n_jobs=-1)]: Done 378 out of 378 | elapsed: 48.7min finished\n"
     ]
    },
    {
     "name": "stdout",
     "output_type": "stream",
     "text": [
      "Pipeline(memory=None,\n",
      "         steps=[('vect',\n",
      "                 CountVectorizer(analyzer='word', binary=False,\n",
      "                                 decode_error='strict',\n",
      "                                 dtype=<class 'numpy.int64'>, encoding='utf-8',\n",
      "                                 input='content', lowercase=True, max_df=0.75,\n",
      "                                 max_features=None, min_df=1,\n",
      "                                 ngram_range=(1, 1), preprocessor=None,\n",
      "                                 stop_words=None, strip_accents=None,\n",
      "                                 token_pattern='(?u)\\\\b\\\\w\\\\w+\\\\b',\n",
      "                                 tokenizer=None, vocabulary=No...\n",
      "                                           perp_tol=0.1, random_state=None,\n",
      "                                           topic_word_prior=None,\n",
      "                                           total_samples=1000000.0,\n",
      "                                           verbose=0)),\n",
      "                ('clf',\n",
      "                 LogisticRegression(C=1000.0, class_weight=None, dual=False,\n",
      "                                    fit_intercept=True, intercept_scaling=1,\n",
      "                                    l1_ratio=None, max_iter=100,\n",
      "                                    multi_class='auto', n_jobs=None,\n",
      "                                    penalty='l2', random_state=None,\n",
      "                                    solver='lbfgs', tol=0.0001, verbose=0,\n",
      "                                    warm_start=False))],\n",
      "         verbose=False)\n",
      "Best score: 0.880\n"
     ]
    }
   ],
   "source": [
    "params_tf_idf_LDA={    \n",
    "    'vect__analyzer':  ['word'],\n",
    "    'vect__max_df': [0.75],\n",
    "    'vect__ngram_range': [(1, 1), (2, 2), (3, 3)],\n",
    "    'lda__n_components' : [25,50,100],\n",
    "     \"clf__C\": np.logspace(-3,3,7),\n",
    "     \"clf__penalty\":[\"l1\",\"l2\"]\n",
    "}\n",
    "\n",
    "scores=[ 'accuracy','f1']\n",
    "grid_tf_idf_LDA = GridSearchCV(clf_tf_idf_LDA, param_grid=params_tf_idf_LDA, cv=3,\n",
    "                         scoring=scores,refit=scores[0],\n",
    "                         n_jobs=-1, verbose=1)\n",
    "grid_tf_idf_LDA.fit(X_train, y_train)\n",
    "print(grid_tf_idf_LDA.best_estimator_)\n",
    "print(\"Best score: %0.3f\" % grid_tf_idf_LDA.best_score_)"
   ]
  },
  {
   "cell_type": "markdown",
   "metadata": {},
   "source": [
    "LDA сильно ухудшил результаты"
   ]
  },
  {
   "cell_type": "code",
   "execution_count": 89,
   "metadata": {},
   "outputs": [
    {
     "name": "stdout",
     "output_type": "stream",
     "text": [
      "Precision:   0.89\n",
      "Recall:   0.89\n",
      "F1-measure:   0.89\n",
      "Accuracy:   0.89\n",
      "              precision    recall  f1-score   support\n",
      "\n",
      "         1.0       0.89      0.90      0.89      1200\n",
      "         5.0       0.90      0.89      0.89      1200\n",
      "\n",
      "    accuracy                           0.89      2400\n",
      "   macro avg       0.89      0.89      0.89      2400\n",
      "weighted avg       0.89      0.89      0.89      2400\n",
      "\n"
     ]
    },
    {
     "data": {
      "image/png": "[encoded data removed]",
      "text/plain": [
       "<Figure size 432x288 with 1 Axes>"
      ]
     },
     "metadata": {
      "needs_background": "light"
     },
     "output_type": "display_data"
    }
   ],
   "source": [
    "predictions=grid_tf_idf_LDA.best_estimator_.predict(X_test)\n",
    "print(\"Precision: {0:6.2f}\".format(precision_score(y_test, predictions, average='macro')))\n",
    "print(\"Recall: {0:6.2f}\".format(recall_score(y_test, predictions, average='macro')))\n",
    "print(\"F1-measure: {0:6.2f}\".format(f1_score(y_test, predictions, average='macro')))\n",
    "print(\"Accuracy: {0:6.2f}\".format(accuracy_score(y_test, predictions)))\n",
    "print(classification_report(y_test, predictions))\n",
    "\n",
    "labels = grid_tf_idf_LDA.best_estimator_.classes_\n",
    "sns.heatmap(data=confusion_matrix(y_test, predictions), annot=True, fmt=\"d\", cbar=False, xticklabels=labels, yticklabels=labels)\n",
    "plt.title(\"Confusion matrix\")\n",
    "plt.show()"
   ]
  },
  {
   "cell_type": "markdown",
   "metadata": {},
   "source": [
    "Итого:"
   ]
  },
  {
   "cell_type": "code",
   "execution_count": 90,
   "metadata": {},
   "outputs": [
    {
     "name": "stdout",
     "output_type": "stream",
     "text": [
      "model:  cntv\n",
      "F1-measure:  0.935 ; Accuracy:  0.935\n",
      "model:  tf_idf\n",
      "F1-measure:  0.946 ; Accuracy:  0.946\n",
      "model:  tf_idf_TruncatedSVD\n",
      "F1-measure:  0.926 ; Accuracy:  0.926\n",
      "model:  tf_idf_LDA\n",
      "F1-measure:  0.892 ; Accuracy:  0.892\n"
     ]
    }
   ],
   "source": [
    "models=['grid_cntv', 'grid_tf_idf' ,'grid_tf_idf_TruncatedSVD', 'grid_tf_idf_LDA']\n",
    "for model in models:\n",
    "\n",
    "    print('model: ',model[5:])\n",
    "    predictions=eval(model).best_estimator_.predict(X_test)\n",
    "    print(\"F1-measure: {0:6.3f}\".format(f1_score(y_test, predictions, average='macro')),';',\"Accuracy: {0:6.3f}\".format(accuracy_score(y_test, predictions)))"
   ]
  },
  {
   "cell_type": "markdown",
   "metadata": {},
   "source": [
    "#### TF-IDF показывает лучший результат"
   ]
  },
  {
   "cell_type": "code",
   "execution_count": null,
   "metadata": {},
   "outputs": [],
   "source": []
  }
 ],
 "metadata": {
  "kernelspec": {
   "display_name": "Python 3",
   "language": "python",
   "name": "python3"
  },
  "language_info": {
   "codemirror_mode": {
    "name": "ipython",
    "version": 3
   },
   "file_extension": ".py",
   "mimetype": "text/x-python",
   "name": "python",
   "nbconvert_exporter": "python",
   "pygments_lexer": "ipython3",
   "version": "3.7.6"
  }
 },
 "nbformat": 4,
 "nbformat_minor": 2
}
