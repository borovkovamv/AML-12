{
 "cells": [
  {
   "cell_type": "markdown",
   "metadata": {},
   "source": [
    "### Задание к теме: «Гибридные рекомендательные системы»"
   ]
  },
  {
   "cell_type": "code",
   "execution_count": 48,
   "metadata": {},
   "outputs": [],
   "source": [
    "from surprise import SVD\n",
    "from surprise import Dataset\n",
    "from surprise import accuracy\n",
    "from surprise import Reader\n",
    "from surprise.model_selection import train_test_split\n",
    "from surprise.model_selection import cross_validate\n",
    "import pandas as pd\n",
    "import numpy as np\n"
   ]
  },
  {
   "cell_type": "code",
   "execution_count": 49,
   "metadata": {},
   "outputs": [],
   "source": [
    "movies = pd.read_csv('ml-latest-small/movies.csv')\n",
    "ratings = pd.read_csv('ml-latest-small/ratings.csv')"
   ]
  },
  {
   "cell_type": "code",
   "execution_count": 50,
   "metadata": {},
   "outputs": [],
   "source": [
    "data = movies.join(ratings.set_index('movieId'), on='movieId').reset_index(drop=True)\n",
    "data.dropna(inplace=True)"
   ]
  },
  {
   "cell_type": "markdown",
   "metadata": {},
   "source": [
    "строим модель для предсказания рейтинга пользователя"
   ]
  },
  {
   "cell_type": "code",
   "execution_count": 51,
   "metadata": {},
   "outputs": [],
   "source": [
    "# задаем датасет в формате surprise\n",
    "dataset = pd.DataFrame({\n",
    "    'uid': data.userId,\n",
    "    'iid': data.title,\n",
    "    'rating': data.rating\n",
    "})"
   ]
  },
  {
   "cell_type": "code",
   "execution_count": 52,
   "metadata": {},
   "outputs": [
    {
     "name": "stdout",
     "output_type": "stream",
     "text": [
      "min: 0.5\n",
      "max: 5.0\n"
     ]
    }
   ],
   "source": [
    "print(f'min: {dataset.rating.min()}')\n",
    "print(f'max: {dataset.rating.max()}')"
   ]
  },
  {
   "cell_type": "code",
   "execution_count": 53,
   "metadata": {},
   "outputs": [],
   "source": [
    "reader = Reader(rating_scale=(0.5, 5.0))\n",
    "data_surprise = Dataset.load_from_df(dataset, reader)"
   ]
  },
  {
   "cell_type": "code",
   "execution_count": 54,
   "metadata": {},
   "outputs": [],
   "source": [
    "trainset, testset = train_test_split(data_surprise, test_size=.15, random_state=42)"
   ]
  },
  {
   "cell_type": "code",
   "execution_count": 55,
   "metadata": {},
   "outputs": [
    {
     "data": {
      "text/plain": [
       "<surprise.prediction_algorithms.matrix_factorization.SVD at 0x240a64b7ec8>"
      ]
     },
     "execution_count": 55,
     "metadata": {},
     "output_type": "execute_result"
    }
   ],
   "source": [
    "# модель SVD\n",
    "model = SVD(n_factors=20, n_epochs=20)\n",
    "model.fit(trainset)"
   ]
  },
  {
   "cell_type": "code",
   "execution_count": 56,
   "metadata": {},
   "outputs": [
    {
     "name": "stdout",
     "output_type": "stream",
     "text": [
      "RMSE: 0.8667\n"
     ]
    },
    {
     "data": {
      "text/plain": [
       "0.8667367375454882"
      ]
     },
     "execution_count": 56,
     "metadata": {},
     "output_type": "execute_result"
    }
   ],
   "source": [
    "# RMSE\n",
    "test_pred = model.test(testset)\n",
    "accuracy.rmse(test_pred, verbose=True)"
   ]
  },
  {
   "cell_type": "code",
   "execution_count": 57,
   "metadata": {},
   "outputs": [
    {
     "name": "stdout",
     "output_type": "stream",
     "text": [
      "Evaluating RMSE of algorithm SVD on 5 split(s).\n",
      "\n",
      "                  Fold 1  Fold 2  Fold 3  Fold 4  Fold 5  Mean    Std     \n",
      "RMSE (testset)    0.8727  0.8684  0.8734  0.8663  0.8700  0.8702  0.0027  \n",
      "Fit time          1.53    1.52    1.52    1.50    1.53    1.52    0.01    \n",
      "Test time         0.14    0.09    0.09    0.14    0.15    0.12    0.02    \n"
     ]
    }
   ],
   "source": [
    "# оценка на кросс-валидации\n",
    "res = cross_validate(model, data_surprise, measures=['RMSE'], cv=5, verbose=True)"
   ]
  },
  {
   "cell_type": "code",
   "execution_count": 58,
   "metadata": {},
   "outputs": [
    {
     "name": "stdout",
     "output_type": "stream",
     "text": [
      "0.8701671131301678\n"
     ]
    }
   ],
   "source": [
    "print(f\"{res['test_rmse'].mean()}\")"
   ]
  },
  {
   "cell_type": "code",
   "execution_count": 59,
   "metadata": {},
   "outputs": [],
   "source": [
    "# определяем пользователя и фильмы которые он посмотрел\n",
    "user = 13\n",
    "user_movies = data[data.userId == user].title.unique()"
   ]
  },
  {
   "cell_type": "code",
   "execution_count": 60,
   "metadata": {},
   "outputs": [],
   "source": [
    "# формируем списки по предсказанию и наименовнию фильма\n",
    "pred_rating = []\n",
    "titles = []\n",
    "\n",
    "for movie in data.title.unique():\n",
    "    if movie in user_movies:\n",
    "        continue\n",
    "        \n",
    "    pred_rating.append(algo.predict(uid=user, iid=movie).est)\n",
    "    titles.append(movie)"
   ]
  },
  {
   "cell_type": "code",
   "execution_count": 61,
   "metadata": {},
   "outputs": [],
   "source": [
    "# база фильмов которые пользователь не смотрел и прогнозный рейтинг фильму от пользователя\n",
    "movies_not_watch = pd.DataFrame({'title': titles, 'pred_r': pred_rating})"
   ]
  },
  {
   "cell_type": "code",
   "execution_count": 62,
   "metadata": {},
   "outputs": [],
   "source": [
    "# берем топ 10 фильмом из потенциального прогноза пользователя\n",
    "most_interesting = movies_not_watch.sort_values(by='pred_r', ascending=False)[:10]"
   ]
  },
  {
   "cell_type": "code",
   "execution_count": 63,
   "metadata": {},
   "outputs": [],
   "source": [
    "# формируем базу фильмов с средним рейтингом по фактическим оценкам пользователя\n",
    "movies_with_mean_rating = pd.DataFrame(data.groupby('title').rating.mean()).reset_index()"
   ]
  },
  {
   "cell_type": "code",
   "execution_count": 64,
   "metadata": {},
   "outputs": [],
   "source": [
    "# задаем функцию которая добавит средний рейтинг\n",
    "def add_mean(row):\n",
    "    return movies_with_mean_rating[movies_with_mean_rating.title == row].rating.sum()"
   ]
  },
  {
   "cell_type": "code",
   "execution_count": 65,
   "metadata": {},
   "outputs": [],
   "source": [
    "# в понтенциальные топ 10 добавляем фактический средний рейтинг\n",
    "most_interesting['mean_rating'] = most_interesting.title.apply(add_mean)"
   ]
  },
  {
   "cell_type": "code",
   "execution_count": 66,
   "metadata": {},
   "outputs": [],
   "source": [
    "# создаем метрику которая взвешивает два подхода на 70/30 процентов\n",
    "most_interesting['common_rating'] = most_interesting.pred_r*0.7 + most_interesting.mean_rating*0.3"
   ]
  },
  {
   "cell_type": "code",
   "execution_count": 67,
   "metadata": {},
   "outputs": [
    {
     "data": {
      "text/html": [
       "<div>\n",
       "<style scoped>\n",
       "    .dataframe tbody tr th:only-of-type {\n",
       "        vertical-align: middle;\n",
       "    }\n",
       "\n",
       "    .dataframe tbody tr th {\n",
       "        vertical-align: top;\n",
       "    }\n",
       "\n",
       "    .dataframe thead th {\n",
       "        text-align: right;\n",
       "    }\n",
       "</style>\n",
       "<table border=\"1\" class=\"dataframe\">\n",
       "  <thead>\n",
       "    <tr style=\"text-align: right;\">\n",
       "      <th></th>\n",
       "      <th>title</th>\n",
       "      <th>common_rating</th>\n",
       "    </tr>\n",
       "  </thead>\n",
       "  <tbody>\n",
       "    <tr>\n",
       "      <th>656</th>\n",
       "      <td>Godfather, The (1972)</td>\n",
       "      <td>4.414372</td>\n",
       "    </tr>\n",
       "    <tr>\n",
       "      <th>2211</th>\n",
       "      <td>Fight Club (1999)</td>\n",
       "      <td>4.408199</td>\n",
       "    </tr>\n",
       "    <tr>\n",
       "      <th>45</th>\n",
       "      <td>Usual Suspects, The (1995)</td>\n",
       "      <td>4.398905</td>\n",
       "    </tr>\n",
       "    <tr>\n",
       "      <th>275</th>\n",
       "      <td>Shawshank Redemption, The (1994)</td>\n",
       "      <td>4.393601</td>\n",
       "    </tr>\n",
       "    <tr>\n",
       "      <th>916</th>\n",
       "      <td>Godfather: Part II, The (1974)</td>\n",
       "      <td>4.359118</td>\n",
       "    </tr>\n",
       "  </tbody>\n",
       "</table>\n",
       "</div>"
      ],
      "text/plain": [
       "                                 title  common_rating\n",
       "656              Godfather, The (1972)       4.414372\n",
       "2211                 Fight Club (1999)       4.408199\n",
       "45          Usual Suspects, The (1995)       4.398905\n",
       "275   Shawshank Redemption, The (1994)       4.393601\n",
       "916     Godfather: Part II, The (1974)       4.359118"
      ]
     },
     "execution_count": 67,
     "metadata": {},
     "output_type": "execute_result"
    }
   ],
   "source": [
    "# формируем топ 5 рекомендации, на основе финальной метрики\n",
    "recommend_for_user = most_interesting.sort_values(by='common_rating', ascending=False)[:5][['title', 'common_rating']]\n",
    "recommend_for_user"
   ]
  },
  {
   "cell_type": "code",
   "execution_count": null,
   "metadata": {},
   "outputs": [],
   "source": []
  }
 ],
 "metadata": {
  "kernelspec": {
   "display_name": "Python 3",
   "language": "python",
   "name": "python3"
  },
  "language_info": {
   "codemirror_mode": {
    "name": "ipython",
    "version": 3
   },
   "file_extension": ".py",
   "mimetype": "text/x-python",
   "name": "python",
   "nbconvert_exporter": "python",
   "pygments_lexer": "ipython3",
   "version": "3.7.6"
  }
 },
 "nbformat": 4,
 "nbformat_minor": 2
}
